{
 "metadata": {
  "name": "",
  "signature": "sha256:22fb29725e7dfaaabfab26b18b8043c8a11245762ef84b24c15e7a9914946f04"
 },
 "nbformat": 3,
 "nbformat_minor": 0,
 "worksheets": [
  {
   "cells": [
    {
     "cell_type": "markdown",
     "metadata": {},
     "source": [
      "## Dependencies\n",
      "  \n",
      "Version info from watermark and pip freeze at the [end of the notebook](#sys_info)"
     ]
    },
    {
     "cell_type": "code",
     "collapsed": false,
     "input": [
      "from datetime import datetime\n",
      "from time import sleep\n",
      "import re\n",
      "from pprint import PrettyPrinter\n",
      "from urllib.request import urlopen\n",
      "\n",
      "from bs4 import BeautifulSoup # http://www.crummy.com/software/BeautifulSoup/bs4/doc/\n",
      "from bs4.element import NavigableString\n",
      "from markdown import markdown\n",
      "import pyprind  # progress bar, e.g. here: http://nbviewer.ipython.org/github/rasbt/pyprind/blob/master/examples/pyprind_demo.ipynb\n",
      "import pandas as pd"
     ],
     "language": "python",
     "metadata": {},
     "outputs": [],
     "prompt_number": 2
    },
    {
     "cell_type": "markdown",
     "metadata": {},
     "source": [
      "## Scrape Pycon Talks Data from the Web"
     ]
    },
    {
     "cell_type": "code",
     "collapsed": false,
     "input": [
      "sched_html = urlopen(\"https://us.pycon.org/2015/schedule/\")\n",
      "\n",
      "if sched_html.status != 200:\n",
      "    print ('Error: ', sched_html.status)\n",
      "else:\n",
      "    sched_soup = BeautifulSoup( sched_html.read() )"
     ],
     "language": "python",
     "metadata": {},
     "outputs": [],
     "prompt_number": 7
    },
    {
     "cell_type": "code",
     "collapsed": false,
     "input": [
      "to_scrape = []\n",
      "\n",
      "talk_links = sched_soup.select(\"td.slot-talk span.title a\")\n",
      "tut_links = sched_soup.select(\"td.slot-tutorial span.title a\")\n",
      "\n",
      "for t in talk_links + tut_links:\n",
      "    to_scrape.append( t.attrs.get('href') )\n",
      "    \n",
      "list(enumerate(to_scrape))[-5:]"
     ],
     "language": "python",
     "metadata": {},
     "outputs": [
      {
       "metadata": {},
       "output_type": "pyout",
       "prompt_number": 8,
       "text": [
        "[(126, '/2015/schedule/presentation/330/'),\n",
        " (127, '/2015/schedule/presentation/322/'),\n",
        " (128, '/2015/schedule/presentation/318/'),\n",
        " (129, '/2015/schedule/presentation/299/'),\n",
        " (130, '/2015/schedule/presentation/466/')]"
       ]
      }
     ],
     "prompt_number": 8
    },
    {
     "cell_type": "code",
     "collapsed": false,
     "input": [
      "# Scrape all the talk html pages\n",
      "soups = {}\n",
      "perc = pyprind.ProgPercent( len(to_scrape) )\n",
      "\n",
      "for relative_url in to_scrape:\n",
      "    \n",
      "    perc.update()\n",
      "    \n",
      "    uri = \"https://us.pycon.org\" + relative_url\n",
      "    talk_html = urlopen( uri )\n",
      "    soups[uri] = BeautifulSoup( talk_html.read() )\n",
      "    \n",
      "    sleep(0.5) # Be nice.\n",
      "    "
     ],
     "language": "python",
     "metadata": {},
     "outputs": [
      {
       "output_type": "stream",
       "stream": "stderr",
       "text": [
        "\r",
        "[  0 %] elapsed[sec]: 0.001 | ETA[sec]: 1.000 "
       ]
      },
      {
       "output_type": "stream",
       "stream": "stderr",
       "text": [
        "\r",
        "[  1 %] elapsed[sec]: 2.953 | ETA[sec]: 190.466 "
       ]
      },
      {
       "output_type": "stream",
       "stream": "stderr",
       "text": [
        "\r",
        "[  2 %] elapsed[sec]: 7.764 | ETA[sec]: 331.286 "
       ]
      },
      {
       "output_type": "stream",
       "stream": "stderr",
       "text": [
        "\r",
        "[  3 %] elapsed[sec]: 10.842 | ETA[sec]: 344.240 "
       ]
      },
      {
       "output_type": "stream",
       "stream": "stderr",
       "text": [
        "\r",
        "[  3 %] elapsed[sec]: 13.894 | ETA[sec]: 350.118 "
       ]
      },
      {
       "output_type": "stream",
       "stream": "stderr",
       "text": [
        "\r",
        "[  4 %] elapsed[sec]: 16.842 | ETA[sec]: 350.879 "
       ]
      },
      {
       "output_type": "stream",
       "stream": "stderr",
       "text": [
        "\r",
        "[  5 %] elapsed[sec]: 19.798 | ETA[sec]: 350.714 "
       ]
      },
      {
       "output_type": "stream",
       "stream": "stderr",
       "text": [
        "\r",
        "[  6 %] elapsed[sec]: 22.792 | ETA[sec]: 350.422 "
       ]
      },
      {
       "output_type": "stream",
       "stream": "stderr",
       "text": [
        "\r",
        "[  6 %] elapsed[sec]: 25.752 | ETA[sec]: 349.089 "
       ]
      },
      {
       "output_type": "stream",
       "stream": "stderr",
       "text": [
        "\r",
        "[  7 %] elapsed[sec]: 28.741 | ETA[sec]: 347.761 "
       ]
      },
      {
       "output_type": "stream",
       "stream": "stderr",
       "text": [
        "\r",
        "[  8 %] elapsed[sec]: 31.794 | ETA[sec]: 346.844 "
       ]
      },
      {
       "output_type": "stream",
       "stream": "stderr",
       "text": [
        "\r",
        "[  9 %] elapsed[sec]: 34.743 | ETA[sec]: 344.539 "
       ]
      },
      {
       "output_type": "stream",
       "stream": "stderr",
       "text": [
        "\r",
        "[  9 %] elapsed[sec]: 37.715 | ETA[sec]: 342.337 "
       ]
      },
      {
       "output_type": "stream",
       "stream": "stderr",
       "text": [
        "\r",
        "[ 10 %] elapsed[sec]: 40.794 | ETA[sec]: 340.924 "
       ]
      },
      {
       "output_type": "stream",
       "stream": "stderr",
       "text": [
        "\r",
        "[ 11 %] elapsed[sec]: 43.988 | ETA[sec]: 340.174 "
       ]
      },
      {
       "output_type": "stream",
       "stream": "stderr",
       "text": [
        "\r",
        "[ 12 %] elapsed[sec]: 47.319 | ETA[sec]: 340.105 "
       ]
      },
      {
       "output_type": "stream",
       "stream": "stderr",
       "text": [
        "\r",
        "[ 12 %] elapsed[sec]: 50.324 | ETA[sec]: 337.469 "
       ]
      },
      {
       "output_type": "stream",
       "stream": "stderr",
       "text": [
        "\r",
        "[ 13 %] elapsed[sec]: 53.420 | ETA[sec]: 335.359 "
       ]
      },
      {
       "output_type": "stream",
       "stream": "stderr",
       "text": [
        "\r",
        "[ 14 %] elapsed[sec]: 56.887 | ETA[sec]: 335.337 "
       ]
      },
      {
       "output_type": "stream",
       "stream": "stderr",
       "text": [
        "\r",
        "[ 15 %] elapsed[sec]: 60.058 | ETA[sec]: 333.323 "
       ]
      },
      {
       "output_type": "stream",
       "stream": "stderr",
       "text": [
        "\r",
        "[ 16 %] elapsed[sec]: 63.093 | ETA[sec]: 330.489 "
       ]
      },
      {
       "output_type": "stream",
       "stream": "stderr",
       "text": [
        "\r",
        "[ 16 %] elapsed[sec]: 66.087 | ETA[sec]: 327.431 "
       ]
      },
      {
       "output_type": "stream",
       "stream": "stderr",
       "text": [
        "\r",
        "[ 17 %] elapsed[sec]: 69.422 | ETA[sec]: 325.982 "
       ]
      },
      {
       "output_type": "stream",
       "stream": "stderr",
       "text": [
        "\r",
        "[ 18 %] elapsed[sec]: 72.711 | ETA[sec]: 324.171 "
       ]
      },
      {
       "output_type": "stream",
       "stream": "stderr",
       "text": [
        "\r",
        "[ 19 %] elapsed[sec]: 75.737 | ETA[sec]: 321.124 "
       ]
      },
      {
       "output_type": "stream",
       "stream": "stderr",
       "text": [
        "\r",
        "[ 19 %] elapsed[sec]: 78.781 | ETA[sec]: 318.154 "
       ]
      },
      {
       "output_type": "stream",
       "stream": "stderr",
       "text": [
        "\r",
        "[ 20 %] elapsed[sec]: 81.767 | ETA[sec]: 314.954 "
       ]
      },
      {
       "output_type": "stream",
       "stream": "stderr",
       "text": [
        "\r",
        "[ 21 %] elapsed[sec]: 84.914 | ETA[sec]: 312.364 "
       ]
      },
      {
       "output_type": "stream",
       "stream": "stderr",
       "text": [
        "\r",
        "[ 22 %] elapsed[sec]: 88.091 | ETA[sec]: 309.837 "
       ]
      },
      {
       "output_type": "stream",
       "stream": "stderr",
       "text": [
        "\r",
        "[ 22 %] elapsed[sec]: 91.052 | ETA[sec]: 306.542 "
       ]
      },
      {
       "output_type": "stream",
       "stream": "stderr",
       "text": [
        "\r",
        "[ 23 %] elapsed[sec]: 94.238 | ETA[sec]: 303.994 "
       ]
      },
      {
       "output_type": "stream",
       "stream": "stderr",
       "text": [
        "\r",
        "[ 24 %] elapsed[sec]: 97.316 | ETA[sec]: 301.073 "
       ]
      },
      {
       "output_type": "stream",
       "stream": "stderr",
       "text": [
        "\r",
        "[ 25 %] elapsed[sec]: 100.361 | ETA[sec]: 298.042 "
       ]
      },
      {
       "output_type": "stream",
       "stream": "stderr",
       "text": [
        "\r",
        "[ 25 %] elapsed[sec]: 103.561 | ETA[sec]: 295.454 "
       ]
      },
      {
       "output_type": "stream",
       "stream": "stderr",
       "text": [
        "\r",
        "[ 26 %] elapsed[sec]: 106.627 | ETA[sec]: 292.464 "
       ]
      },
      {
       "output_type": "stream",
       "stream": "stderr",
       "text": [
        "\r",
        "[ 27 %] elapsed[sec]: 109.702 | ETA[sec]: 289.491 "
       ]
      },
      {
       "output_type": "stream",
       "stream": "stderr",
       "text": [
        "\r",
        "[ 28 %] elapsed[sec]: 112.638 | ETA[sec]: 286.161 "
       ]
      },
      {
       "output_type": "stream",
       "stream": "stderr",
       "text": [
        "\r",
        "[ 29 %] elapsed[sec]: 115.623 | ETA[sec]: 282.971 "
       ]
      },
      {
       "output_type": "stream",
       "stream": "stderr",
       "text": [
        "\r",
        "[ 29 %] elapsed[sec]: 118.569 | ETA[sec]: 279.701 "
       ]
      },
      {
       "output_type": "stream",
       "stream": "stderr",
       "text": [
        "\r",
        "[ 30 %] elapsed[sec]: 121.567 | ETA[sec]: 276.566 "
       ]
      },
      {
       "output_type": "stream",
       "stream": "stderr",
       "text": [
        "\r",
        "[ 31 %] elapsed[sec]: 124.521 | ETA[sec]: 273.338 "
       ]
      },
      {
       "output_type": "stream",
       "stream": "stderr",
       "text": [
        "\r",
        "[ 32 %] elapsed[sec]: 128.123 | ETA[sec]: 271.499 "
       ]
      },
      {
       "output_type": "stream",
       "stream": "stderr",
       "text": [
        "\r",
        "[ 32 %] elapsed[sec]: 131.191 | ETA[sec]: 268.484 "
       ]
      },
      {
       "output_type": "stream",
       "stream": "stderr",
       "text": [
        "\r",
        "[ 33 %] elapsed[sec]: 134.321 | ETA[sec]: 265.589 "
       ]
      },
      {
       "output_type": "stream",
       "stream": "stderr",
       "text": [
        "\r",
        "[ 34 %] elapsed[sec]: 137.329 | ETA[sec]: 262.451 "
       ]
      },
      {
       "output_type": "stream",
       "stream": "stderr",
       "text": [
        "\r",
        "[ 35 %] elapsed[sec]: 140.505 | ETA[sec]: 259.629 "
       ]
      },
      {
       "output_type": "stream",
       "stream": "stderr",
       "text": [
        "\r",
        "[ 35 %] elapsed[sec]: 143.445 | ETA[sec]: 256.369 "
       ]
      },
      {
       "output_type": "stream",
       "stream": "stderr",
       "text": [
        "\r",
        "[ 36 %] elapsed[sec]: 146.513 | ETA[sec]: 253.345 "
       ]
      },
      {
       "output_type": "stream",
       "stream": "stderr",
       "text": [
        "\r",
        "[ 37 %] elapsed[sec]: 149.912 | ETA[sec]: 250.872 "
       ]
      },
      {
       "output_type": "stream",
       "stream": "stderr",
       "text": [
        "\r",
        "[ 38 %] elapsed[sec]: 152.888 | ETA[sec]: 247.678 "
       ]
      },
      {
       "output_type": "stream",
       "stream": "stderr",
       "text": [
        "\r",
        "[ 38 %] elapsed[sec]: 156.012 | ETA[sec]: 244.725 "
       ]
      },
      {
       "output_type": "stream",
       "stream": "stderr",
       "text": [
        "\r",
        "[ 39 %] elapsed[sec]: 159.018 | ETA[sec]: 241.585 "
       ]
      },
      {
       "output_type": "stream",
       "stream": "stderr",
       "text": [
        "\r",
        "[ 40 %] elapsed[sec]: 162.100 | ETA[sec]: 238.562 "
       ]
      },
      {
       "output_type": "stream",
       "stream": "stderr",
       "text": [
        "\r",
        "[ 41 %] elapsed[sec]: 165.161 | ETA[sec]: 235.507 "
       ]
      },
      {
       "output_type": "stream",
       "stream": "stderr",
       "text": [
        "\r",
        "[ 41 %] elapsed[sec]: 168.169 | ETA[sec]: 232.379 "
       ]
      },
      {
       "output_type": "stream",
       "stream": "stderr",
       "text": [
        "\r",
        "[ 42 %] elapsed[sec]: 171.195 | ETA[sec]: 229.279 "
       ]
      },
      {
       "output_type": "stream",
       "stream": "stderr",
       "text": [
        "\r",
        "[ 43 %] elapsed[sec]: 174.158 | ETA[sec]: 226.100 "
       ]
      },
      {
       "output_type": "stream",
       "stream": "stderr",
       "text": [
        "\r",
        "[ 44 %] elapsed[sec]: 177.216 | ETA[sec]: 223.048 "
       ]
      },
      {
       "output_type": "stream",
       "stream": "stderr",
       "text": [
        "\r",
        "[ 45 %] elapsed[sec]: 180.312 | ETA[sec]: 220.042 "
       ]
      },
      {
       "output_type": "stream",
       "stream": "stderr",
       "text": [
        "\r",
        "[ 45 %] elapsed[sec]: 183.268 | ETA[sec]: 216.867 "
       ]
      },
      {
       "output_type": "stream",
       "stream": "stderr",
       "text": [
        "\r",
        "[ 46 %] elapsed[sec]: 186.244 | ETA[sec]: 213.722 "
       ]
      },
      {
       "output_type": "stream",
       "stream": "stderr",
       "text": [
        "\r",
        "[ 47 %] elapsed[sec]: 189.318 | ETA[sec]: 210.693 "
       ]
      },
      {
       "output_type": "stream",
       "stream": "stderr",
       "text": [
        "\r",
        "[ 48 %] elapsed[sec]: 192.393 | ETA[sec]: 207.663 "
       ]
      },
      {
       "output_type": "stream",
       "stream": "stderr",
       "text": [
        "\r",
        "[ 48 %] elapsed[sec]: 195.354 | ETA[sec]: 204.511 "
       ]
      },
      {
       "output_type": "stream",
       "stream": "stderr",
       "text": [
        "\r",
        "[ 49 %] elapsed[sec]: 198.228 | ETA[sec]: 201.277 "
       ]
      },
      {
       "output_type": "stream",
       "stream": "stderr",
       "text": [
        "\r",
        "[ 50 %] elapsed[sec]: 201.291 | ETA[sec]: 198.241 "
       ]
      },
      {
       "output_type": "stream",
       "stream": "stderr",
       "text": [
        "\r",
        "[ 51 %] elapsed[sec]: 204.266 | ETA[sec]: 195.120 "
       ]
      },
      {
       "output_type": "stream",
       "stream": "stderr",
       "text": [
        "\r",
        "[ 51 %] elapsed[sec]: 207.327 | ETA[sec]: 192.082 "
       ]
      },
      {
       "output_type": "stream",
       "stream": "stderr",
       "text": [
        "\r",
        "[ 52 %] elapsed[sec]: 210.799 | ETA[sec]: 189.414 "
       ]
      },
      {
       "output_type": "stream",
       "stream": "stderr",
       "text": [
        "\r",
        "[ 53 %] elapsed[sec]: 213.743 | ETA[sec]: 186.262 "
       ]
      },
      {
       "output_type": "stream",
       "stream": "stderr",
       "text": [
        "\r",
        "[ 54 %] elapsed[sec]: 216.731 | ETA[sec]: 183.153 "
       ]
      },
      {
       "output_type": "stream",
       "stream": "stderr",
       "text": [
        "\r",
        "[ 54 %] elapsed[sec]: 219.738 | ETA[sec]: 180.063 "
       ]
      },
      {
       "output_type": "stream",
       "stream": "stderr",
       "text": [
        "\r",
        "[ 55 %] elapsed[sec]: 222.786 | ETA[sec]: 177.008 "
       ]
      },
      {
       "output_type": "stream",
       "stream": "stderr",
       "text": [
        "\r",
        "[ 56 %] elapsed[sec]: 225.969 | ETA[sec]: 174.057 "
       ]
      },
      {
       "output_type": "stream",
       "stream": "stderr",
       "text": [
        "\r",
        "[ 57 %] elapsed[sec]: 229.414 | ETA[sec]: 171.296 "
       ]
      },
      {
       "output_type": "stream",
       "stream": "stderr",
       "text": [
        "\r",
        "[ 58 %] elapsed[sec]: 232.825 | ETA[sec]: 168.492 "
       ]
      },
      {
       "output_type": "stream",
       "stream": "stderr",
       "text": [
        "\r",
        "[ 58 %] elapsed[sec]: 235.894 | ETA[sec]: 165.432 "
       ]
      },
      {
       "output_type": "stream",
       "stream": "stderr",
       "text": [
        "\r",
        "[ 59 %] elapsed[sec]: 238.963 | ETA[sec]: 162.372 "
       ]
      },
      {
       "output_type": "stream",
       "stream": "stderr",
       "text": [
        "\r",
        "[ 60 %] elapsed[sec]: 241.928 | ETA[sec]: 159.244 "
       ]
      },
      {
       "output_type": "stream",
       "stream": "stderr",
       "text": [
        "\r",
        "[ 61 %] elapsed[sec]: 244.905 | ETA[sec]: 156.127 "
       ]
      },
      {
       "output_type": "stream",
       "stream": "stderr",
       "text": [
        "\r",
        "[ 61 %] elapsed[sec]: 247.847 | ETA[sec]: 152.992 "
       ]
      },
      {
       "output_type": "stream",
       "stream": "stderr",
       "text": [
        "\r",
        "[ 62 %] elapsed[sec]: 250.713 | ETA[sec]: 149.816 "
       ]
      },
      {
       "output_type": "stream",
       "stream": "stderr",
       "text": [
        "\r",
        "[ 63 %] elapsed[sec]: 253.686 | ETA[sec]: 146.710 "
       ]
      },
      {
       "output_type": "stream",
       "stream": "stderr",
       "text": [
        "\r",
        "[ 64 %] elapsed[sec]: 256.671 | ETA[sec]: 143.613 "
       ]
      },
      {
       "output_type": "stream",
       "stream": "stderr",
       "text": [
        "\r",
        "[ 64 %] elapsed[sec]: 259.757 | ETA[sec]: 140.574 "
       ]
      },
      {
       "output_type": "stream",
       "stream": "stderr",
       "text": [
        "\r",
        "[ 65 %] elapsed[sec]: 262.711 | ETA[sec]: 137.465 "
       ]
      },
      {
       "output_type": "stream",
       "stream": "stderr",
       "text": [
        "\r",
        "[ 66 %] elapsed[sec]: 265.692 | ETA[sec]: 134.373 "
       ]
      },
      {
       "output_type": "stream",
       "stream": "stderr",
       "text": [
        "\r",
        "[ 67 %] elapsed[sec]: 268.623 | ETA[sec]: 131.259 "
       ]
      },
      {
       "output_type": "stream",
       "stream": "stderr",
       "text": [
        "\r",
        "[ 67 %] elapsed[sec]: 271.639 | ETA[sec]: 128.189 "
       ]
      },
      {
       "output_type": "stream",
       "stream": "stderr",
       "text": [
        "\r",
        "[ 68 %] elapsed[sec]: 274.562 | ETA[sec]: 125.078 "
       ]
      },
      {
       "output_type": "stream",
       "stream": "stderr",
       "text": [
        "\r",
        "[ 69 %] elapsed[sec]: 277.619 | ETA[sec]: 122.030 "
       ]
      },
      {
       "output_type": "stream",
       "stream": "stderr",
       "text": [
        "\r",
        "[ 70 %] elapsed[sec]: 280.629 | ETA[sec]: 118.962 "
       ]
      },
      {
       "output_type": "stream",
       "stream": "stderr",
       "text": [
        "\r",
        "[ 70 %] elapsed[sec]: 283.665 | ETA[sec]: 115.906 "
       ]
      },
      {
       "output_type": "stream",
       "stream": "stderr",
       "text": [
        "\r",
        "[ 71 %] elapsed[sec]: 286.744 | ETA[sec]: 112.867 "
       ]
      },
      {
       "output_type": "stream",
       "stream": "stderr",
       "text": [
        "\r",
        "[ 72 %] elapsed[sec]: 289.721 | ETA[sec]: 109.789 "
       ]
      },
      {
       "output_type": "stream",
       "stream": "stderr",
       "text": [
        "\r",
        "[ 73 %] elapsed[sec]: 292.817 | ETA[sec]: 106.756 "
       ]
      },
      {
       "output_type": "stream",
       "stream": "stderr",
       "text": [
        "\r",
        "[ 74 %] elapsed[sec]: 295.856 | ETA[sec]: 103.702 "
       ]
      },
      {
       "output_type": "stream",
       "stream": "stderr",
       "text": [
        "\r",
        "[ 74 %] elapsed[sec]: 298.755 | ETA[sec]: 100.601 "
       ]
      },
      {
       "output_type": "stream",
       "stream": "stderr",
       "text": [
        "\r",
        "[ 75 %] elapsed[sec]: 301.898 | ETA[sec]: 97.583 "
       ]
      },
      {
       "output_type": "stream",
       "stream": "stderr",
       "text": [
        "\r",
        "[ 76 %] elapsed[sec]: 304.868 | ETA[sec]: 94.509 "
       ]
      },
      {
       "output_type": "stream",
       "stream": "stderr",
       "text": [
        "\r",
        "[ 77 %] elapsed[sec]: 308.542 | ETA[sec]: 91.646 "
       ]
      },
      {
       "output_type": "stream",
       "stream": "stderr",
       "text": [
        "\r",
        "[ 77 %] elapsed[sec]: 311.544 | ETA[sec]: 88.576 "
       ]
      },
      {
       "output_type": "stream",
       "stream": "stderr",
       "text": [
        "\r",
        "[ 78 %] elapsed[sec]: 314.610 | ETA[sec]: 85.525 "
       ]
      },
      {
       "output_type": "stream",
       "stream": "stderr",
       "text": [
        "\r",
        "[ 79 %] elapsed[sec]: 317.684 | ETA[sec]: 82.476 "
       ]
      },
      {
       "output_type": "stream",
       "stream": "stderr",
       "text": [
        "\r",
        "[ 80 %] elapsed[sec]: 321.267 | ETA[sec]: 79.552 "
       ]
      },
      {
       "output_type": "stream",
       "stream": "stderr",
       "text": [
        "\r",
        "[ 80 %] elapsed[sec]: 324.615 | ETA[sec]: 76.560 "
       ]
      },
      {
       "output_type": "stream",
       "stream": "stderr",
       "text": [
        "\r",
        "[ 81 %] elapsed[sec]: 327.797 | ETA[sec]: 73.525 "
       ]
      },
      {
       "output_type": "stream",
       "stream": "stderr",
       "text": [
        "\r",
        "[ 82 %] elapsed[sec]: 330.876 | ETA[sec]: 70.464 "
       ]
      },
      {
       "output_type": "stream",
       "stream": "stderr",
       "text": [
        "\r",
        "[ 83 %] elapsed[sec]: 333.959 | ETA[sec]: 67.405 "
       ]
      },
      {
       "output_type": "stream",
       "stream": "stderr",
       "text": [
        "\r",
        "[ 83 %] elapsed[sec]: 337.015 | ETA[sec]: 64.339 "
       ]
      },
      {
       "output_type": "stream",
       "stream": "stderr",
       "text": [
        "\r",
        "[ 84 %] elapsed[sec]: 340.100 | ETA[sec]: 61.279 "
       ]
      },
      {
       "output_type": "stream",
       "stream": "stderr",
       "text": [
        "\r",
        "[ 85 %] elapsed[sec]: 343.126 | ETA[sec]: 58.209 "
       ]
      },
      {
       "output_type": "stream",
       "stream": "stderr",
       "text": [
        "\r",
        "[ 86 %] elapsed[sec]: 346.218 | ETA[sec]: 55.150 "
       ]
      },
      {
       "output_type": "stream",
       "stream": "stderr",
       "text": [
        "\r",
        "[ 87 %] elapsed[sec]: 349.384 | ETA[sec]: 52.101 "
       ]
      },
      {
       "output_type": "stream",
       "stream": "stderr",
       "text": [
        "\r",
        "[ 87 %] elapsed[sec]: 352.383 | ETA[sec]: 49.027 "
       ]
      },
      {
       "output_type": "stream",
       "stream": "stderr",
       "text": [
        "\r",
        "[ 88 %] elapsed[sec]: 355.420 | ETA[sec]: 45.959 "
       ]
      },
      {
       "output_type": "stream",
       "stream": "stderr",
       "text": [
        "\r",
        "[ 89 %] elapsed[sec]: 358.424 | ETA[sec]: 42.888 "
       ]
      },
      {
       "output_type": "stream",
       "stream": "stderr",
       "text": [
        "\r",
        "[ 90 %] elapsed[sec]: 361.360 | ETA[sec]: 39.811 "
       ]
      },
      {
       "output_type": "stream",
       "stream": "stderr",
       "text": [
        "\r",
        "[ 90 %] elapsed[sec]: 364.445 | ETA[sec]: 36.751 "
       ]
      },
      {
       "output_type": "stream",
       "stream": "stderr",
       "text": [
        "\r",
        "[ 91 %] elapsed[sec]: 368.713 | ETA[sec]: 33.799 "
       ]
      },
      {
       "output_type": "stream",
       "stream": "stderr",
       "text": [
        "\r",
        "[ 92 %] elapsed[sec]: 371.717 | ETA[sec]: 30.720 "
       ]
      },
      {
       "output_type": "stream",
       "stream": "stderr",
       "text": [
        "\r",
        "[ 93 %] elapsed[sec]: 374.689 | ETA[sec]: 27.641 "
       ]
      },
      {
       "output_type": "stream",
       "stream": "stderr",
       "text": [
        "\r",
        "[ 93 %] elapsed[sec]: 378.934 | ETA[sec]: 24.646 "
       ]
      },
      {
       "output_type": "stream",
       "stream": "stderr",
       "text": [
        "\r",
        "[ 94 %] elapsed[sec]: 382.402 | ETA[sec]: 21.587 "
       ]
      },
      {
       "output_type": "stream",
       "stream": "stderr",
       "text": [
        "\r",
        "[ 95 %] elapsed[sec]: 386.283 | ETA[sec]: 18.542 "
       ]
      },
      {
       "output_type": "stream",
       "stream": "stderr",
       "text": [
        "\r",
        "[ 96 %] elapsed[sec]: 389.644 | ETA[sec]: 15.462 "
       ]
      },
      {
       "output_type": "stream",
       "stream": "stderr",
       "text": [
        "\r",
        "[ 96 %] elapsed[sec]: 393.058 | ETA[sec]: 12.380 "
       ]
      },
      {
       "output_type": "stream",
       "stream": "stderr",
       "text": [
        "\r",
        "[ 97 %] elapsed[sec]: 396.729 | ETA[sec]: 9.298 "
       ]
      },
      {
       "output_type": "stream",
       "stream": "stderr",
       "text": [
        "\r",
        "[ 98 %] elapsed[sec]: 400.272 | ETA[sec]: 6.206 "
       ]
      },
      {
       "output_type": "stream",
       "stream": "stderr",
       "text": [
        "\r",
        "[ 99 %] elapsed[sec]: 403.828 | ETA[sec]: 3.106 "
       ]
      },
      {
       "output_type": "stream",
       "stream": "stderr",
       "text": [
        "\r",
        "[100 %] elapsed[sec]: 407.226 | ETA[sec]: 0.000 "
       ]
      },
      {
       "output_type": "stream",
       "stream": "stderr",
       "text": [
        "\r",
        "[100 %] elapsed[sec]: 407.227 | ETA[sec]: 0.000 "
       ]
      },
      {
       "output_type": "stream",
       "stream": "stderr",
       "text": [
        "\n",
        "Total time elapsed: 407.227 sec\n"
       ]
      }
     ],
     "prompt_number": 9
    },
    {
     "cell_type": "code",
     "collapsed": false,
     "input": [
      "talks = []\n",
      "\n",
      "for uri, soup in soups.items():\n",
      "    \n",
      "    talk = {}\n",
      "    \n",
      "    content = soup.find(attrs={\"class\":\"box-content\"})\n",
      "\n",
      "    elements = content.find_all(\"dd\")\n",
      "    talk['level'], talk['category'] = [ e.get_text(strip=True) for e in elements ]\n",
      "\n",
      "    elements = content.find_all(\"h4\")\n",
      "    talk['str_time'], talk['author'] = [ e.get_text(strip=True) for e in elements ]\n",
      "\n",
      "    talk['desc'] = soup.find(attrs={\"class\":\"description\"}).get_text(strip=True)\n",
      "    \n",
      "    # Abstracts contain some unparsed markdown\n",
      "    abstract = soup.find(attrs={\"class\":\"abstract\"}).get_text(strip=True)\n",
      "    html = markdown( abstract )\n",
      "    abstract = ''.join(BeautifulSoup(html).findAll(text=True))\n",
      "    \n",
      "    talk['abstract'] = abstract.replace(\"\\n\",\" \")\n",
      "\n",
      "    talk['title'] = content.find(\"h2\").get_text(strip=True)\n",
      "    \n",
      "    talks.append( talk )\n",
      "    \n",
      "talks = pd.DataFrame( talks )\n",
      "talks.head()"
     ],
     "language": "python",
     "metadata": {},
     "outputs": [
      {
       "html": [
        "<div style=\"max-height:1000px;max-width:1500px;overflow:auto;\">\n",
        "<table border=\"1\" class=\"dataframe\">\n",
        "  <thead>\n",
        "    <tr style=\"text-align: right;\">\n",
        "      <th></th>\n",
        "      <th>abstract</th>\n",
        "      <th>author</th>\n",
        "      <th>category</th>\n",
        "      <th>desc</th>\n",
        "      <th>level</th>\n",
        "      <th>str_time</th>\n",
        "      <th>title</th>\n",
        "    </tr>\n",
        "  </thead>\n",
        "  <tbody>\n",
        "    <tr>\n",
        "      <th>0</th>\n",
        "      <td> Without virtual environments, your installed l...</td>\n",
        "      <td>                              Renee Chu,Matt Makai</td>\n",
        "      <td> Python Core (language, stdlib, etc.)</td>\n",
        "      <td> Even though it\u2019s possible to program without u...</td>\n",
        "      <td>       Novice</td>\n",
        "      <td>    Friday\\n            4:30 p.m.\u20135 p.m.</td>\n",
        "      <td> Don't Make Us Say We Told You So: virtualenv f...</td>\n",
        "    </tr>\n",
        "    <tr>\n",
        "      <th>1</th>\n",
        "      <td> overview This tutorial aims to teach participa...</td>\n",
        "      <td> Andrew Seier,\u00c9tienne T\u00e9treault-Pinard,Marianne...</td>\n",
        "      <td>                     Python Libraries</td>\n",
        "      <td> From Python basics to NYT-quality graphics, we...</td>\n",
        "      <td>       Novice</td>\n",
        "      <td> Thursday\\n            9 a.m.\u201312:20 p.m.</td>\n",
        "      <td> Making Beautiful Graphs in Python and Sharing ...</td>\n",
        "    </tr>\n",
        "    <tr>\n",
        "      <th>2</th>\n",
        "      <td> Distributed systems are a fairly advanced fiel...</td>\n",
        "      <td>                                               lvh</td>\n",
        "      <td>            Best Practices &amp; Patterns</td>\n",
        "      <td> A very brief introduction to the theory and pr...</td>\n",
        "      <td> Intermediate</td>\n",
        "      <td> Friday\\n            1:40 p.m.\u20132:25 p.m.</td>\n",
        "      <td>                           Distributed Systems 101</td>\n",
        "    </tr>\n",
        "    <tr>\n",
        "      <th>3</th>\n",
        "      <td> Are you interested in learning how to orchestr...</td>\n",
        "      <td>                                   Luke Sneeringer</td>\n",
        "      <td>               Systems Administration</td>\n",
        "      <td> Interested in Ansible, or in server orchestrat...</td>\n",
        "      <td> Intermediate</td>\n",
        "      <td> Thursday\\n            9 a.m.\u201312:20 p.m.</td>\n",
        "      <td>                                       Ansible 101</td>\n",
        "    </tr>\n",
        "    <tr>\n",
        "      <th>4</th>\n",
        "      <td> Software engineers are never done learning as ...</td>\n",
        "      <td>                                      Sasha Laundy</td>\n",
        "      <td>                            Community</td>\n",
        "      <td> Software engineers are never done learning sin...</td>\n",
        "      <td>       Novice</td>\n",
        "      <td>  Saturday\\n            4:30 p.m.\u20135 p.m.</td>\n",
        "      <td> Your Brain's API: Giving and Getting Technical...</td>\n",
        "    </tr>\n",
        "  </tbody>\n",
        "</table>\n",
        "</div>"
       ],
       "metadata": {},
       "output_type": "pyout",
       "prompt_number": 17,
       "text": [
        "                                            abstract  \\\n",
        "0  Without virtual environments, your installed l...   \n",
        "1  overview This tutorial aims to teach participa...   \n",
        "2  Distributed systems are a fairly advanced fiel...   \n",
        "3  Are you interested in learning how to orchestr...   \n",
        "4  Software engineers are never done learning as ...   \n",
        "\n",
        "                                              author  \\\n",
        "0                               Renee Chu,Matt Makai   \n",
        "1  Andrew Seier,\u00c9tienne T\u00e9treault-Pinard,Marianne...   \n",
        "2                                                lvh   \n",
        "3                                    Luke Sneeringer   \n",
        "4                                       Sasha Laundy   \n",
        "\n",
        "                               category  \\\n",
        "0  Python Core (language, stdlib, etc.)   \n",
        "1                      Python Libraries   \n",
        "2             Best Practices & Patterns   \n",
        "3                Systems Administration   \n",
        "4                             Community   \n",
        "\n",
        "                                                desc         level  \\\n",
        "0  Even though it\u2019s possible to program without u...        Novice   \n",
        "1  From Python basics to NYT-quality graphics, we...        Novice   \n",
        "2  A very brief introduction to the theory and pr...  Intermediate   \n",
        "3  Interested in Ansible, or in server orchestrat...  Intermediate   \n",
        "4  Software engineers are never done learning sin...        Novice   \n",
        "\n",
        "                                  str_time  \\\n",
        "0     Friday\\n            4:30 p.m.\u20135 p.m.   \n",
        "1  Thursday\\n            9 a.m.\u201312:20 p.m.   \n",
        "2  Friday\\n            1:40 p.m.\u20132:25 p.m.   \n",
        "3  Thursday\\n            9 a.m.\u201312:20 p.m.   \n",
        "4   Saturday\\n            4:30 p.m.\u20135 p.m.   \n",
        "\n",
        "                                               title  \n",
        "0  Don't Make Us Say We Told You So: virtualenv f...  \n",
        "1  Making Beautiful Graphs in Python and Sharing ...  \n",
        "2                            Distributed Systems 101  \n",
        "3                                        Ansible 101  \n",
        "4  Your Brain's API: Giving and Getting Technical...  "
       ]
      }
     ],
     "prompt_number": 17
    },
    {
     "cell_type": "code",
     "collapsed": false,
     "input": [
      "talks.ix[1][\"abstract\"]"
     ],
     "language": "python",
     "metadata": {},
     "outputs": [
      {
       "metadata": {},
       "output_type": "pyout",
       "prompt_number": 18,
       "text": [
        "'overview This tutorial aims to teach participants how to use standard Python tools and Plotly to create stunning data visualizations which can be shared and leveraged as a platform for collaboration.  takeaways After completion of the tutorial, students will be able to use their data to create matplotlib and Plotly figures from a Python script. They will be able to convert matplotlib figures into interactive graphs and subsequently share them on the web. Beginner Python programmers will get a feel for using the language and all will learn how to make beautiful data visualizations in the browser. requirements To participate in the entire tutorial, students will need to install Python and the following packages: numpy, matplotlib, ipython[notebook], and plotly. Students will also need to create an account here https://plot.ly. They may want to follow the getting started instructions here https://plot.ly/python/getting-started. If students run into any difficulties getting their environments setup for this tutorial they may contact the presenters directly at: andrew@plot.ly, etienne@plot.ly, and marianne@plot.ly. format The format of the tutorial is that of an interactive classroom.  Deriving motivation from real-world data visualization needs in science and journalism, we begin by showing how to get from data to basic, informative visualizations quickly and easily.  Students will then be introduced to different ways of improving and customizing their graphs.  We will also show how to edit existing graphs and instructors will engage students to help them explore on their own.  We will put forward an exploratory approach and address reproducibility, which is made possible by a seamless workflow in the Python world (use of Python scripts, the IPython Notebook, Plotly\u2019s Python package).'"
       ]
      }
     ],
     "prompt_number": 18
    },
    {
     "cell_type": "code",
     "collapsed": false,
     "input": [
      "day_to_date = {'Wednesday': 'Apr 8 2015 ',\n",
      "               'Thursday': 'Apr 9 2015 ',\n",
      "               'Friday': 'Apr 10 2015 ',\n",
      "               'Saturday': 'Apr 11 2015 ',\n",
      "               'Sunday': 'Apr 12 2015 ',\n",
      "               }\n",
      "\n",
      "def parse_dt( dt ):\n",
      "    \"\"\" Convert string to datetime \"\"\"\n",
      "    \n",
      "    day, t = [ x.strip() for x in dt.split('\\n') ]\n",
      "    \n",
      "    start, end = [ x.replace('.', '').replace(' ','').upper() for x in t.split(\"\u2013\") ]\n",
      "    \n",
      "    if end == \"NOON\":\n",
      "        end = \"12:00PM\"\n",
      "    elif end.find(':') < 0:\n",
      "        end = end[0] + \":00\" + end[-2:]\n",
      "    if start.find(':') < 0:\n",
      "        start = start[0] + \":00\" + start[-2:]\n",
      "    \n",
      "    try:\n",
      "        start = datetime.strptime( day_to_date[day] + start + ' EDT', '%b %d %Y %I:%M%p %Z' )\n",
      "    except ValueError:\n",
      "        print (\"error converting start time: \", start)\n",
      "    try:    \n",
      "        end = datetime.strptime( day_to_date[day] + end + ' EDT', '%b %d %Y %I:%M%p %Z' )\n",
      "    except ValueError:\n",
      "        print (\"error converting end time: \", end)\n",
      "    \n",
      "    return day, start, end"
     ],
     "language": "python",
     "metadata": {},
     "outputs": [],
     "prompt_number": 19
    },
    {
     "cell_type": "code",
     "collapsed": false,
     "input": [
      "talks[\"weekday\"], talks[\"start_dt\"], talks[\"end_dt\"] = zip(*talks[\"str_time\"].map(parse_dt))\n",
      "\n",
      "del talks[\"str_time\"]"
     ],
     "language": "python",
     "metadata": {},
     "outputs": [],
     "prompt_number": 20
    },
    {
     "cell_type": "code",
     "collapsed": false,
     "input": [
      "talks.head()"
     ],
     "language": "python",
     "metadata": {},
     "outputs": [
      {
       "html": [
        "<div style=\"max-height:1000px;max-width:1500px;overflow:auto;\">\n",
        "<table border=\"1\" class=\"dataframe\">\n",
        "  <thead>\n",
        "    <tr style=\"text-align: right;\">\n",
        "      <th></th>\n",
        "      <th>abstract</th>\n",
        "      <th>author</th>\n",
        "      <th>category</th>\n",
        "      <th>desc</th>\n",
        "      <th>level</th>\n",
        "      <th>title</th>\n",
        "      <th>weekday</th>\n",
        "      <th>start_dt</th>\n",
        "      <th>end_dt</th>\n",
        "    </tr>\n",
        "  </thead>\n",
        "  <tbody>\n",
        "    <tr>\n",
        "      <th>0</th>\n",
        "      <td> Without virtual environments, your installed l...</td>\n",
        "      <td>                              Renee Chu,Matt Makai</td>\n",
        "      <td> Python Core (language, stdlib, etc.)</td>\n",
        "      <td> Even though it\u2019s possible to program without u...</td>\n",
        "      <td>       Novice</td>\n",
        "      <td> Don't Make Us Say We Told You So: virtualenv f...</td>\n",
        "      <td>   Friday</td>\n",
        "      <td>2015-04-10 16:30:00</td>\n",
        "      <td>2015-04-10 17:00:00</td>\n",
        "    </tr>\n",
        "    <tr>\n",
        "      <th>1</th>\n",
        "      <td> overview This tutorial aims to teach participa...</td>\n",
        "      <td> Andrew Seier,\u00c9tienne T\u00e9treault-Pinard,Marianne...</td>\n",
        "      <td>                     Python Libraries</td>\n",
        "      <td> From Python basics to NYT-quality graphics, we...</td>\n",
        "      <td>       Novice</td>\n",
        "      <td> Making Beautiful Graphs in Python and Sharing ...</td>\n",
        "      <td> Thursday</td>\n",
        "      <td>2015-04-09 09:00:00</td>\n",
        "      <td>2015-04-09 12:20:00</td>\n",
        "    </tr>\n",
        "    <tr>\n",
        "      <th>2</th>\n",
        "      <td> Distributed systems are a fairly advanced fiel...</td>\n",
        "      <td>                                               lvh</td>\n",
        "      <td>            Best Practices &amp; Patterns</td>\n",
        "      <td> A very brief introduction to the theory and pr...</td>\n",
        "      <td> Intermediate</td>\n",
        "      <td>                           Distributed Systems 101</td>\n",
        "      <td>   Friday</td>\n",
        "      <td>2015-04-10 13:40:00</td>\n",
        "      <td>2015-04-10 14:25:00</td>\n",
        "    </tr>\n",
        "    <tr>\n",
        "      <th>3</th>\n",
        "      <td> Are you interested in learning how to orchestr...</td>\n",
        "      <td>                                   Luke Sneeringer</td>\n",
        "      <td>               Systems Administration</td>\n",
        "      <td> Interested in Ansible, or in server orchestrat...</td>\n",
        "      <td> Intermediate</td>\n",
        "      <td>                                       Ansible 101</td>\n",
        "      <td> Thursday</td>\n",
        "      <td>2015-04-09 09:00:00</td>\n",
        "      <td>2015-04-09 12:20:00</td>\n",
        "    </tr>\n",
        "    <tr>\n",
        "      <th>4</th>\n",
        "      <td> Software engineers are never done learning as ...</td>\n",
        "      <td>                                      Sasha Laundy</td>\n",
        "      <td>                            Community</td>\n",
        "      <td> Software engineers are never done learning sin...</td>\n",
        "      <td>       Novice</td>\n",
        "      <td> Your Brain's API: Giving and Getting Technical...</td>\n",
        "      <td> Saturday</td>\n",
        "      <td>2015-04-11 16:30:00</td>\n",
        "      <td>2015-04-11 17:00:00</td>\n",
        "    </tr>\n",
        "  </tbody>\n",
        "</table>\n",
        "</div>"
       ],
       "metadata": {},
       "output_type": "pyout",
       "prompt_number": 21,
       "text": [
        "                                            abstract  \\\n",
        "0  Without virtual environments, your installed l...   \n",
        "1  overview This tutorial aims to teach participa...   \n",
        "2  Distributed systems are a fairly advanced fiel...   \n",
        "3  Are you interested in learning how to orchestr...   \n",
        "4  Software engineers are never done learning as ...   \n",
        "\n",
        "                                              author  \\\n",
        "0                               Renee Chu,Matt Makai   \n",
        "1  Andrew Seier,\u00c9tienne T\u00e9treault-Pinard,Marianne...   \n",
        "2                                                lvh   \n",
        "3                                    Luke Sneeringer   \n",
        "4                                       Sasha Laundy   \n",
        "\n",
        "                               category  \\\n",
        "0  Python Core (language, stdlib, etc.)   \n",
        "1                      Python Libraries   \n",
        "2             Best Practices & Patterns   \n",
        "3                Systems Administration   \n",
        "4                             Community   \n",
        "\n",
        "                                                desc         level  \\\n",
        "0  Even though it\u2019s possible to program without u...        Novice   \n",
        "1  From Python basics to NYT-quality graphics, we...        Novice   \n",
        "2  A very brief introduction to the theory and pr...  Intermediate   \n",
        "3  Interested in Ansible, or in server orchestrat...  Intermediate   \n",
        "4  Software engineers are never done learning sin...        Novice   \n",
        "\n",
        "                                               title   weekday  \\\n",
        "0  Don't Make Us Say We Told You So: virtualenv f...    Friday   \n",
        "1  Making Beautiful Graphs in Python and Sharing ...  Thursday   \n",
        "2                            Distributed Systems 101    Friday   \n",
        "3                                        Ansible 101  Thursday   \n",
        "4  Your Brain's API: Giving and Getting Technical...  Saturday   \n",
        "\n",
        "             start_dt              end_dt  \n",
        "0 2015-04-10 16:30:00 2015-04-10 17:00:00  \n",
        "1 2015-04-09 09:00:00 2015-04-09 12:20:00  \n",
        "2 2015-04-10 13:40:00 2015-04-10 14:25:00  \n",
        "3 2015-04-09 09:00:00 2015-04-09 12:20:00  \n",
        "4 2015-04-11 16:30:00 2015-04-11 17:00:00  "
       ]
      }
     ],
     "prompt_number": 21
    },
    {
     "cell_type": "markdown",
     "metadata": {},
     "source": [
      "## Have to scrape Keynote information differently:"
     ]
    },
    {
     "cell_type": "code",
     "collapsed": false,
     "input": [
      "# grab html from the keynote page with bio's of speakers:\n",
      "key_html = urlopen( \"https://us.pycon.org/2015/events/keynotes/\" )\n",
      "key_soup = BeautifulSoup( key_html.read() )"
     ],
     "language": "python",
     "metadata": {},
     "outputs": [],
     "prompt_number": 3
    },
    {
     "cell_type": "code",
     "collapsed": false,
     "input": [
      "key_soup"
     ],
     "language": "python",
     "metadata": {},
     "outputs": [
      {
       "metadata": {},
       "output_type": "pyout",
       "prompt_number": 5,
       "text": [
        "\n",
        "<!DOCTYPE html>\n",
        "\n",
        "<html lang=\"en-us\">\n",
        "<head>\n",
        "<meta charset=\"utf-8\"/>\n",
        "<title>PyCon 2015 Keynote Speakers | PyCon 2015 in Montr\u00e9al</title>\n",
        "<meta content=\"width=device-width, initial-scale=1.0\" name=\"viewport\">\n",
        "<link href=\"/2015/site_media/static/cache/css/a69b123b6daf.css\" rel=\"stylesheet\" type=\"text/css\"/>\n",
        "<link href=\"/2015/site_media/static/cache/css/879bb253f9fa.css\" media=\"all\" rel=\"stylesheet\" type=\"text/css\"/>\n",
        "<link href=\"/2015/site_media/static/cache/css/96a13083f02e.css\" rel=\"stylesheet\" type=\"text/css\"/>\n",
        "<!-- HTML5 shim, for IE6-8 support of HTML elements -->\n",
        "<!--[if lt IE 9]>\n",
        "                <script src=\"/2015/site_media/static/pinax/js/html5shiv.js\"></script>\n",
        "            <![endif]-->\n",
        "<meta content=\"/2015/site_media/static/img/pycon2015-logo.png\" property=\"og:image\"/>\n",
        "<link href=\"/2015/site_media/static/img/pycon-2015.png\" rel=\"shortcut icon\"/>\n",
        "<script src=\"//ajax.googleapis.com/ajax/libs/jquery/1.8.3/jquery.min.js\"></script>\n",
        "<script src=\"/2015/site_media/static/cache/js/ea388955cc03.js\" type=\"text/javascript\"></script>\n",
        "<script type=\"text/javascript\">\n",
        "        $(function () {\n",
        "            var mdown = $('.box-content').html();\n",
        "            var converter = new Attacklab.showdown.converter();\n",
        "            var html = converter.makeHtml(mdown);\n",
        "            $('.box-content').html(html);\n",
        "        });\n",
        "    </script>\n",
        "<meta content=\"fG_DG4G4eFtBcgIKht-bJKdirGhDa_51X6yeCS8daDs\" name=\"google-site-verification\"/>\n",
        "</meta></head>\n",
        "<body class=\"cms-page \" id=\"\">\n",
        "<div class=\"\">\n",
        "<header class=\"main\">\n",
        "<a href=\"#content\" id=\"skip\">Skip to main content</a>\n",
        "<div class=\"container\">\n",
        "<a class=\"logo-smaller\" href=\"/2015/\">PyCon 2015 in Montr\u00e9al</a>\n",
        "<div class=\"account-bar\">\n",
        "<div class=\"account-links row\">\n",
        "<a class=\"login\" href=\"/2015/account/login/\">Log in</a>\n",
        "<a class=\"signup\" href=\"/2015/account/signup/\">Sign up</a>\n",
        "</div>\n",
        "</div>\n",
        "<nav>\n",
        "<a class=\"logo-small\" href=\"/2015/\">PyCon 2015 in Montr\u00e9al</a>\n",
        "<div class=\"navbar navbar-inverse\">\n",
        "<div class=\"navbar-inner\">\n",
        "<a class=\"btn btn-navbar\" data-target=\".nav-collapse\" data-toggle=\"collapse\">\n",
        "<span class=\"icon-bar\"></span>\n",
        "<span class=\"icon-bar\"></span>\n",
        "<span class=\"icon-bar\"></span>\n",
        "</a>\n",
        "<div class=\"nav-collapse collapse\">\n",
        "<ul class=\"nav\">\n",
        "<li class=\"dropdown \">\n",
        "<a class=\"dropdown-toggle\" data-toggle=\"dropdown\" href=\"/2015/about/what-is-pycon/\">\n",
        "                About\n",
        "                <b class=\"caret\"></b>\n",
        "</a>\n",
        "<ul class=\"dropdown-menu\">\n",
        "<li>\n",
        "<a href=\"/2015/about/what-is-pycon/\">What is PyCon?</a>\n",
        "</li>\n",
        "<li>\n",
        "<a href=\"/2015/about/code-of-conduct/\">Code of Conduct</a>\n",
        "</li>\n",
        "<li>\n",
        "<a href=\"/2015/about/volunteers/\">Volunteers</a>\n",
        "</li>\n",
        "<li>\n",
        "<a href=\"/2015/about/press/\">Press</a>\n",
        "</li>\n",
        "<li>\n",
        "<a href=\"/2015/about/staff/\">Staff Information</a>\n",
        "</li>\n",
        "<li>\n",
        "<a href=\"/2015/sitemap/\">Sitemap</a>\n",
        "</li>\n",
        "<li>\n",
        "<a href=\"/2015/onsite/\">Onsite Conference Details</a>\n",
        "</li>\n",
        "</ul>\n",
        "</li>\n",
        "<li class=\"dropdown \">\n",
        "<a class=\"dropdown-toggle\" data-toggle=\"dropdown\" href=\"/2015/speaking/speakatpycon/\">\n",
        "                Speaking\n",
        "                <b class=\"caret\"></b>\n",
        "</a>\n",
        "<ul class=\"dropdown-menu\">\n",
        "<li>\n",
        "<a href=\"/2015/speaking/cfp/\">Call For Proposals</a>\n",
        "</li>\n",
        "<li>\n",
        "<a href=\"/2015/speaking/proposal-resources/\">Proposal Resources</a>\n",
        "</li>\n",
        "<li>\n",
        "<a href=\"/2015/speaking/proposal_advice/\">Proposal Advice</a>\n",
        "</li>\n",
        "<li>\n",
        "<a href=\"/2015/speaking/recording/\">Recording Release</a>\n",
        "</li>\n",
        "</ul>\n",
        "</li>\n",
        "<li class=\"dropdown active\">\n",
        "<a class=\"dropdown-toggle\" data-toggle=\"dropdown\" href=\"#\">\n",
        "                Events\n",
        "                <b class=\"caret\"></b>\n",
        "</a>\n",
        "<ul class=\"dropdown-menu\">\n",
        "<li class=\"active\">\n",
        "<a href=\"/2015/events/keynotes/\">Keynote Speakers</a>\n",
        "</li>\n",
        "<li>\n",
        "<a href=\"/2015/schedule/\">Full Schedule</a>\n",
        "</li>\n",
        "<li>\n",
        "<a href=\"/2015/schedule/talks/\">Talk Schedule</a>\n",
        "</li>\n",
        "<li>\n",
        "<a href=\"/2015/schedule/tutorials/\">Tutorial Schedule</a>\n",
        "</li>\n",
        "<li>\n",
        "<a href=\"/2015/schedule/talks/list/\">Talk List</a>\n",
        "</li>\n",
        "<li>\n",
        "<a href=\"/2015/schedule/tutorials/list/\">Tutorial List</a>\n",
        "</li>\n",
        "<li>\n",
        "<a href=\"/2015/schedule/posters/list/\">Poster Session List</a>\n",
        "</li>\n",
        "<li>\n",
        "<a href=\"/2015/schedule/sponsor-tutorials/\">Sponsor Workshops</a>\n",
        "</li>\n",
        "<li>\n",
        "<a href=\"/2015/community/sprints/\">Development Sprints</a>\n",
        "</li>\n",
        "<li>\n",
        "<a href=\"/2015/community/openspaces/\">Open Spaces</a>\n",
        "</li>\n",
        "<li>\n",
        "<a href=\"/2015/events/reception/\">Opening Reception</a>\n",
        "</li>\n",
        "<li>\n",
        "<a href=\"/2015/sponsors/jobs/\">Jobs Fair</a>\n",
        "</li>\n",
        "<li>\n",
        "<a href=\"/2015/sponsors/charityauction/\">PyLadies Auction</a>\n",
        "</li>\n",
        "<li>\n",
        "<a href=\"/2015/5k/\">5k Charity Fun Run</a>\n",
        "</li>\n",
        "<li>\n",
        "<a href=\"/2015/events/dinners/\">PyCon Dinners</a>\n",
        "</li>\n",
        "<li>\n",
        "<a href=\"/2015/events/pyladieslunch/\">PyLadies Lunch</a>\n",
        "</li>\n",
        "<li>\n",
        "<a href=\"/2015/events/letslearnpython/\">Young Coders</a>\n",
        "</li>\n",
        "<li>\n",
        "<a href=\"/2015/events/langsummit/\">Python Language Summit</a>\n",
        "</li>\n",
        "<li>\n",
        "<a href=\"/2015/events/edusummit/\">Education Summit</a>\n",
        "</li>\n",
        "<li>\n",
        "<a href=\"/2015/events/edusummit/schedule\">Education Summit Schedule</a>\n",
        "</li>\n",
        "<li>\n",
        "<a href=\"/2015/events/startup_row/\">Startup Row</a>\n",
        "</li>\n",
        "<li>\n",
        "<a href=\"/2015/events/explore_montreal/\">Explore Montreal</a>\n",
        "</li>\n",
        "<li>\n",
        "<a href=\"/2015/events/django_girls_workshop/\">Django Girls Workshop</a>\n",
        "</li>\n",
        "<li>\n",
        "<a href=\"/2015/events/django_carrots_workshop/\">Django Carrots Workshop</a>\n",
        "</li>\n",
        "</ul>\n",
        "</li>\n",
        "<li class=\"dropdown \">\n",
        "<a class=\"dropdown-toggle\" data-toggle=\"dropdown\" href=\"/2015/sponsors/\">\n",
        "                Sponsors\n",
        "                <b class=\"caret\"></b>\n",
        "</a>\n",
        "<ul class=\"dropdown-menu\">\n",
        "<li>\n",
        "<a href=\"/2015/sponsors/\">PyCon Sponsors</a>\n",
        "</li>\n",
        "<li>\n",
        "<a href=\"/2015/sponsors/jobs/\">Jobs Fair</a>\n",
        "</li>\n",
        "<li>\n",
        "<a href=\"/2015/sponsors/prospectus/\">Sponsorship Prospectus</a>\n",
        "</li>\n",
        "<li>\n",
        "<a href=\"/2015/sponsors/whysponsor/\">Why sponsor PyCon?</a>\n",
        "</li>\n",
        "<li>\n",
        "<a href=\"/2015/sponsors/apply/\">Apply to be a Sponsor</a>\n",
        "</li>\n",
        "<li>\n",
        "<a href=\"/2015/sponsors/information/\">Sponsor Information</a>\n",
        "</li>\n",
        "<li>\n",
        "<a href=\"/2015/sponsors/exhibitfloor/\">Exhibit Floor Information</a>\n",
        "</li>\n",
        "</ul>\n",
        "</li>\n",
        "<li class=\"dropdown \">\n",
        "<a class=\"dropdown-toggle\" data-toggle=\"dropdown\" href=\"#\">\n",
        "                Venue\n",
        "                <b class=\"caret\"></b>\n",
        "</a>\n",
        "<ul class=\"dropdown-menu\">\n",
        "<li>\n",
        "<a href=\"/2015/venue/\">Venue Map</a>\n",
        "</li>\n",
        "<li>\n",
        "<a href=\"/2015/venue/hotels/\">Hotels</a>\n",
        "</li>\n",
        "<li>\n",
        "<a href=\"/2015/venue/traveling/\">Traveling to Montreal</a>\n",
        "</li>\n",
        "<li>\n",
        "<a href=\"/2015/venue/restaurants/\">Restaurants</a>\n",
        "</li>\n",
        "<li>\n",
        "<a href=\"/2015/venue/weather/\">Weather</a>\n",
        "</li>\n",
        "<li>\n",
        "<a href=\"/2015/community/cellphone/\">Cellphone and GSM</a>\n",
        "</li>\n",
        "</ul>\n",
        "</li>\n",
        "<li class=\" \">\n",
        "<a href=\"http://pycon.blogspot.com/\">\n",
        "                News\n",
        "                \n",
        "            </a>\n",
        "</li>\n",
        "<li class=\"dropdown \">\n",
        "<a class=\"dropdown-toggle\" data-toggle=\"dropdown\" href=\"#\">\n",
        "                PSF\n",
        "                <b class=\"caret\"></b>\n",
        "</a>\n",
        "<ul class=\"dropdown-menu\">\n",
        "<li>\n",
        "<a href=\"http://www.python.org/psf/\">About</a>\n",
        "</li>\n",
        "<li>\n",
        "<a href=\"http://pyfound.blogspot.com/\">Blog</a>\n",
        "</li>\n",
        "</ul>\n",
        "</li>\n",
        "<li class=\"dropdown \">\n",
        "<a class=\"dropdown-toggle\" data-toggle=\"dropdown\" href=\"/2015/registration/\">\n",
        "                Registration\n",
        "                <b class=\"caret\"></b>\n",
        "</a>\n",
        "<ul class=\"dropdown-menu\">\n",
        "<li>\n",
        "<a href=\"/2015/registration/\">Registration Information</a>\n",
        "</li>\n",
        "<li>\n",
        "<a href=\"/2015/registration/register/\">Register for PyCon 2015</a>\n",
        "</li>\n",
        "<li>\n",
        "<a href=\"/2015/community/roomsharing/\">Room Sharing</a>\n",
        "</li>\n",
        "<li>\n",
        "<a href=\"/2015/assistance/\">Financial Aid</a>\n",
        "</li>\n",
        "<li>\n",
        "<a href=\"/2015/childcare/\">Childcare</a>\n",
        "</li>\n",
        "</ul>\n",
        "</li>\n",
        "</ul>\n",
        "</div>\n",
        "</div>\n",
        "</div>\n",
        "</nav>\n",
        "</div>\n",
        "</header>\n",
        "<div id=\"content\">\n",
        "<div class=\"page-head\">\n",
        "<div class=\"container\">\n",
        "<h1>PyCon 2015 Keynote Speakers</h1>\n",
        "<ul class=\"breadcrumb\">\n",
        "<li>\n",
        "<a href=\"#\">Events</a>\n",
        "<span class=\"divider\">/</span>\n",
        "</li>\n",
        "<li class=\"active\">Keynote Speakers</li>\n",
        "</ul>\n",
        "</div>\n",
        "</div>\n",
        "<div class=\"top-banner\">\n",
        "<div class=\"row\">\n",
        "<img alt=\"top band\" src=\"/2015/site_media/static/img/pageHeader2.png\">\n",
        "</img></div>\n",
        "</div>\n",
        "<div class=\"page-content\">\n",
        "<div class=\"container\">\n",
        "<div class=\"row\">\n",
        "<div class=\"span9\">\n",
        "<div class=\"box\">\n",
        "<div class=\"box-content\">## Guido van Rossum\n",
        "<div style=\"float: left; margin-right: 30px;\">\n",
        "<img src=\"https://us.pycon.org/2013/site_media/media/images/2012/08/15/guido_avatar_big2_1.jpg\" width=\"250px\"/>\n",
        "<br/>\n",
        "<br/>\n",
        "<div align=\"center\"><strong>Python's Creator</strong></div>\n",
        "</div>\n",
        "<a href=\"https://twitter.com/gvanrossum\">Guido van Rossum</a> is the author of the Python programming language. He continues to serve as the \"Benevolent Dictator For Life\" (BDFL), meaning that he continues to oversee the Python development process, making decisions where necessary. He is currently employed by <a href=\"https://www.dropbox.com/\">Dropbox</a>.\n",
        "\n",
        "<p style=\"clear:left;\"></p>\n",
        "<hr>\n",
        "\n",
        "## Jacob Kaplan-Moss\n",
        "\n",
        "<div style=\"float: left; margin-right: 30px\">\n",
        "<img src=\"https://us.pycon.org/2015/site_media/media/images/2015/02/01/jkm.jpg\" width=\"250px\"/>\n",
        "<br/>\n",
        "<br/>\n",
        "<div align=\"center\"><strong>Django's Co-creator</strong></div>\n",
        "</div>\n",
        "<a href=\"https://twitter.com/jacobian\">Jacob Kaplan-Moss</a> is the co-creator of <a href=\"https://www.djangoproject.com/\">Django</a> and the founder of the <a href=\"https://www.djangoproject.com/foundation/\">Django Software Foundation</a>. He has over a decade of experience as a web, open source, and Python developer. He is currently Director of Security at Heroku.\n",
        "\n",
        "<p style=\"clear:left;\"></p>\n",
        "<hr>\n",
        "\n",
        "## Catherine Bracy\n",
        "\n",
        "<div style=\"float: left; margin-right: 30px\">\n",
        "<img src=\"https://us.pycon.org/2015/site_media/media/images/2015/02/01/bracy.jpg\" width=\"250px\"/>\n",
        "<br/>\n",
        "<br/>\n",
        "<div align=\"center\"><strong>Director, Code for America</strong></div>\n",
        "</div>\n",
        "<a href=\"https://twitter.com/cbracy\">Catherine</a> oversees <a href=\"http://www.codeforamerica.org/\">Code for America</a>\u2019s civic engagement portfolio, including the Brigade program. She also founded and runs <a href=\"http://codeforall.org/about\">Code for All</a>, Code for America\u2019s international partnership program.\n",
        "\n",
        "Until November 2012, she was Director of Obama for America\u2019s technology field office in San Francisco, the first of its kind in American political history. She was responsible for organizing technologists to volunteer their skills to the campaign\u2019s technology and digital efforts.\n",
        "\n",
        "Prior to joining the campaign, she ran the Knight Foundation\u2019s 2011 News Challenge and before that was the administrative director at Harvard\u2019s Berkman Center for Internet &amp; Society. She is on the board of directors at the <a href=\"http://engagementlab.org/\">Citizen Engagement Lab</a> and the <a href=\"http://publiclab.org/\">Public Laboratory</a>.\n",
        "\n",
        "<p style=\"clear:left;\"></p>\n",
        "<hr>\n",
        "\n",
        "## Gabriella Coleman\n",
        "\n",
        "<div style=\"float: left; margin-right: 30px\">\n",
        "<img src=\"https://us.pycon.org/2015/site_media/media/images/2015/02/01/15837092652_574f4b999f_m.jpg\" width=\"250px\"/>\n",
        "<br/>\n",
        "<div align=\"center\"><small><i>Photo credit: Victor Jeffreys II</i></small></div>\n",
        "<br/>\n",
        "<div align=\"center\"><strong>Author &amp; Professor</strong></div>\n",
        "</div>\n",
        "<a href=\"https://twitter.com/biellacoleman\">Gabriella (Biella) Coleman</a> holds the Wolfe Chair in Scientific and Technological Literacy at McGill University. Trained as a cultural anthropologist, she researches, writes, and teaches on computer hackers and digital activism and is the author of two books.\n",
        "\n",
        "Her first book, <a href=\"http://press.princeton.edu/titles/9883.html\">Coding Freedom: The Ethics and Aesthetics of Hacking</a>, was published with Princeton University Press in 2013 and her most recent book, <a href=\"http://www.versobooks.com/books/1749-hacker-hoaxer-whistleblower-spy\">Hacker, Hoaxer, Whistleblower, Spy: The Many Faces of Anonymous</a>, published by Verso, has been named to Kirkus Reviews' Best Books of 2014.\n",
        "\n",
        "You can learn more about her work on her website: <a href=\"http://gabriellacoleman.org/\">http://gabriellacoleman.org/</a>.\n",
        "\n",
        "<p style=\"clear:left;\"></p>\n",
        "<hr>\n",
        "\n",
        "## Gary Bernhardt\n",
        "\n",
        "<div style=\"float: left; margin-right: 30px\">\n",
        "<img src=\"https://us.pycon.org/2015/site_media/media/images/2015/01/03/gary_bernhardt.png\" width=\"250px\"/>\n",
        "<br/>\n",
        "<br/>\n",
        "<div align=\"center\"><strong>Closing Keynote</strong></div>\n",
        "</div>\n",
        "<a href=\"https://twitter.com/garybernhardt\">Gary Bernhardt</a> is a creator and destroyer of software compelled to understand both sides of heated software debates: Vim and Emacs; Python and Ruby; Git and Mercurial. He runs  <a href=\"https://www.destroyallsoftware.com/screencasts\">Destroy All Software</a>, which publishes advanced screencasts for serious developers covering Unix, OO design, TDD, and dynamic languages.\n",
        "\n",
        "<p style=\"clear:left;\"></p>\n",
        "<hr>\n",
        "\n",
        "## Julia Evans\n",
        "\n",
        "<div style=\"float: left; margin-right: 30px\">\n",
        "<img src=\"https://us.pycon.org/2015/site_media/media/images/2015/02/01/KGCoCe4y_400x400.jpeg\" width=\"250px\"/>\n",
        "<br/>\n",
        "<br/>\n",
        "<div align=\"center\"><strong>Opening Statements</strong></div>\n",
        "</div>\n",
        "<a href=\"http://jvns.ca/\">Julia Evans</a> is a programmer &amp; data scientist based in Montr\u00e9al, Quebec. She loves coding, math, playing with datasets, teaching programming, open source communities, and late night discussions on how to dismantle oppression. She co-organizes <a href=\"http://www.meetup.com/PyLadiesMTL/\">PyLadies Montr\u00e9al</a> and <a href=\"http://mtlallgirlhacknight.ca/\">Montr\u00e9al All-Girl Hack Night</a>.\n",
        "\n",
        "<p style=\"clear:left;\"></p>\n",
        "<hr>\n",
        "\n",
        "## Van Lindberg\n",
        "\n",
        "<div style=\"float: left; margin-right: 30px\">\n",
        "<img src=\"https://us.pycon.org/2015/site_media/media/images/2015/01/03/lindberg_van_01.jpg\" width=\"250px\"/>\n",
        "<br/>\n",
        "<br/>\n",
        "<div align=\"center\"><strong>PSF Chair</strong></div>\n",
        "</div>\n",
        "<a href=\"https://twitter.com/VanL\">Van Lindberg</a> is Vice President of Intellectual Property at Rackspace. He is trained as a computer engineer and lawyer, but what he does best is \u201ctranslate\u201d to help businesses, techies and attorneys understand each other. Van likes working with both computer code and legal code. For the past several years, he has been using natural language processing and graph theory to help him digest and map the U.S. Patent Database. Van is currently chairman of the board of the <a href=\"http://python.org/psf/\">Python Software Foundation</a>, as well as the author of <a href=\"http://shop.oreilly.com/product/9780596517960.do\">Intellectual Property and Open Source</a>.\n",
        "<br/>\n",
        "<p style=\"clear:left;\"></p>\n",
        "<hr/></hr></hr></hr></hr></hr></hr></div>\n",
        "</div>\n",
        "</div>\n",
        "<aside class=\"span2\">\n",
        "<div class=\"sponsor-list\">\n",
        "<h2>SPONSORS</h2>\n",
        "<h3 style=\"margin-top: 20px;\">Keystone</h3>\n",
        "<a href=\"http://aka.ms/ptvs\">\n",
        "<img alt=\"Microsoft\" src=\"/2015/site_media/media/sponsor_files/MSFT_logo_Web.jpg.100x60_q85.jpg\"/>\n",
        "</a>\n",
        "<h3>Financial Aid Sponsor</h3>\n",
        "<a href=\"https://www.dropbox.com/\">\n",
        "<img alt=\"Dropbox\" src=\"/2015/site_media/media/sponsor_files/dropbox-logos_dropbox-logotype-blue.png.100x60_q85.png\"/>\n",
        "</a>\n",
        "<h3>Coffee Sponsor</h3>\n",
        "<a href=\"http://mandrill.com/\">\n",
        "<img alt=\"Mandrill\" src=\"/2015/site_media/media/sponsor_files/mandrill.png.100x60_q85.jpg\"/>\n",
        "</a>\n",
        "<h3>Diamond</h3>\n",
        "<a href=\"http://google.com/\">\n",
        "<img alt=\"Google\" src=\"/2015/site_media/media/sponsor_files/logo_col_498x192.png.100x60_q85.png\"/>\n",
        "</a>\n",
        "<a href=\"http://rackspace.com/\">\n",
        "<img alt=\"Rackspace\" src=\"/2015/site_media/media/sponsor_files/Rackspace_logo_No_1_Mgd_small_use_no_tag_color.png.100x60_q85.jpg\"/>\n",
        "</a>\n",
        "<h3>Captioning Sponsor</h3>\n",
        "<a href=\"http://www.safaribooksonline.com/\">\n",
        "<img alt=\"Safari\" src=\"/2015/site_media/media/sponsor_files/safari-logo-lockup-sunshine.png.100x60_q85.png\"/>\n",
        "</a>\n",
        "<h3>Platinum</h3>\n",
        "<a href=\"http://www.caktusgroup.com/\">\n",
        "<img alt=\"Caktus Consulting Group\" src=\"/2015/site_media/media/sponsor_files/caktus_logo.png.100x60_q85.png\"/>\n",
        "</a>\n",
        "<a href=\"http://www.hpcloud.com/\">\n",
        "<img alt=\"Hewlett Packard\" src=\"/2015/site_media/media/sponsor_files/HP_Blue_CMYKC.jpg.100x60_q85.jpg\"/>\n",
        "</a>\n",
        "<a href=\"http://www.thumbtack.com/\">\n",
        "<img alt=\"Thumbtack\" src=\"/2015/site_media/media/sponsor_files/Thumbtack-logotype-orangetransparent.png.100x60_q85.png\"/>\n",
        "</a>\n",
        "<a href=\"https://codeclimate.com/pycon\">\n",
        "<img alt=\"Code Climate\" src=\"/2015/site_media/media/sponsor_files/code-climate-logo.png.100x60_q85.png\"/>\n",
        "</a>\n",
        "<a href=\"https://rhodecode.com/\">\n",
        "<img alt=\"RhodeCode Inc.\" src=\"/2015/site_media/media/sponsor_files/hb-full.png.100x60_q85.png\"/>\n",
        "</a>\n",
        "<a href=\"http://surveymonkey.com/\">\n",
        "<img alt=\"SurveyMonkey\" src=\"/2015/site_media/media/sponsor_files/sm_logo_stacked_standard_JiuJhBe.png.100x60_q85.png\"/>\n",
        "</a>\n",
        "<a href=\"http://www.facebook.com/\">\n",
        "<img alt=\"Facebook\" src=\"/2015/site_media/media/sponsor_files/FB_Full_Logo_DMQIUzv.png.100x60_q85.jpg\"/>\n",
        "</a>\n",
        "<a href=\"http://Cars.com/\">\n",
        "<img alt=\"Cars.com\" src=\"/2015/site_media/media/sponsor_files/newcarsLogo.png.150x80_q85.png.150x80_q85_Tp3TZsD.png.100x60_q85.png\"/>\n",
        "</a>\n",
        "<a href=\"https://www.linkedin.com/\">\n",
        "<img alt=\"LinkedIn\" src=\"/2015/site_media/media/sponsor_files/Logo-2C-CMYK-Medium-TM_1.png.150x80_q85_HFdKKbz.png.100x60_q85.png\"/>\n",
        "</a>\n",
        "<a href=\"https://www.heroku.com/\">\n",
        "<img alt=\"Heroku\" src=\"/2015/site_media/media/sponsor_files/logo_logotype-solid-horizontal_1_.png.100x60_q85.png\"/>\n",
        "</a>\n",
        "<a href=\"http://mediatemple.net/\">\n",
        "<img alt=\"Media Temple \" src=\"/2015/site_media/media/sponsor_files/mt-logo-bug-black_mnbhpKZ.png.100x60_q85.png\"/>\n",
        "</a>\n",
        "<h3>Gold</h3>\n",
        "<a href=\"http://www.redhat.com/\">\n",
        "<img alt=\"Red Hat\" src=\"/2015/site_media/media/sponsor_files/RHCLogoHCE_1.png.100x60_q85.png\"/>\n",
        "</a>\n",
        "<a href=\"http://www.disneyanimation.com/\">\n",
        "<img alt=\"Walt Disney Animation Studios\" src=\"/2015/site_media/media/sponsor_files/WDAS_LOGO_FINAL_2.png.100x60_q85.png\"/>\n",
        "</a>\n",
        "<a href=\"http://www.americangreetings.com/\">\n",
        "<img alt=\"American Greetings\" src=\"/2015/site_media/media/sponsor_files/AG.png.150x80_q85.jpg.100x60_q85.jpg\"/>\n",
        "</a>\n",
        "<a href=\"http://getsentry.com/\">\n",
        "<img alt=\"Sentry\" src=\"/2015/site_media/media/sponsor_files/sentry.png.100x60_q85.png\"/>\n",
        "</a>\n",
        "<a href=\"http://www.fusionbox.com/\">\n",
        "<img alt=\"Fusionbox\" src=\"/2015/site_media/media/sponsor_files/fusionbox_vector_logo.jpg.100x60_q85.jpg\"/>\n",
        "</a>\n",
        "<a href=\"https://www.twilio.com/\">\n",
        "<img alt=\"Twilio\" src=\"/2015/site_media/media/sponsor_files/RedLogo_lrg.png.100x60_q85.png\"/>\n",
        "</a>\n",
        "<a href=\"http://www.amplify.com/\">\n",
        "<img alt=\"Amplify\" src=\"/2015/site_media/media/sponsor_files/Amplify_logo.jpg.100x60_q85.jpg\"/>\n",
        "</a>\n",
        "<a href=\"http://continuum.io/\">\n",
        "<img alt=\"Continuum Analytics, Inc.\" src=\"/2015/site_media/media/sponsor_files/CA-logo.png.100x60_q85.png\"/>\n",
        "</a>\n",
        "<a href=\"http://lincolnloop.com/\">\n",
        "<img alt=\"Lincoln Loop\" src=\"/2015/site_media/media/sponsor_files/ll_logo_landscape_color.png.100x60_q85.png\"/>\n",
        "</a>\n",
        "<a href=\"http://www.saltstack.com/\">\n",
        "<img alt=\"SaltStack\" src=\"/2015/site_media/media/sponsor_files/SaltStack_-_Text_-_4C.png.100x60_q85.png\"/>\n",
        "</a>\n",
        "<a href=\"https://www.counsyl.com/\">\n",
        "<img alt=\"Counsyl\" src=\"/2015/site_media/media/sponsor_files/AngelLogo.jpg.100x60_q85.jpg\"/>\n",
        "</a>\n",
        "<a href=\"http://openedx.org/\">\n",
        "<img alt=\"Open edX\" src=\"/2015/site_media/media/sponsor_files/logo-edx-openedx.png.100x60_q85.png\"/>\n",
        "</a>\n",
        "<a href=\"https://www.pythonanywhere.com/\">\n",
        "<img alt=\"PythonAnywhere\" src=\"/2015/site_media/media/sponsor_files/PA-logo-1400x560.png.100x60_q85.png\"/>\n",
        "</a>\n",
        "<a href=\"http://wingware.com/\">\n",
        "<img alt=\"Wingware\" src=\"/2015/site_media/media/sponsor_files/wingware-button-2015_buI2QrW.png.100x60_q85.png\"/>\n",
        "</a>\n",
        "<a href=\"http://www.bankofamerica.com/\">\n",
        "<img alt=\"Bank of America\" src=\"/2015/site_media/media/sponsor_files/BAML-160x41_1.png.100x60_q85.png\"/>\n",
        "</a>\n",
        "<a href=\"http://www.demonware.net/\">\n",
        "<img alt=\"DemonWare\" src=\"/2015/site_media/media/sponsor_files/demon.png.100x60_q85.png\"/>\n",
        "</a>\n",
        "<a href=\"http://www.aldryn.com/en/\">\n",
        "<img alt=\"Aldryn\" src=\"/2015/site_media/media/sponsor_files/aldryn-vertical_blue_2.png.100x60_q85.png\"/>\n",
        "</a>\n",
        "<a href=\"http://outboxtechnology.com/\">\n",
        "<img alt=\"Outbox\" src=\"/2015/site_media/media/sponsor_files/Outbox_coul_hfL40m2.png.100x60_q85.png\"/>\n",
        "</a>\n",
        "<a href=\"http://www.pdtpartners.com/\">\n",
        "<img alt=\"PDT Partners\" src=\"/2015/site_media/media/sponsor_files/PDT_WORDMARK.jpg.100x60_q85.jpg\"/>\n",
        "</a>\n",
        "<a href=\"http://www.leapfrogonline.com/\">\n",
        "<img alt=\"Leapfrog Online\" src=\"/2015/site_media/media/sponsor_files/LFO_logo_new_v8_large_0009_467J5bR.png.100x60_q85.png\"/>\n",
        "</a>\n",
        "<a href=\"http://github.com/\">\n",
        "<img alt=\"GitHub\" src=\"/2015/site_media/media/sponsor_files/GitHub_Logo.png.100x60_q85.png\"/>\n",
        "</a>\n",
        "<a href=\"http://www.shopify.com/\">\n",
        "<img alt=\"Shopify\" src=\"/2015/site_media/media/sponsor_files/Shopify-bag-and-logotype.png.100x60_q85.png\"/>\n",
        "</a>\n",
        "<a href=\"http://www.fastly.com/\">\n",
        "<img alt=\"Fastly\" src=\"/2015/site_media/media/sponsor_files/fastly_logo-01.png.100x60_q85.png\"/>\n",
        "</a>\n",
        "<a href=\"https://www.box.com/\">\n",
        "<img alt=\"Box\" src=\"/2015/site_media/media/sponsor_files/box_cyan_jwn7Se1.jpg.100x60_q85.jpg\"/>\n",
        "</a>\n",
        "<a href=\"https://www.aqr.com/\">\n",
        "<img alt=\"AQR Capital Management\" src=\"/2015/site_media/media/sponsor_files/AQR_Cyan_rgb.png.100x60_q85.png\"/>\n",
        "</a>\n",
        "<a href=\"http://jobs.savoirfairelinux.com/\">\n",
        "<img alt=\"Savoir-faire Linux\" src=\"/2015/site_media/media/sponsor_files/logo-sfl-coul-rgb-72dpi.jpg.100x60_q85.jpg\"/>\n",
        "</a>\n",
        "<a href=\"http://yelp.com/\">\n",
        "<img alt=\"Yelp\" src=\"/2015/site_media/media/sponsor_files/Yelp_Logo-_No_outline.jpg.100x60_q85.jpg\"/>\n",
        "</a>\n",
        "<a href=\"http://www.pluralsight.com/\">\n",
        "<img alt=\"Pluralsight\" src=\"/2015/site_media/media/sponsor_files/pluralsight_logo-Gray.jpg.100x60_q85.jpg\"/>\n",
        "</a>\n",
        "<a href=\"https://launchkey.com/\">\n",
        "<img alt=\"Launchkey\" src=\"/2015/site_media/media/sponsor_files/lkey-stacked-blue.png.100x60_q85.png\"/>\n",
        "</a>\n",
        "<a href=\"http://www.lyst.com/\">\n",
        "<img alt=\"Lyst\" src=\"/2015/site_media/media/sponsor_files/Lyst_Black.png.100x60_q85.png\"/>\n",
        "</a>\n",
        "<a href=\"http://www.fool.com/\">\n",
        "<img alt=\"The Motley Fool\" src=\"/2015/site_media/media/sponsor_files/fool-logo.png.100x60_q85.jpg\"/>\n",
        "</a>\n",
        "<a href=\"http://www.pagerduty.com/\">\n",
        "<img alt=\"PagerDuty\" src=\"/2015/site_media/media/sponsor_files/new-logo-green.png.100x60_q85.png\"/>\n",
        "</a>\n",
        "<a href=\"http://www.appneta.com/\">\n",
        "<img alt=\"AppNeta\" src=\"/2015/site_media/media/sponsor_files/AppNeta_Logo_Horizontal_Color.png.100x60_q85.png\"/>\n",
        "</a>\n",
        "<a href=\"https://plot.ly/\">\n",
        "<img alt=\"Plotly\" src=\"/2015/site_media/media/sponsor_files/plotly_logo_for_digital_final_6_1.png.100x60_q85.png\"/>\n",
        "</a>\n",
        "<a href=\"https://nilas.com/\">\n",
        "<img alt=\"Nylas\" src=\"/2015/site_media/media/sponsor_files/nilas_identity_horz_cmyk.jpeg.100x60_q85.jpg\"/>\n",
        "</a>\n",
        "<a href=\"http://saucelabs.com/\">\n",
        "<img alt=\"Sauce Labs\" src=\"/2015/site_media/media/sponsor_files/Final_Logo_Horz_Stacked.png.100x60_q85.jpg\"/>\n",
        "</a>\n",
        "<a href=\"https://developers.corvisa.com/\">\n",
        "<img alt=\"Corvisa\" src=\"/2015/site_media/media/sponsor_files/Corvisa-logo.jpg.100x60_q85.jpg\"/>\n",
        "</a>\n",
        "<a href=\"http://www.revsys.com/\">\n",
        "<img alt=\"Revolution Systems\" src=\"/2015/site_media/media/sponsor_files/pycon-2015-logo.jpg.100x60_q85.jpg\"/>\n",
        "</a>\n",
        "<a href=\"http://venmo.com/\">\n",
        "<img alt=\"Venmo\" src=\"/2015/site_media/media/sponsor_files/logo-blue.png.100x60_q85.png\"/>\n",
        "</a>\n",
        "<a href=\"http://www.buzzfeed.com/\">\n",
        "<img alt=\"BuzzFeed\" src=\"/2015/site_media/media/sponsor_files/buzz.jpg.100x60_q85.jpg\"/>\n",
        "</a>\n",
        "<a href=\"http://www.linode.com/\">\n",
        "<img alt=\"Linode, LLC\" src=\"/2015/site_media/media/sponsor_files/Linode_Logo_2012_v1_LightBG_1.png.150x80_q85_BtJB07B.png.100x60_q85.png\"/>\n",
        "</a>\n",
        "<a href=\"http://esri.com/\">\n",
        "<img alt=\"Esri\" src=\"/2015/site_media/media/sponsor_files/esri-10GlobeLogo_sRGB.PNG.150x80_q85_EdSN3R3.png.100x60_q85.png\"/>\n",
        "</a>\n",
        "<a href=\"https://www.runscope.com/\">\n",
        "<img alt=\"Runscope\" src=\"/2015/site_media/media/sponsor_files/RS-VerticalLogo-color_2.png.100x60_q85.png\"/>\n",
        "</a>\n",
        "<a href=\"http://jetbrains.com/\">\n",
        "<img alt=\"JetBrains\" src=\"/2015/site_media/media/sponsor_files/jb_logo_150x80.png.100x60_q85.jpg\"/>\n",
        "</a>\n",
        "<a href=\"http://www.openstack.org/\">\n",
        "<img alt=\"OpenStack\" src=\"/2015/site_media/media/sponsor_files/openstack-cloud-software-horizontal_GTbEwbo.png.100x60_q85.jpg\"/>\n",
        "</a>\n",
        "<a href=\"http://stormpath.com/\">\n",
        "<img alt=\"Stormpath\" src=\"/2015/site_media/media/sponsor_files/Stormpath_logo_hsQUibQ.png.100x60_q85.png\"/>\n",
        "</a>\n",
        "<a href=\"http://www.texturacorp.com/\">\n",
        "<img alt=\"Textura\" src=\"/2015/site_media/media/sponsor_files/Textura_CCS-2014.jpg.100x60_q85.jpg\"/>\n",
        "</a>\n",
        "<a href=\"http://guidebook.com/\">\n",
        "<img alt=\"Guidebook\" src=\"/2015/site_media/media/sponsor_files/guidebook_logo_light.jpeg.100x60_q85.png\"/>\n",
        "</a>\n",
        "<a href=\"http://www.datarobot.com/\">\n",
        "<img alt=\"DataRobot\" src=\"/2015/site_media/media/sponsor_files/logo_cmyk_vector_copy_2.png.100x60_q85.jpg\"/>\n",
        "</a>\n",
        "<a href=\"http://hipchat.com/\">\n",
        "<img alt=\"HipChat with Atlassian\" src=\"/2015/site_media/media/sponsor_files/hipchat-logo.png.100x60_q85.png\"/>\n",
        "</a>\n",
        "<a href=\"http://bugsnag.com/\">\n",
        "<img alt=\"Bugsnag\" src=\"/2015/site_media/media/sponsor_files/logo_bugsnag.png.100x60_q85.png\"/>\n",
        "</a>\n",
        "<a href=\"http://newrelic.com/\">\n",
        "<img alt=\"New Relic\" src=\"/2015/site_media/media/sponsor_files/NewRelic-logo-square.png.100x60_q85.png\"/>\n",
        "</a>\n",
        "<a href=\"http://sciencelogic.com/\">\n",
        "<img alt=\"ScienceLogic, Inc. \" src=\"/2015/site_media/media/sponsor_files/sciencelogic-logo-rgb_lzwUBFf.png.100x60_q85.png\"/>\n",
        "</a>\n",
        "<a href=\"https://opbeat.com/\">\n",
        "<img alt=\"Opbeat\" src=\"/2015/site_media/media/sponsor_files/opbeat_logo_pos_300dpi.png.100x60_q85.png\"/>\n",
        "</a>\n",
        "<a href=\"http://wargaming.net/\">\n",
        "<img alt=\"Wargaming.net\" src=\"/2015/site_media/media/sponsor_files/WG_logo_3000x2000_vertical_no_tagline.png.100x60_q85.png\"/>\n",
        "</a>\n",
        "<a href=\"http://www.microcom.ca/\">\n",
        "<img alt=\"Microcom\" src=\"/2015/site_media/media/sponsor_files/Logo-with-English-slogan-for-web-transparent-background-and-grey-COM-378x97.png.100x60_q85.png\"/>\n",
        "</a>\n",
        "<a href=\"http://flowroute.com/\">\n",
        "<img alt=\"Flowroute\" src=\"/2015/site_media/media/sponsor_files/horizontal_fullcolor_cmyk.png.100x60_q85.png\"/>\n",
        "</a>\n",
        "<a href=\"http://instagram.com/\">\n",
        "<img alt=\"Instagram\" src=\"/2015/site_media/media/sponsor_files/InstagramLogo.gif.100x60_q85.png\"/>\n",
        "</a>\n",
        "<a href=\"http://twitter.com/\">\n",
        "<img alt=\"Twitter, Inc.\" src=\"/2015/site_media/media/sponsor_files/TwitterLogo.png.100x60_q85.png\"/>\n",
        "</a>\n",
        "<a href=\"http://komodoide.com/\">\n",
        "<img alt=\"ActiveState Komodo\" src=\"/2015/site_media/media/sponsor_files/komodo_9_by-activestate_final.png.100x60_q85.png\"/>\n",
        "</a>\n",
        "<a href=\"http://WWW.APPNEXUS.COM/\">\n",
        "<img alt=\"AppNexus\" src=\"/2015/site_media/media/sponsor_files/an_horiz_signature_CMYK.png.100x60_q85.png\"/>\n",
        "</a>\n",
        "<a href=\"http://www.capitalone.com/\">\n",
        "<img alt=\"Capital One\" src=\"/2015/site_media/media/sponsor_files/Master_with_blue_background.jpg.100x60_q85.jpg\"/>\n",
        "</a>\n",
        "<h3>Silver</h3>\n",
        "<a href=\"https://labs.aweber.com/\">\n",
        "<img alt=\"AWeber\" src=\"/2015/site_media/media/sponsor_files/aweber.png.100x60_q85.png\"/>\n",
        "</a>\n",
        "<a href=\"http://oddbird.net/\">\n",
        "<img alt=\"OddBird\" src=\"/2015/site_media/media/sponsor_files/logo.png.100x60_q85.png\"/>\n",
        "</a>\n",
        "<a href=\"http://www.net-ng.com/en\">\n",
        "<img alt=\"Net-ng\" src=\"/2015/site_media/media/sponsor_files/net-ng.png.150x80_q85.png.100x60_q85.png\"/>\n",
        "</a>\n",
        "<a href=\"http://oreilly.com/\">\n",
        "<img alt=\"O'Reilly\" src=\"/2015/site_media/media/sponsor_files/ORM_logo_box75lg_hex.jpg.100x60_q85.jpg\"/>\n",
        "</a>\n",
        "<a href=\"http://www.found.no/\">\n",
        "<img alt=\"Found by Elastic\" src=\"/2015/site_media/media/sponsor_files/found_elastic_web.png.100x60_q85.png\"/>\n",
        "</a>\n",
        "<a href=\"http://trackmaven.com/\">\n",
        "<img alt=\"TrackMaven\" src=\"/2015/site_media/media/sponsor_files/TM_logo.png.100x60_q85.png\"/>\n",
        "</a>\n",
        "<a href=\"http://www.python-academy.com/\">\n",
        "<img alt=\"Python Academy\" src=\"/2015/site_media/media/sponsor_files/pya_logo_cmyk.png.100x60_q85.png\"/>\n",
        "</a>\n",
        "<a href=\"http://www.mysql.com/\">\n",
        "<img alt=\"MySQL\" src=\"/2015/site_media/media/sponsor_files/logo-mysql-170x115_1.png.100x60_q85.jpg\"/>\n",
        "</a>\n",
        "<a href=\"http://www.ansible.com/\">\n",
        "<img alt=\"Ansible, Inc.\" src=\"/2015/site_media/media/sponsor_files/ansible2014_logo_black.png.100x60_q85.png\"/>\n",
        "</a>\n",
        "<a href=\"http://www.dreamhost.com/\">\n",
        "<img alt=\"DreamHost\" src=\"/2015/site_media/media/sponsor_files/DH_logo_white-01.png.100x60_q85.png\"/>\n",
        "</a>\n",
        "<a href=\"https://www.gadventures.com/\">\n",
        "<img alt=\"G Adventures\" src=\"/2015/site_media/media/sponsor_files/gap-logo.png.100x60_q85.png\"/>\n",
        "</a>\n",
        "<a href=\"http://pgexperts.com/\">\n",
        "<img alt=\"PostgreSQL Experts, Inc.\" src=\"/2015/site_media/media/sponsor_files/PGXlogo_1.jpg.100x60_q85.jpg\"/>\n",
        "</a>\n",
        "<a href=\"http://www.stratasan.com/\">\n",
        "<img alt=\"Stratasan\" src=\"/2015/site_media/media/sponsor_files/stratasan_logo_2_2.png.100x60_q85.png\"/>\n",
        "</a>\n",
        "<a href=\"http://meetup.com/\">\n",
        "<img alt=\"Meetup\" src=\"/2015/site_media/media/sponsor_files/logo_flat.jpeg.100x60_q85.jpg\"/>\n",
        "</a>\n",
        "<a href=\"http://www.devsar.com/\">\n",
        "<img alt=\"devsAr Inc.\" src=\"/2015/site_media/media/sponsor_files/logo-devsar.jpg.150x80_q85_dQQO3UV.jpg.100x60_q85.jpg\"/>\n",
        "</a>\n",
        "<a href=\"https://nvisium.com/\">\n",
        "<img alt=\"nVisium\" src=\"/2015/site_media/media/sponsor_files/full_color-on_light_bg.png.100x60_q85.png\"/>\n",
        "</a>\n",
        "<a href=\"http://stackstorm.com/\">\n",
        "<img alt=\"StackStorm\" src=\"/2015/site_media/media/sponsor_files/StackStorm-logo.png.100x60_q85.png\"/>\n",
        "</a>\n",
        "<a href=\"http://quantifiedcode.com/\">\n",
        "<img alt=\"QuantifiedCode\" src=\"/2015/site_media/media/sponsor_files/QuantifiedCode_01.png.100x60_q85.png\"/>\n",
        "</a>\n",
        "<a href=\"http://www.mozilla.org/\">\n",
        "<img alt=\"Mozilla\" src=\"/2015/site_media/media/sponsor_files/mozilla_wordmark_300dpi.jpg.100x60_q85.jpg\"/>\n",
        "</a>\n",
        "<a href=\"https://www.elastic.co/\">\n",
        "<img alt=\"Elastic\" src=\"/2015/site_media/media/sponsor_files/logo_color_horizontal_1.jpg.100x60_q85.jpg\"/>\n",
        "</a>\n",
        "<a href=\"http://percolate.com/\">\n",
        "<img alt=\"Percolate\" src=\"/2015/site_media/media/sponsor_files/percolate.png.100x60_q85.png\"/>\n",
        "</a>\n",
        "<a href=\"http://www.astrocodeschool.com/\">\n",
        "<img alt=\"Astro Code School\" src=\"/2015/site_media/media/sponsor_files/astro.png.100x60_q85.jpg\"/>\n",
        "</a>\n",
        "<a href=\"http://ubisoft.com/\">\n",
        "<img alt=\"Ubisoft\" src=\"/2015/site_media/media/sponsor_files/Montreal_uCFPXRY.png.100x60_q85.png\"/>\n",
        "</a>\n",
        "<a href=\"http://mailjet.com/\">\n",
        "<img alt=\"Mailjet\" src=\"/2015/site_media/media/sponsor_files/mailjet-logo-black.png.100x60_q85.png\"/>\n",
        "</a>\n",
        "<a href=\"http://pusher.com/\">\n",
        "<img alt=\"Pusher\" src=\"/2015/site_media/media/sponsor_files/logo_black.small.png.100x60_q85.png\"/>\n",
        "</a>\n",
        "<a href=\"http://squarespace.com/\">\n",
        "<img alt=\"Squarespace\" src=\"/2015/site_media/media/sponsor_files/ss.png.100x60_q85.jpg\"/>\n",
        "</a>\n",
        "<a href=\"http://www.nag.com/\">\n",
        "<img alt=\"Numerical Algorithms Group\" src=\"/2015/site_media/media/sponsor_files/nag_logo.jpg.100x60_q85.jpg\"/>\n",
        "</a>\n",
        "<a href=\"http://redislabs.com/\">\n",
        "<img alt=\"Redis Labs\" src=\"/2015/site_media/media/sponsor_files/redislabs.png.100x60_q85.png\"/>\n",
        "</a>\n",
        "<a href=\"http://adroll.com/\">\n",
        "<img alt=\"AdRoll\" src=\"/2015/site_media/media/sponsor_files/AdRoll-logo_cmyk.png.100x60_q85.png\"/>\n",
        "</a>\n",
        "<a href=\"https://www.docker.com/\">\n",
        "<img alt=\"Docker, Inc.\" src=\"/2015/site_media/media/sponsor_files/vector_v-trans.png.100x60_q85.png\"/>\n",
        "</a>\n",
        "<a href=\"https://cloudant.com/\">\n",
        "<img alt=\"IBM Cloudant\" src=\"/2015/site_media/media/sponsor_files/ibm_cloudant_blue.png.100x60_q85.png\"/>\n",
        "</a>\n",
        "<a href=\"http://www.boozallen.com/\">\n",
        "<img alt=\"Booz Allen Hamilton\" src=\"/2015/site_media/media/sponsor_files/Booz_Allen_logo_black.jpg.100x60_q85.jpg\"/>\n",
        "</a>\n",
        "<h3>Job Fair</h3>\n",
        "<a href=\"http://www.telesign.com/\">\n",
        "<img alt=\"TeleSign, Inc.\" src=\"/2015/site_media/media/sponsor_files/TeleSign_Logo_Colored_zrMFd2g.png.100x60_q85.png\"/>\n",
        "</a>\n",
        "<a href=\"http://emc.com/\">\n",
        "<img alt=\"EMC\" src=\"/2015/site_media/media/sponsor_files/BlueLogoLarge.png.100x60_q85.png\"/>\n",
        "</a>\n",
        "<a href=\"http://www.interana.com/\">\n",
        "<img alt=\"Interana\" src=\"/2015/site_media/media/sponsor_files/Interana_Logos_Full.png.100x60_q85.png\"/>\n",
        "</a>\n",
        "<a href=\"https://www.points.com/home/\">\n",
        "<img alt=\"Points\" src=\"/2015/site_media/media/sponsor_files/Points_0AzC9Js.jpg.100x60_q85.jpg\"/>\n",
        "</a>\n",
        "<a href=\"http://marketing.ai/\">\n",
        "<img alt=\"Marketing.AI\" src=\"/2015/site_media/media/sponsor_files/weblogomarketingai.png.100x60_q85.png\"/>\n",
        "</a>\n",
        "<h3>Open Source and Community</h3>\n",
        "<a href=\"http://www.python.org/psf/\">\n",
        "<img alt=\"Python Software Foundation\" src=\"/2015/site_media/media/sponsor_files/psf-logo-317x71-alpha_1.png.100x60_q85.png\"/>\n",
        "</a>\n",
        "<a href=\"http://www.pyladies.com/\">\n",
        "<img alt=\"PyLadies\" src=\"/2015/site_media/media/sponsor_files/pyladies_2.png.100x60_q85.png\"/>\n",
        "</a>\n",
        "<a href=\"http://bigapplepy.org/\">\n",
        "<img alt=\"Big Apple Py\" src=\"/2015/site_media/media/sponsor_files/logo-mid.png.100x60_q85.png\"/>\n",
        "</a>\n",
        "<a href=\"http://plone.org/\">\n",
        "<img alt=\"Plone Foundation\" src=\"/2015/site_media/media/sponsor_files/ijiiiach_2.png.100x60_q85.png\"/>\n",
        "</a>\n",
        "<a href=\"http://www.pylonsproject.org/\">\n",
        "<img alt=\"Pyramid Framework / Pylons Project\" src=\"/2015/site_media/media/sponsor_files/pyramid_logo_onmk67v.png.100x60_q85.png\"/>\n",
        "</a>\n",
        "<a href=\"http://magic.rit.edu/foss/\">\n",
        "<img alt=\"FOSS@MAGIC\" src=\"/2015/site_media/media/sponsor_files/foxxbox.png.100x60_q85.png\"/>\n",
        "</a>\n",
        "<a href=\"http://owasp.org/\">\n",
        "<img alt=\"OWASP\" src=\"/2015/site_media/media/sponsor_files/Logo3.jpg.100x60_q85.jpg\"/>\n",
        "</a>\n",
        "<a href=\"http://www.girldevelopit.com/\">\n",
        "<img alt=\"Girl Develop It\" src=\"/2015/site_media/media/sponsor_files/girldevelopit-logo_kz1gBmr.png.100x60_q85.png\"/>\n",
        "</a>\n",
        "<a href=\"http://zerovm.org/\">\n",
        "<img alt=\"ZeroVM\" src=\"/2015/site_media/media/sponsor_files/zero_vm_M0R2CjK.jpg.100x60_q85.jpg\"/>\n",
        "</a>\n",
        "<a href=\"https://www.hackerschool.com/\">\n",
        "<img alt=\"Hacker School\" src=\"/2015/site_media/media/sponsor_files/Hacker_School_logo_1.png.100x60_q85.jpg\"/>\n",
        "</a>\n",
        "<a href=\"http://kidscodejeunesse.org/\">\n",
        "<img alt=\"Kids Code Jeunesse\" src=\"/2015/site_media/media/sponsor_files/kcj.png.100x60_q85.png\"/>\n",
        "</a>\n",
        "<a href=\"https://gratipay.com/\">\n",
        "<img alt=\"Gratipay\" src=\"/2015/site_media/media/sponsor_files/gratipay.png.100x60_q85.png\"/>\n",
        "</a>\n",
        "<a href=\"http://centerforopenscience.org/\">\n",
        "<img alt=\"Center for Open Science\" src=\"/2015/site_media/media/sponsor_files/cos_logo.png.150x80_q85_JKweqne.png.100x60_q85.png\"/>\n",
        "</a>\n",
        "<a href=\"http://geekgirlscarrots.com/\">\n",
        "<img alt=\"Geek Girls Carrots\" src=\"/2015/site_media/media/sponsor_files/GGC_logo.png.100x60_q85.png\"/>\n",
        "</a>\n",
        "<a href=\"http://openhatch.org/\">\n",
        "<img alt=\"OpenHatch\" src=\"/2015/site_media/media/sponsor_files/p.png.100x60_q85.png\"/>\n",
        "</a>\n",
        "<a href=\"http://djangogirls.org/\">\n",
        "<img alt=\"Django Girls\" src=\"/2015/site_media/media/sponsor_files/django-girls.png.100x60_q85.png\"/>\n",
        "</a>\n",
        "<a href=\"http://www.meetup.com/PSPPython/\">\n",
        "<img alt=\"Puget Sound Programming Python (PuPPy)\" src=\"/2015/site_media/media/sponsor_files/PugetSounProgrammingPython.jpeg.100x60_q85.jpg\"/>\n",
        "</a>\n",
        "<a href=\"http://adainitiative.org/\">\n",
        "<img alt=\"Ada Initiative\" src=\"/2015/site_media/media/sponsor_files/logo_square.png.100x60_q85.png\"/>\n",
        "</a>\n",
        "<a href=\"http://numfocus.org/\">\n",
        "<img alt=\"NumFOCUS\" src=\"/2015/site_media/media/sponsor_files/numfocus.png.100x60_q85.png\"/>\n",
        "</a>\n",
        "<h3>Media</h3>\n",
        "<a href=\"http://pycoders.com/\">\n",
        "<img alt=\"Pycoder's Weekly\" src=\"/2015/site_media/media/sponsor_files/pycoders.png.100x60_q85.jpg\"/>\n",
        "</a>\n",
        "<a href=\"http://nostarch.com/\">\n",
        "<img alt=\"No Starch Press\" src=\"/2015/site_media/media/sponsor_files/no_Black.jpeg.100x60_q85.jpg\"/>\n",
        "</a>\n",
        "<a href=\"http://LWN.net/\">\n",
        "<img alt=\"LWN.net\" src=\"/2015/site_media/media/sponsor_files/100x45logo.png.100x60_q85.png\"/>\n",
        "</a>\n",
        "</div>\n",
        "</aside>\n",
        "</div>\n",
        "</div>\n",
        "</div>\n",
        "</div>\n",
        "<div class=\"bottombg\">\n",
        "<img alt=\"bottom band background\" class=\"img-responsive\" src=\"/2015/site_media/static/img/bottombg.png\">\n",
        "</img></div>\n",
        "<footer>\n",
        "<div class=\"container\">\n",
        "<div class=\"row-fluid footer-content col-centered\">\n",
        "<div class=\"span4\">\n",
        "<div class=\"footer-left\">\n",
        "<p>\n",
        "                          \n",
        "                            PyCon 2015 in Montr\u00e9al is a production of the <a href=\"http://python.org/psf/\">Python Software Foundation</a>.</p></div></div></div></div></footer></div></body></html>\n",
        "                            Site utilizes <a href=\"http://eldarion.com/symposion/\" title=\"Symposion \u2014 An Open Platform for Conference Websites\">Symposion</a>\n",
        "\n",
        "\n",
        "\n",
        "<div class=\"span4\">\n",
        "<div class=\"span3\">\n",
        "<div class=\"row-fluid\">\n",
        "<a href=\"http://caktusgroup.com\">\n",
        "<img alt=\"Caktus Consulting Group\" class=\"caktus-logo\" src=\"/2015/site_media/static/img/caktusgroup-logo-black.png\">\n",
        "</img></a>\n",
        "</div>\n",
        "</div>\n",
        "<div class=\"span9\">\n",
        "<div class=\"footer-center\">\n",
        "<p>\n",
        "                                Site built and designed by <a href=\"http://caktusgroup.com\">Caktus Consulting Group, LLC.</a>\n",
        "</p>\n",
        "</div>\n",
        "</div>\n",
        "</div>\n",
        "<div class=\"span4\">\n",
        "<div class=\"footer-right\">\n",
        "<p>\n",
        "                          \n",
        "                            Questions? Comments? Contact <a href=\"mailto:pycon-organizers@python.org\">pycon-organizers@python.org</a></p></div></div>\n",
        "                            Hosting provided by <a href=\"http://osuosl.org\">OSU Open Source Lab</a>.\n",
        "                          \n",
        "                        \n",
        "\n",
        "\n",
        "\n",
        "\n",
        "\n",
        "\n",
        "<script src=\"/2015/site_media/static/bootstrap/js/bootstrap.min.js\"></script>\n",
        "<script src=\"/2015/site_media/static/pinax/js/theme.js\"></script>\n",
        "\n"
       ]
      }
     ],
     "prompt_number": 5
    },
    {
     "cell_type": "code",
     "collapsed": false,
     "input": [
      "key_soup.findAll(text=re.compile('.*##[^\\n]*'))"
     ],
     "language": "python",
     "metadata": {},
     "outputs": [
      {
       "metadata": {},
       "output_type": "pyout",
       "prompt_number": 4,
       "text": [
        "['## Guido van Rossum\\r\\n',\n",
        " '\\r\\n\\r\\n## Jacob Kaplan-Moss\\r\\n\\r\\n',\n",
        " '\\r\\n\\r\\n## Catherine Bracy\\r\\n\\r\\n',\n",
        " '\\r\\n\\r\\n## Gabriella Coleman\\r\\n\\r\\n',\n",
        " '\\r\\n\\r\\n## Gary Bernhardt\\r\\n\\r\\n',\n",
        " '\\r\\n\\r\\n## Julia Evans\\r\\n\\r\\n',\n",
        " '\\r\\n\\r\\n## Van Lindberg\\r\\n\\r\\n']"
       ]
      }
     ],
     "prompt_number": 4
    },
    {
     "cell_type": "code",
     "collapsed": false,
     "input": [
      "auth_info = {}\n",
      "\n",
      "# not as many unique tags for soup, so find them using regex on \n",
      "# the markdown that is present\n",
      "for author in key_soup.findAll(text=re.compile('.*##[^\\n]*')):\n",
      "    \n",
      "    start_tag = author.find_next('div')\n",
      "    # the bio text is between these two tags\n",
      "    stop_tag = author.find_next('p')\n",
      "    \n",
      "    desc = ''\n",
      "    for elem in start_tag.next_elements:\n",
      "        if elem == stop_tag:\n",
      "            break\n",
      "        elif isinstance(elem, NavigableString ):\n",
      "            desc += elem.string\n",
      "    \n",
      "    talk_name, desc = desc.strip().split(\"\\n\", 1)\n",
      "    author = author.strip(\"\\r\\n #\")\n",
      "    \n",
      "    # Deal with unique format of one author\n",
      "    if author == \"Gabriella Coleman\":\n",
      "        talk_name, desc = desc.strip().split(\"\\n\", 1)\n",
      "    \n",
      "    auth_info[ author ] = { 'desc': desc.strip(),\n",
      "                            'title': talk_name, }\n",
      "\n",
      "pp = PrettyPrinter(indent=4)\n",
      "pp.pprint( auth_info )\n"
     ],
     "language": "python",
     "metadata": {},
     "outputs": [
      {
       "output_type": "stream",
       "stream": "stdout",
       "text": [
        "{   'Catherine Bracy': {   'desc': 'Catherine oversees Code for America\u2019s '\n",
        "                                   'civic engagement portfolio, including '\n",
        "                                   'the Brigade program. She also founded '\n",
        "                                   'and runs Code for All, Code for '\n",
        "                                   'America\u2019s international partnership '\n",
        "                                   'program.\\r\\n'\n",
        "                                   '\\r\\n'\n",
        "                                   'Until November 2012, she was Director '\n",
        "                                   'of Obama for America\u2019s technology field '\n",
        "                                   'office in San Francisco, the first of '\n",
        "                                   'its kind in American political history. '\n",
        "                                   'She was responsible for organizing '\n",
        "                                   'technologists to volunteer their skills '\n",
        "                                   'to the campaign\u2019s technology and '\n",
        "                                   'digital efforts.\\r\\n'\n",
        "                                   '\\r\\n'\n",
        "                                   'Prior to joining the campaign, she ran '\n",
        "                                   'the Knight Foundation\u2019s 2011 News '\n",
        "                                   'Challenge and before that was the '\n",
        "                                   'administrative director at Harvard\u2019s '\n",
        "                                   'Berkman Center for Internet & Society. '\n",
        "                                   'She is on the board of directors at the '\n",
        "                                   'Citizen Engagement Lab and the Public '\n",
        "                                   'Laboratory.',\n",
        "                           'title': 'Director, Code for America'},\n",
        "    'Gabriella Coleman': {   'desc': 'Gabriella (Biella) Coleman holds the '\n",
        "                                     'Wolfe Chair in Scientific and '\n",
        "                                     'Technological Literacy at McGill '\n",
        "                                     'University. Trained as a cultural '\n",
        "                                     'anthropologist, she researches, '\n",
        "                                     'writes, and teaches on computer '\n",
        "                                     'hackers and digital activism and is '\n",
        "                                     'the author of two books.\\r\\n'\n",
        "                                     '\\r\\n'\n",
        "                                     'Her first book, Coding Freedom: The '\n",
        "                                     'Ethics and Aesthetics of Hacking, was '\n",
        "                                     'published with Princeton University '\n",
        "                                     'Press in 2013 and her most recent '\n",
        "                                     'book, Hacker, Hoaxer, Whistleblower, '\n",
        "                                     'Spy: The Many Faces of Anonymous, '\n",
        "                                     'published by Verso, has been named to '\n",
        "                                     \"Kirkus Reviews' Best Books of \"\n",
        "                                     '2014.\\r\\n'\n",
        "                                     '\\r\\n'\n",
        "                                     'You can learn more about her work on '\n",
        "                                     'her website: '\n",
        "                                     'http://gabriellacoleman.org/.',\n",
        "                             'title': 'Author & Professor'},\n",
        "    'Gary Bernhardt': {   'desc': 'Gary Bernhardt is a creator and '\n",
        "                                  'destroyer of software compelled to '\n",
        "                                  'understand both sides of heated software '\n",
        "                                  'debates: Vim and Emacs; Python and Ruby; '\n",
        "                                  'Git and Mercurial. He runs  Destroy All '\n",
        "                                  'Software, which publishes advanced '\n",
        "                                  'screencasts for serious developers '\n",
        "                                  'covering Unix, OO design, TDD, and '\n",
        "                                  'dynamic languages.',\n",
        "                          'title': 'Closing Keynote'},\n",
        "    'Guido van Rossum': {   'desc': 'Guido van Rossum is the author of the '\n",
        "                                    'Python programming language. He '\n",
        "                                    'continues to serve as the \"Benevolent '\n",
        "                                    'Dictator For Life\" (BDFL), meaning '\n",
        "                                    'that he continues to oversee the '\n",
        "                                    'Python development process, making '\n",
        "                                    'decisions where necessary. He is '\n",
        "                                    'currently employed by Dropbox.',\n",
        "                            'title': \"Python's Creator\"},\n",
        "    'Jacob Kaplan-Moss': {   'desc': 'Jacob Kaplan-Moss is the co-creator '\n",
        "                                     'of Django and the founder of the '\n",
        "                                     'Django Software Foundation. He has '\n",
        "                                     'over a decade of experience as a web, '\n",
        "                                     'open source, and Python developer. He '\n",
        "                                     'is currently Director of Security at '\n",
        "                                     'Heroku.',\n",
        "                             'title': \"Django's Co-creator\"},\n",
        "    'Julia Evans': {   'desc': 'Julia Evans is a programmer & data '\n",
        "                               'scientist based in Montr\u00e9al, Quebec. She '\n",
        "                               'loves coding, math, playing with datasets, '\n",
        "                               'teaching programming, open source '\n",
        "                               'communities, and late night discussions on '\n",
        "                               'how to dismantle oppression. She '\n",
        "                               'co-organizes PyLadies Montr\u00e9al and Montr\u00e9al '\n",
        "                               'All-Girl Hack Night.',\n",
        "                       'title': 'Opening Statements'},\n",
        "    'Van Lindberg': {   'desc': 'Van Lindberg is Vice President of '\n",
        "                                'Intellectual Property at Rackspace. He is '\n",
        "                                'trained as a computer engineer and lawyer, '\n",
        "                                'but what he does best is \u201ctranslate\u201d to '\n",
        "                                'help businesses, techies and attorneys '\n",
        "                                'understand each other. Van likes working '\n",
        "                                'with both computer code and legal code. '\n",
        "                                'For the past several years, he has been '\n",
        "                                'using natural language processing and '\n",
        "                                'graph theory to help him digest and map '\n",
        "                                'the U.S. Patent Database. Van is currently '\n",
        "                                'chairman of the board of the Python '\n",
        "                                'Software Foundation, as well as the author '\n",
        "                                'of Intellectual Property and Open Source.',\n",
        "                        'title': 'PSF Chair'}}\n"
       ]
      }
     ],
     "prompt_number": 23
    },
    {
     "cell_type": "code",
     "collapsed": false,
     "input": [
      "# Get datetimes to go along with them\n",
      "weekdays = {0: 'Monday',\n",
      "            1: 'Tuesday',\n",
      "            2: 'Wednesday',\n",
      "            3: 'Thursday',\n",
      "            4: 'Friday',\n",
      "            5: 'Saturday',\n",
      "            6: 'Sunday',\n",
      "            }\n",
      "\n",
      "key_talks = []\n",
      "\n",
      "for day_soup in sched_soup.findAll(\"h3\"):\n",
      "    \n",
      "    day = day_soup.get_text(strip=True)\n",
      "    day = day.replace(',','').replace('April','Apr')\n",
      "    \n",
      "    days_table = day_soup.findNext(\"table\")\n",
      "    keynotes = days_table.select(\"td.slot-lightning\")\n",
      "    \n",
      "    for key in keynotes:\n",
      "        \n",
      "        key_title = key.get_text()\n",
      "        \n",
      "        if key_title.find('Keynote') > -1 or key_title.find('Opening') > -1:\n",
      "            \n",
      "            start_t = key.findPrevious(\"td\").get_text(strip=True)\n",
      "            start_t = datetime.strptime( day +' '+ start_t + ' EDT', '%b %d %Y %I:%M%p %Z' )\n",
      "            \n",
      "            end_t = key.findNext(\"td\").get_text(strip=True)\n",
      "            end_t = datetime.strptime( day +' '+ end_t + ' EDT', '%b %d %Y %I:%M%p %Z' )\n",
      "            \n",
      "            dow = weekdays[ start_t.weekday() ]\n",
      "            \n",
      "            category, author = key_title.strip().split(' - ', 1)\n",
      "            \n",
      "            author = author.split('- ',1)[0].strip()\n",
      "            \n",
      "            talk = {'start_dt': start_t, \n",
      "                    'end_dt': end_t,\n",
      "                    'weekday': dow,\n",
      "                    'author': author,\n",
      "                    'category': category,\n",
      "                    }\n",
      "            \n",
      "            # Add in keynote titles and descriptions\n",
      "            for key, val in auth_info[author].items():\n",
      "                talk[key] = val \n",
      "            \n",
      "            key_talks.append( talk )\n",
      "            \n",
      "key_talks = pd.DataFrame( key_talks )\n",
      "key_talks"
     ],
     "language": "python",
     "metadata": {},
     "outputs": [
      {
       "html": [
        "<div style=\"max-height:1000px;max-width:1500px;overflow:auto;\">\n",
        "<table border=\"1\" class=\"dataframe\">\n",
        "  <thead>\n",
        "    <tr style=\"text-align: right;\">\n",
        "      <th></th>\n",
        "      <th>author</th>\n",
        "      <th>category</th>\n",
        "      <th>desc</th>\n",
        "      <th>end_dt</th>\n",
        "      <th>start_dt</th>\n",
        "      <th>title</th>\n",
        "      <th>weekday</th>\n",
        "    </tr>\n",
        "  </thead>\n",
        "  <tbody>\n",
        "    <tr>\n",
        "      <th>0</th>\n",
        "      <td>       Julia Evans</td>\n",
        "      <td> Opening Statements</td>\n",
        "      <td> Julia Evans is a programmer &amp; data scientist b...</td>\n",
        "      <td>2015-04-10 09:30:00</td>\n",
        "      <td>2015-04-10 09:00:00</td>\n",
        "      <td>         Opening Statements</td>\n",
        "      <td>   Friday</td>\n",
        "    </tr>\n",
        "    <tr>\n",
        "      <th>1</th>\n",
        "      <td>   Catherine Bracy</td>\n",
        "      <td>            Keynote</td>\n",
        "      <td> Catherine oversees Code for America\u2019s civic en...</td>\n",
        "      <td>2015-04-10 10:10:00</td>\n",
        "      <td>2015-04-10 09:30:00</td>\n",
        "      <td> Director, Code for America</td>\n",
        "      <td>   Friday</td>\n",
        "    </tr>\n",
        "    <tr>\n",
        "      <th>2</th>\n",
        "      <td>  Guido van Rossum</td>\n",
        "      <td>            Keynote</td>\n",
        "      <td> Guido van Rossum is the author of the Python p...</td>\n",
        "      <td>2015-04-11 09:40:00</td>\n",
        "      <td>2015-04-11 09:00:00</td>\n",
        "      <td>           Python's Creator</td>\n",
        "      <td> Saturday</td>\n",
        "    </tr>\n",
        "    <tr>\n",
        "      <th>3</th>\n",
        "      <td> Gabriella Coleman</td>\n",
        "      <td>            Keynote</td>\n",
        "      <td> Gabriella (Biella) Coleman holds the Wolfe Cha...</td>\n",
        "      <td>2015-04-11 10:20:00</td>\n",
        "      <td>2015-04-11 09:40:00</td>\n",
        "      <td>         Author &amp; Professor</td>\n",
        "      <td> Saturday</td>\n",
        "    </tr>\n",
        "    <tr>\n",
        "      <th>4</th>\n",
        "      <td>      Van Lindberg</td>\n",
        "      <td>            Keynote</td>\n",
        "      <td> Van Lindberg is Vice President of Intellectual...</td>\n",
        "      <td>2015-04-12 09:20:00</td>\n",
        "      <td>2015-04-12 09:00:00</td>\n",
        "      <td>                  PSF Chair</td>\n",
        "      <td>   Sunday</td>\n",
        "    </tr>\n",
        "    <tr>\n",
        "      <th>5</th>\n",
        "      <td> Jacob Kaplan-Moss</td>\n",
        "      <td>            Keynote</td>\n",
        "      <td> Jacob Kaplan-Moss is the co-creator of Django ...</td>\n",
        "      <td>2015-04-12 10:00:00</td>\n",
        "      <td>2015-04-12 09:20:00</td>\n",
        "      <td>        Django's Co-creator</td>\n",
        "      <td>   Sunday</td>\n",
        "    </tr>\n",
        "    <tr>\n",
        "      <th>6</th>\n",
        "      <td>    Gary Bernhardt</td>\n",
        "      <td>            Keynote</td>\n",
        "      <td> Gary Bernhardt is a creator and destroyer of s...</td>\n",
        "      <td>2015-04-12 15:50:00</td>\n",
        "      <td>2015-04-12 15:10:00</td>\n",
        "      <td>            Closing Keynote</td>\n",
        "      <td>   Sunday</td>\n",
        "    </tr>\n",
        "  </tbody>\n",
        "</table>\n",
        "</div>"
       ],
       "metadata": {},
       "output_type": "pyout",
       "prompt_number": 29,
       "text": [
        "              author            category  \\\n",
        "0        Julia Evans  Opening Statements   \n",
        "1    Catherine Bracy             Keynote   \n",
        "2   Guido van Rossum             Keynote   \n",
        "3  Gabriella Coleman             Keynote   \n",
        "4       Van Lindberg             Keynote   \n",
        "5  Jacob Kaplan-Moss             Keynote   \n",
        "6     Gary Bernhardt             Keynote   \n",
        "\n",
        "                                                desc              end_dt  \\\n",
        "0  Julia Evans is a programmer & data scientist b... 2015-04-10 09:30:00   \n",
        "1  Catherine oversees Code for America\u2019s civic en... 2015-04-10 10:10:00   \n",
        "2  Guido van Rossum is the author of the Python p... 2015-04-11 09:40:00   \n",
        "3  Gabriella (Biella) Coleman holds the Wolfe Cha... 2015-04-11 10:20:00   \n",
        "4  Van Lindberg is Vice President of Intellectual... 2015-04-12 09:20:00   \n",
        "5  Jacob Kaplan-Moss is the co-creator of Django ... 2015-04-12 10:00:00   \n",
        "6  Gary Bernhardt is a creator and destroyer of s... 2015-04-12 15:50:00   \n",
        "\n",
        "             start_dt                       title   weekday  \n",
        "0 2015-04-10 09:00:00          Opening Statements    Friday  \n",
        "1 2015-04-10 09:30:00  Director, Code for America    Friday  \n",
        "2 2015-04-11 09:00:00            Python's Creator  Saturday  \n",
        "3 2015-04-11 09:40:00          Author & Professor  Saturday  \n",
        "4 2015-04-12 09:00:00                   PSF Chair    Sunday  \n",
        "5 2015-04-12 09:20:00         Django's Co-creator    Sunday  \n",
        "6 2015-04-12 15:10:00             Closing Keynote    Sunday  "
       ]
      }
     ],
     "prompt_number": 29
    },
    {
     "cell_type": "code",
     "collapsed": false,
     "input": [
      "# specifying columns at the end preserves column order\n",
      "combined_talks = pd.concat([key_talks, talks], ignore_index=True, )[talks.columns]\n",
      "combined_talks.tail()"
     ],
     "language": "python",
     "metadata": {},
     "outputs": [
      {
       "html": [
        "<div style=\"max-height:1000px;max-width:1500px;overflow:auto;\">\n",
        "<table border=\"1\" class=\"dataframe\">\n",
        "  <thead>\n",
        "    <tr style=\"text-align: right;\">\n",
        "      <th></th>\n",
        "      <th>abstract</th>\n",
        "      <th>author</th>\n",
        "      <th>category</th>\n",
        "      <th>desc</th>\n",
        "      <th>level</th>\n",
        "      <th>title</th>\n",
        "      <th>weekday</th>\n",
        "      <th>start_dt</th>\n",
        "      <th>end_dt</th>\n",
        "    </tr>\n",
        "  </thead>\n",
        "  <tbody>\n",
        "    <tr>\n",
        "      <th>133</th>\n",
        "      <td> Setting the scene My boss alerted me to an art...</td>\n",
        "      <td> A. Jesse Jiryu Davis</td>\n",
        "      <td>                     Python Libraries</td>\n",
        "      <td> Your Python program is too slow, and you need ...</td>\n",
        "      <td> Intermediate</td>\n",
        "      <td> Python Performance Profiling: The Guts And The...</td>\n",
        "      <td>    Sunday</td>\n",
        "      <td>2015-04-12 13:50:00</td>\n",
        "      <td>2015-04-12 14:20:00</td>\n",
        "    </tr>\n",
        "    <tr>\n",
        "      <th>134</th>\n",
        "      <td> This tutorial is a systematic introduction to ...</td>\n",
        "      <td>          Mike M\u00fcller</td>\n",
        "      <td> Python Core (language, stdlib, etc.)</td>\n",
        "      <td> Descriptors and metaclasses are advanced Pytho...</td>\n",
        "      <td>  Experienced</td>\n",
        "      <td> Descriptors and Metaclasses - Understanding an...</td>\n",
        "      <td>  Thursday</td>\n",
        "      <td>2015-04-09 09:00:00</td>\n",
        "      <td>2015-04-09 12:20:00</td>\n",
        "    </tr>\n",
        "    <tr>\n",
        "      <th>135</th>\n",
        "      <td> Using examples from real-code, show what reall...</td>\n",
        "      <td>    Raymond Hettinger</td>\n",
        "      <td>            Best Practices &amp; Patterns</td>\n",
        "      <td> Distillation of knowledge gained from a decade...</td>\n",
        "      <td> Intermediate</td>\n",
        "      <td> Beyond PEP 8 -- Best practices for beautiful i...</td>\n",
        "      <td>    Friday</td>\n",
        "      <td>2015-04-10 12:10:00</td>\n",
        "      <td>2015-04-10 12:55:00</td>\n",
        "    </tr>\n",
        "    <tr>\n",
        "      <th>136</th>\n",
        "      <td> The goal of static code analysis is to generat...</td>\n",
        "      <td>        Andreas Dewes</td>\n",
        "      <td>            Best Practices &amp; Patterns</td>\n",
        "      <td> Static code analysis is an useful tool that ca...</td>\n",
        "      <td> Intermediate</td>\n",
        "      <td> Learning from other's mistakes: Data-driven an...</td>\n",
        "      <td>  Saturday</td>\n",
        "      <td>2015-04-11 11:30:00</td>\n",
        "      <td>2015-04-11 12:00:00</td>\n",
        "    </tr>\n",
        "    <tr>\n",
        "      <th>137</th>\n",
        "      <td> In many ways Python is very similar to other p...</td>\n",
        "      <td>      Stuart Williams</td>\n",
        "      <td> Python Core (language, stdlib, etc.)</td>\n",
        "      <td> This tutorial is for developers who've been us...</td>\n",
        "      <td> Intermediate</td>\n",
        "      <td>                                 Python Epiphanies</td>\n",
        "      <td> Wednesday</td>\n",
        "      <td>2015-04-08 13:20:00</td>\n",
        "      <td>2015-04-08 16:40:00</td>\n",
        "    </tr>\n",
        "  </tbody>\n",
        "</table>\n",
        "</div>"
       ],
       "metadata": {},
       "output_type": "pyout",
       "prompt_number": 30,
       "text": [
        "                                              abstract                author  \\\n",
        "133  Setting the scene My boss alerted me to an art...  A. Jesse Jiryu Davis   \n",
        "134  This tutorial is a systematic introduction to ...           Mike M\u00fcller   \n",
        "135  Using examples from real-code, show what reall...     Raymond Hettinger   \n",
        "136  The goal of static code analysis is to generat...         Andreas Dewes   \n",
        "137  In many ways Python is very similar to other p...       Stuart Williams   \n",
        "\n",
        "                                 category  \\\n",
        "133                      Python Libraries   \n",
        "134  Python Core (language, stdlib, etc.)   \n",
        "135             Best Practices & Patterns   \n",
        "136             Best Practices & Patterns   \n",
        "137  Python Core (language, stdlib, etc.)   \n",
        "\n",
        "                                                  desc         level  \\\n",
        "133  Your Python program is too slow, and you need ...  Intermediate   \n",
        "134  Descriptors and metaclasses are advanced Pytho...   Experienced   \n",
        "135  Distillation of knowledge gained from a decade...  Intermediate   \n",
        "136  Static code analysis is an useful tool that ca...  Intermediate   \n",
        "137  This tutorial is for developers who've been us...  Intermediate   \n",
        "\n",
        "                                                 title    weekday  \\\n",
        "133  Python Performance Profiling: The Guts And The...     Sunday   \n",
        "134  Descriptors and Metaclasses - Understanding an...   Thursday   \n",
        "135  Beyond PEP 8 -- Best practices for beautiful i...     Friday   \n",
        "136  Learning from other's mistakes: Data-driven an...   Saturday   \n",
        "137                                  Python Epiphanies  Wednesday   \n",
        "\n",
        "               start_dt              end_dt  \n",
        "133 2015-04-12 13:50:00 2015-04-12 14:20:00  \n",
        "134 2015-04-09 09:00:00 2015-04-09 12:20:00  \n",
        "135 2015-04-10 12:10:00 2015-04-10 12:55:00  \n",
        "136 2015-04-11 11:30:00 2015-04-11 12:00:00  \n",
        "137 2015-04-08 13:20:00 2015-04-08 16:40:00  "
       ]
      }
     ],
     "prompt_number": 30
    },
    {
     "cell_type": "code",
     "collapsed": false,
     "input": [
      "combined_talks.to_csv( 'data/pycon_talks_2015.csv', sep=\"\\t\", index=False )"
     ],
     "language": "python",
     "metadata": {},
     "outputs": [],
     "prompt_number": 31
    },
    {
     "cell_type": "code",
     "collapsed": false,
     "input": [
      "combined_talks.category.value_counts()"
     ],
     "language": "python",
     "metadata": {},
     "outputs": [
      {
       "metadata": {},
       "output_type": "pyout",
       "prompt_number": 32,
       "text": [
        "Best Practices & Patterns               25\n",
        "Python Core (language, stdlib, etc.)    16\n",
        "Python Libraries                        13\n",
        "Science                                 13\n",
        "Systems Administration                  12\n",
        "Other                                   11\n",
        "Web Frameworks                           9\n",
        "Security                                 8\n",
        "Keynote                                  6\n",
        "Community                                6\n",
        "Testing                                  6\n",
        "Databases                                5\n",
        "Python Internals                         3\n",
        "Gaming                                   2\n",
        "Education                                2\n",
        "Opening Statements                       1\n",
        "dtype: int64"
       ]
      }
     ],
     "prompt_number": 32
    },
    {
     "cell_type": "markdown",
     "metadata": {},
     "source": [
      "<a id=\"sys_info\"></a>\n",
      "## System Info"
     ]
    },
    {
     "cell_type": "code",
     "collapsed": false,
     "input": [
      "try:\n",
      "    %load_ext watermark\n",
      "except ImportError as e:\n",
      "    %install_ext https://raw.githubusercontent.com/rasbt/python_reference/master/ipython_magic/watermark.py\n",
      "    %load_ext watermark\n",
      "\n",
      "%watermark"
     ],
     "language": "python",
     "metadata": {},
     "outputs": [
      {
       "output_type": "stream",
       "stream": "stdout",
       "text": [
        "15/03/2015 15:25:15\n",
        "\n",
        "CPython 3.4.2\n",
        "IPython 2.3.0\n",
        "\n",
        "compiler   : GCC 4.2.1 Compatible Apple LLVM 5.1 (clang-503.0.40)\n",
        "system     : Darwin\n",
        "release    : 12.5.0\n",
        "machine    : x86_64\n",
        "processor  : i386\n",
        "CPU cores  : 4\n",
        "interpreter: 64bit\n"
       ]
      }
     ],
     "prompt_number": 33
    },
    {
     "cell_type": "code",
     "collapsed": false,
     "input": [
      "import pip\n",
      "sorted([\"%s==%s\" % (i.key, i.version) for i in pip.get_installed_distributions()])"
     ],
     "language": "python",
     "metadata": {},
     "outputs": [
      {
       "metadata": {},
       "output_type": "pyout",
       "prompt_number": 1,
       "text": [
        "['beautifulsoup4==4.3.2',\n",
        " 'bottle==0.12.8',\n",
        " 'certifi==14.05.14',\n",
        " 'd3py==0.2.3',\n",
        " 'db.py==0.3.1',\n",
        " 'decorator==3.4.0',\n",
        " 'gensim==0.10.3',\n",
        " 'gnureadline==6.3.3',\n",
        " 'ipython==2.3.0',\n",
        " 'jdcal==1.0',\n",
        " 'jinja2==2.7.3',\n",
        " 'markdown==2.6',\n",
        " 'markupsafe==0.23',\n",
        " 'matplotlib==1.4.2',\n",
        " 'mpld3==0.2',\n",
        " 'networkx==1.9.1',\n",
        " 'nltk==3.0.0',\n",
        " 'nose==1.3.4',\n",
        " 'numpy==1.9.0',\n",
        " 'oauthlib==0.7.2',\n",
        " 'openpyxl==2.1.5',\n",
        " 'pandas==0.15.0',\n",
        " 'patsy==0.3.0',\n",
        " 'prettytable==0.7.2',\n",
        " 'progressbar33==2.4',\n",
        " 'pygments==2.0.2',\n",
        " 'pymongo==2.7.2',\n",
        " 'pyparsing==2.0.3',\n",
        " 'pyprind==2.9.1',\n",
        " 'python-dateutil==2.2',\n",
        " 'pytz==2014.7',\n",
        " 'pyzmq==14.4.1',\n",
        " 'qgrid==0.1.1',\n",
        " 'requests-oauthlib==0.4.1',\n",
        " 'requests==2.3.0',\n",
        " 'scikit-learn==0.15.2',\n",
        " 'scipy==0.14.0',\n",
        " 'six==1.7.3',\n",
        " 'statsmodels==0.6.1',\n",
        " 'tornado==4.0.2',\n",
        " 'tweepy==2.3',\n",
        " 'vincent==0.4.4']"
       ]
      }
     ],
     "prompt_number": 1
    },
    {
     "cell_type": "code",
     "collapsed": false,
     "input": [],
     "language": "python",
     "metadata": {},
     "outputs": []
    }
   ],
   "metadata": {}
  }
 ]
}