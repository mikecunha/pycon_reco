{
 "metadata": {
  "name": "",
  "signature": "sha256:71926da4982933d36d8c3c386ecc03640b892176c3d6c4de58f4de251939011c"
 },
 "nbformat": 3,
 "nbformat_minor": 0,
 "worksheets": [
  {
   "cells": [
    {
     "cell_type": "markdown",
     "metadata": {},
     "source": [
      "## Dependencies\n",
      "  \n",
      "Version info from watermark and pip freeze at the [end of the notebook](#sys_info)"
     ]
    },
    {
     "cell_type": "code",
     "collapsed": false,
     "input": [
      "from datetime import datetime\n",
      "from time import sleep\n",
      "import re\n",
      "from pprint import PrettyPrinter\n",
      "from urllib.request import urlopen\n",
      "\n",
      "from bs4 import BeautifulSoup # http://www.crummy.com/software/BeautifulSoup/bs4/doc/\n",
      "from bs4.element import NavigableString\n",
      "from markdown import markdown\n",
      "import pyprind  # progress bar, e.g. here: http://nbviewer.ipython.org/github/rasbt/pyprind/blob/master/examples/pyprind_demo.ipynb\n",
      "import pandas as pd"
     ],
     "language": "python",
     "metadata": {},
     "outputs": [],
     "prompt_number": 1
    },
    {
     "cell_type": "markdown",
     "metadata": {},
     "source": [
      "## Scrape Pycon Talks Data from the Web"
     ]
    },
    {
     "cell_type": "code",
     "collapsed": false,
     "input": [
      "talk_sched_html = urlopen(\"https://us.pycon.org/2014/schedule/talks/\")\n",
      "tut_sched_html = urlopen(\"https://us.pycon.org/2014/schedule/tutorials/\")\n",
      "\n",
      "talk_sched_soup = BeautifulSoup( talk_sched_html.read() )\n",
      "tut_sched_soup = BeautifulSoup( tut_sched_html.read() )"
     ],
     "language": "python",
     "metadata": {},
     "outputs": [],
     "prompt_number": 5
    },
    {
     "cell_type": "code",
     "collapsed": false,
     "input": [
      "to_scrape = []\n",
      "\n",
      "talk_links = talk_sched_soup.select(\"td.slot-talk span.title a\")\n",
      "tut_links = tut_sched_soup.select(\"td.slot-tutorial span.title a\")\n",
      "\n",
      "for t in talk_links + tut_links:\n",
      "    to_scrape.append( t.attrs.get('href') )\n",
      "    \n",
      "list(enumerate(to_scrape))[-5:]"
     ],
     "language": "python",
     "metadata": {},
     "outputs": [
      {
       "metadata": {},
       "output_type": "pyout",
       "prompt_number": 6,
       "text": [
        "[(126, '/2014/schedule/presentation/67/'),\n",
        " (127, '/2014/schedule/presentation/78/'),\n",
        " (128, '/2014/schedule/presentation/80/'),\n",
        " (129, '/2014/schedule/presentation/55/'),\n",
        " (130, '/2014/schedule/presentation/69/')]"
       ]
      }
     ],
     "prompt_number": 6
    },
    {
     "cell_type": "code",
     "collapsed": false,
     "input": [
      "# Scrape all the talk html pages\n",
      "soups = {}\n",
      "perc = pyprind.ProgPercent( len(to_scrape) )\n",
      "\n",
      "for relative_url in to_scrape:\n",
      "    \n",
      "    perc.update()\n",
      "    \n",
      "    uri = \"https://us.pycon.org\" + relative_url\n",
      "    talk_html = urlopen( uri )\n",
      "    soups[uri] = BeautifulSoup( talk_html.read() )\n",
      "    \n",
      "    sleep(0.5) # Be nice.\n",
      "    "
     ],
     "language": "python",
     "metadata": {},
     "outputs": [
      {
       "output_type": "stream",
       "stream": "stderr",
       "text": [
        "\r",
        "[  0 %] elapsed[sec]: 0.000 | ETA[sec]: 1.000 "
       ]
      },
      {
       "output_type": "stream",
       "stream": "stderr",
       "text": [
        "\r",
        "[  1 %] elapsed[sec]: 1.556 | ETA[sec]: 100.356 "
       ]
      },
      {
       "output_type": "stream",
       "stream": "stderr",
       "text": [
        "\r",
        "[  2 %] elapsed[sec]: 2.880 | ETA[sec]: 122.889 "
       ]
      },
      {
       "output_type": "stream",
       "stream": "stderr",
       "text": [
        "\r",
        "[  3 %] elapsed[sec]: 5.800 | ETA[sec]: 184.142 "
       ]
      },
      {
       "output_type": "stream",
       "stream": "stderr",
       "text": [
        "\r",
        "[  3 %] elapsed[sec]: 7.225 | ETA[sec]: 182.079 "
       ]
      },
      {
       "output_type": "stream",
       "stream": "stderr",
       "text": [
        "\r",
        "[  4 %] elapsed[sec]: 8.600 | ETA[sec]: 179.175 "
       ]
      },
      {
       "output_type": "stream",
       "stream": "stderr",
       "text": [
        "\r",
        "[  5 %] elapsed[sec]: 10.061 | ETA[sec]: 178.231 "
       ]
      },
      {
       "output_type": "stream",
       "stream": "stderr",
       "text": [
        "\r",
        "[  6 %] elapsed[sec]: 11.332 | ETA[sec]: 174.237 "
       ]
      },
      {
       "output_type": "stream",
       "stream": "stderr",
       "text": [
        "\r",
        "[  6 %] elapsed[sec]: 12.729 | ETA[sec]: 172.554 "
       ]
      },
      {
       "output_type": "stream",
       "stream": "stderr",
       "text": [
        "\r",
        "[  7 %] elapsed[sec]: 14.880 | ETA[sec]: 180.051 "
       ]
      },
      {
       "output_type": "stream",
       "stream": "stderr",
       "text": [
        "\r",
        "[  8 %] elapsed[sec]: 16.394 | ETA[sec]: 178.848 "
       ]
      },
      {
       "output_type": "stream",
       "stream": "stderr",
       "text": [
        "\r",
        "[  9 %] elapsed[sec]: 17.688 | ETA[sec]: 175.409 "
       ]
      },
      {
       "output_type": "stream",
       "stream": "stderr",
       "text": [
        "\r",
        "[  9 %] elapsed[sec]: 19.069 | ETA[sec]: 173.084 "
       ]
      },
      {
       "output_type": "stream",
       "stream": "stderr",
       "text": [
        "\r",
        "[ 10 %] elapsed[sec]: 20.411 | ETA[sec]: 170.576 "
       ]
      },
      {
       "output_type": "stream",
       "stream": "stderr",
       "text": [
        "\r",
        "[ 11 %] elapsed[sec]: 22.483 | ETA[sec]: 173.866 "
       ]
      },
      {
       "output_type": "stream",
       "stream": "stderr",
       "text": [
        "\r",
        "[ 12 %] elapsed[sec]: 23.829 | ETA[sec]: 171.271 "
       ]
      },
      {
       "output_type": "stream",
       "stream": "stderr",
       "text": [
        "\r",
        "[ 12 %] elapsed[sec]: 25.151 | ETA[sec]: 168.660 "
       ]
      },
      {
       "output_type": "stream",
       "stream": "stderr",
       "text": [
        "\r",
        "[ 13 %] elapsed[sec]: 26.479 | ETA[sec]: 166.232 "
       ]
      },
      {
       "output_type": "stream",
       "stream": "stderr",
       "text": [
        "\r",
        "[ 14 %] elapsed[sec]: 27.891 | ETA[sec]: 164.409 "
       ]
      },
      {
       "output_type": "stream",
       "stream": "stderr",
       "text": [
        "\r",
        "[ 15 %] elapsed[sec]: 29.144 | ETA[sec]: 161.747 "
       ]
      },
      {
       "output_type": "stream",
       "stream": "stderr",
       "text": [
        "\r",
        "[ 16 %] elapsed[sec]: 30.479 | ETA[sec]: 159.650 "
       ]
      },
      {
       "output_type": "stream",
       "stream": "stderr",
       "text": [
        "\r",
        "[ 16 %] elapsed[sec]: 31.791 | ETA[sec]: 157.508 "
       ]
      },
      {
       "output_type": "stream",
       "stream": "stderr",
       "text": [
        "\r",
        "[ 17 %] elapsed[sec]: 33.132 | ETA[sec]: 155.578 "
       ]
      },
      {
       "output_type": "stream",
       "stream": "stderr",
       "text": [
        "\r",
        "[ 18 %] elapsed[sec]: 35.491 | ETA[sec]: 158.230 "
       ]
      },
      {
       "output_type": "stream",
       "stream": "stderr",
       "text": [
        "\r",
        "[ 19 %] elapsed[sec]: 37.020 | ETA[sec]: 156.967 "
       ]
      },
      {
       "output_type": "stream",
       "stream": "stderr",
       "text": [
        "\r",
        "[ 19 %] elapsed[sec]: 38.352 | ETA[sec]: 154.883 "
       ]
      },
      {
       "output_type": "stream",
       "stream": "stderr",
       "text": [
        "\r",
        "[ 20 %] elapsed[sec]: 39.723 | ETA[sec]: 153.008 "
       ]
      },
      {
       "output_type": "stream",
       "stream": "stderr",
       "text": [
        "\r",
        "[ 21 %] elapsed[sec]: 41.206 | ETA[sec]: 151.579 "
       ]
      },
      {
       "output_type": "stream",
       "stream": "stderr",
       "text": [
        "\r",
        "[ 22 %] elapsed[sec]: 42.559 | ETA[sec]: 149.690 "
       ]
      },
      {
       "output_type": "stream",
       "stream": "stderr",
       "text": [
        "\r",
        "[ 22 %] elapsed[sec]: 43.881 | ETA[sec]: 147.731 "
       ]
      },
      {
       "output_type": "stream",
       "stream": "stderr",
       "text": [
        "\r",
        "[ 23 %] elapsed[sec]: 45.323 | ETA[sec]: 146.205 "
       ]
      },
      {
       "output_type": "stream",
       "stream": "stderr",
       "text": [
        "\r",
        "[ 24 %] elapsed[sec]: 46.660 | ETA[sec]: 144.355 "
       ]
      },
      {
       "output_type": "stream",
       "stream": "stderr",
       "text": [
        "\r",
        "[ 25 %] elapsed[sec]: 48.684 | ETA[sec]: 144.576 "
       ]
      },
      {
       "output_type": "stream",
       "stream": "stderr",
       "text": [
        "\r",
        "[ 25 %] elapsed[sec]: 50.154 | ETA[sec]: 143.087 "
       ]
      },
      {
       "output_type": "stream",
       "stream": "stderr",
       "text": [
        "\r",
        "[ 26 %] elapsed[sec]: 51.475 | ETA[sec]: 141.189 "
       ]
      },
      {
       "output_type": "stream",
       "stream": "stderr",
       "text": [
        "\r",
        "[ 27 %] elapsed[sec]: 53.126 | ETA[sec]: 140.194 "
       ]
      },
      {
       "output_type": "stream",
       "stream": "stderr",
       "text": [
        "\r",
        "[ 28 %] elapsed[sec]: 55.273 | ETA[sec]: 140.423 "
       ]
      },
      {
       "output_type": "stream",
       "stream": "stderr",
       "text": [
        "\r",
        "[ 29 %] elapsed[sec]: 56.676 | ETA[sec]: 138.707 "
       ]
      },
      {
       "output_type": "stream",
       "stream": "stderr",
       "text": [
        "\r",
        "[ 29 %] elapsed[sec]: 59.024 | ETA[sec]: 139.235 "
       ]
      },
      {
       "output_type": "stream",
       "stream": "stderr",
       "text": [
        "\r",
        "[ 30 %] elapsed[sec]: 60.351 | ETA[sec]: 137.298 "
       ]
      },
      {
       "output_type": "stream",
       "stream": "stderr",
       "text": [
        "\r",
        "[ 31 %] elapsed[sec]: 61.677 | ETA[sec]: 135.389 "
       ]
      },
      {
       "output_type": "stream",
       "stream": "stderr",
       "text": [
        "\r",
        "[ 32 %] elapsed[sec]: 63.064 | ETA[sec]: 133.636 "
       ]
      },
      {
       "output_type": "stream",
       "stream": "stderr",
       "text": [
        "\r",
        "[ 32 %] elapsed[sec]: 67.306 | ETA[sec]: 137.742 "
       ]
      },
      {
       "output_type": "stream",
       "stream": "stderr",
       "text": [
        "\r",
        "[ 33 %] elapsed[sec]: 68.590 | ETA[sec]: 135.621 "
       ]
      },
      {
       "output_type": "stream",
       "stream": "stderr",
       "text": [
        "\r",
        "[ 34 %] elapsed[sec]: 69.931 | ETA[sec]: 133.645 "
       ]
      },
      {
       "output_type": "stream",
       "stream": "stderr",
       "text": [
        "\r",
        "[ 35 %] elapsed[sec]: 71.530 | ETA[sec]: 132.175 "
       ]
      },
      {
       "output_type": "stream",
       "stream": "stderr",
       "text": [
        "\r",
        "[ 35 %] elapsed[sec]: 72.851 | ETA[sec]: 130.203 "
       ]
      },
      {
       "output_type": "stream",
       "stream": "stderr",
       "text": [
        "\r",
        "[ 36 %] elapsed[sec]: 74.175 | ETA[sec]: 128.262 "
       ]
      },
      {
       "output_type": "stream",
       "stream": "stderr",
       "text": [
        "\r",
        "[ 37 %] elapsed[sec]: 75.516 | ETA[sec]: 126.373 "
       ]
      },
      {
       "output_type": "stream",
       "stream": "stderr",
       "text": [
        "\r",
        "[ 38 %] elapsed[sec]: 76.847 | ETA[sec]: 124.493 "
       ]
      },
      {
       "output_type": "stream",
       "stream": "stderr",
       "text": [
        "\r",
        "[ 38 %] elapsed[sec]: 78.288 | ETA[sec]: 122.805 "
       ]
      },
      {
       "output_type": "stream",
       "stream": "stderr",
       "text": [
        "\r",
        "[ 39 %] elapsed[sec]: 79.616 | ETA[sec]: 120.955 "
       ]
      },
      {
       "output_type": "stream",
       "stream": "stderr",
       "text": [
        "\r",
        "[ 40 %] elapsed[sec]: 81.017 | ETA[sec]: 119.233 "
       ]
      },
      {
       "output_type": "stream",
       "stream": "stderr",
       "text": [
        "\r",
        "[ 41 %] elapsed[sec]: 82.371 | ETA[sec]: 117.455 "
       ]
      },
      {
       "output_type": "stream",
       "stream": "stderr",
       "text": [
        "\r",
        "[ 41 %] elapsed[sec]: 83.916 | ETA[sec]: 115.957 "
       ]
      },
      {
       "output_type": "stream",
       "stream": "stderr",
       "text": [
        "\r",
        "[ 42 %] elapsed[sec]: 85.514 | ETA[sec]: 114.528 "
       ]
      },
      {
       "output_type": "stream",
       "stream": "stderr",
       "text": [
        "\r",
        "[ 43 %] elapsed[sec]: 86.969 | ETA[sec]: 112.908 "
       ]
      },
      {
       "output_type": "stream",
       "stream": "stderr",
       "text": [
        "\r",
        "[ 44 %] elapsed[sec]: 88.329 | ETA[sec]: 111.173 "
       ]
      },
      {
       "output_type": "stream",
       "stream": "stderr",
       "text": [
        "\r",
        "[ 45 %] elapsed[sec]: 89.841 | ETA[sec]: 109.637 "
       ]
      },
      {
       "output_type": "stream",
       "stream": "stderr",
       "text": [
        "\r",
        "[ 45 %] elapsed[sec]: 93.117 | ETA[sec]: 110.188 "
       ]
      },
      {
       "output_type": "stream",
       "stream": "stderr",
       "text": [
        "\r",
        "[ 46 %] elapsed[sec]: 94.656 | ETA[sec]: 108.622 "
       ]
      },
      {
       "output_type": "stream",
       "stream": "stderr",
       "text": [
        "\r",
        "[ 47 %] elapsed[sec]: 96.048 | ETA[sec]: 106.892 "
       ]
      },
      {
       "output_type": "stream",
       "stream": "stderr",
       "text": [
        "\r",
        "[ 48 %] elapsed[sec]: 97.741 | ETA[sec]: 105.498 "
       ]
      },
      {
       "output_type": "stream",
       "stream": "stderr",
       "text": [
        "\r",
        "[ 48 %] elapsed[sec]: 98.998 | ETA[sec]: 103.639 "
       ]
      },
      {
       "output_type": "stream",
       "stream": "stderr",
       "text": [
        "\r",
        "[ 49 %] elapsed[sec]: 100.383 | ETA[sec]: 101.927 "
       ]
      },
      {
       "output_type": "stream",
       "stream": "stderr",
       "text": [
        "\r",
        "[ 50 %] elapsed[sec]: 102.723 | ETA[sec]: 101.167 "
       ]
      },
      {
       "output_type": "stream",
       "stream": "stderr",
       "text": [
        "\r",
        "[ 51 %] elapsed[sec]: 104.380 | ETA[sec]: 99.707 "
       ]
      },
      {
       "output_type": "stream",
       "stream": "stderr",
       "text": [
        "\r",
        "[ 51 %] elapsed[sec]: 105.736 | ETA[sec]: 97.961 "
       ]
      },
      {
       "output_type": "stream",
       "stream": "stderr",
       "text": [
        "\r",
        "[ 52 %] elapsed[sec]: 107.336 | ETA[sec]: 96.447 "
       ]
      },
      {
       "output_type": "stream",
       "stream": "stderr",
       "text": [
        "\r",
        "[ 53 %] elapsed[sec]: 108.662 | ETA[sec]: 94.692 "
       ]
      },
      {
       "output_type": "stream",
       "stream": "stderr",
       "text": [
        "\r",
        "[ 54 %] elapsed[sec]: 110.727 | ETA[sec]: 93.572 "
       ]
      },
      {
       "output_type": "stream",
       "stream": "stderr",
       "text": [
        "\r",
        "[ 54 %] elapsed[sec]: 112.378 | ETA[sec]: 92.088 "
       ]
      },
      {
       "output_type": "stream",
       "stream": "stderr",
       "text": [
        "\r",
        "[ 55 %] elapsed[sec]: 113.866 | ETA[sec]: 90.469 "
       ]
      },
      {
       "output_type": "stream",
       "stream": "stderr",
       "text": [
        "\r",
        "[ 56 %] elapsed[sec]: 116.312 | ETA[sec]: 89.591 "
       ]
      },
      {
       "output_type": "stream",
       "stream": "stderr",
       "text": [
        "\r",
        "[ 57 %] elapsed[sec]: 117.665 | ETA[sec]: 87.857 "
       ]
      },
      {
       "output_type": "stream",
       "stream": "stderr",
       "text": [
        "\r",
        "[ 58 %] elapsed[sec]: 119.130 | ETA[sec]: 86.212 "
       ]
      },
      {
       "output_type": "stream",
       "stream": "stderr",
       "text": [
        "\r",
        "[ 58 %] elapsed[sec]: 120.473 | ETA[sec]: 84.487 "
       ]
      },
      {
       "output_type": "stream",
       "stream": "stderr",
       "text": [
        "\r",
        "[ 59 %] elapsed[sec]: 121.844 | ETA[sec]: 82.792 "
       ]
      },
      {
       "output_type": "stream",
       "stream": "stderr",
       "text": [
        "\r",
        "[ 60 %] elapsed[sec]: 123.938 | ETA[sec]: 81.579 "
       ]
      },
      {
       "output_type": "stream",
       "stream": "stderr",
       "text": [
        "\r",
        "[ 61 %] elapsed[sec]: 125.574 | ETA[sec]: 80.054 "
       ]
      },
      {
       "output_type": "stream",
       "stream": "stderr",
       "text": [
        "\r",
        "[ 61 %] elapsed[sec]: 126.919 | ETA[sec]: 78.345 "
       ]
      },
      {
       "output_type": "stream",
       "stream": "stderr",
       "text": [
        "\r",
        "[ 62 %] elapsed[sec]: 128.894 | ETA[sec]: 77.022 "
       ]
      },
      {
       "output_type": "stream",
       "stream": "stderr",
       "text": [
        "\r",
        "[ 63 %] elapsed[sec]: 130.249 | ETA[sec]: 75.325 "
       ]
      },
      {
       "output_type": "stream",
       "stream": "stderr",
       "text": [
        "\r",
        "[ 64 %] elapsed[sec]: 132.132 | ETA[sec]: 73.931 "
       ]
      },
      {
       "output_type": "stream",
       "stream": "stderr",
       "text": [
        "\r",
        "[ 64 %] elapsed[sec]: 133.506 | ETA[sec]: 72.250 "
       ]
      },
      {
       "output_type": "stream",
       "stream": "stderr",
       "text": [
        "\r",
        "[ 65 %] elapsed[sec]: 135.133 | ETA[sec]: 70.709 "
       ]
      },
      {
       "output_type": "stream",
       "stream": "stderr",
       "text": [
        "\r",
        "[ 66 %] elapsed[sec]: 136.471 | ETA[sec]: 69.020 "
       ]
      },
      {
       "output_type": "stream",
       "stream": "stderr",
       "text": [
        "\r",
        "[ 67 %] elapsed[sec]: 137.809 | ETA[sec]: 67.338 "
       ]
      },
      {
       "output_type": "stream",
       "stream": "stderr",
       "text": [
        "\r",
        "[ 67 %] elapsed[sec]: 139.633 | ETA[sec]: 65.894 "
       ]
      },
      {
       "output_type": "stream",
       "stream": "stderr",
       "text": [
        "\r",
        "[ 68 %] elapsed[sec]: 141.003 | ETA[sec]: 64.235 "
       ]
      },
      {
       "output_type": "stream",
       "stream": "stderr",
       "text": [
        "\r",
        "[ 69 %] elapsed[sec]: 144.525 | ETA[sec]: 63.528 "
       ]
      },
      {
       "output_type": "stream",
       "stream": "stderr",
       "text": [
        "\r",
        "[ 70 %] elapsed[sec]: 145.858 | ETA[sec]: 61.831 "
       ]
      },
      {
       "output_type": "stream",
       "stream": "stderr",
       "text": [
        "\r",
        "[ 70 %] elapsed[sec]: 147.474 | ETA[sec]: 60.258 "
       ]
      },
      {
       "output_type": "stream",
       "stream": "stderr",
       "text": [
        "\r",
        "[ 71 %] elapsed[sec]: 151.483 | ETA[sec]: 59.626 "
       ]
      },
      {
       "output_type": "stream",
       "stream": "stderr",
       "text": [
        "\r",
        "[ 72 %] elapsed[sec]: 152.825 | ETA[sec]: 57.913 "
       ]
      },
      {
       "output_type": "stream",
       "stream": "stderr",
       "text": [
        "\r",
        "[ 73 %] elapsed[sec]: 154.166 | ETA[sec]: 56.206 "
       ]
      },
      {
       "output_type": "stream",
       "stream": "stderr",
       "text": [
        "\r",
        "[ 74 %] elapsed[sec]: 155.538 | ETA[sec]: 54.519 "
       ]
      },
      {
       "output_type": "stream",
       "stream": "stderr",
       "text": [
        "\r",
        "[ 74 %] elapsed[sec]: 156.863 | ETA[sec]: 52.821 "
       ]
      },
      {
       "output_type": "stream",
       "stream": "stderr",
       "text": [
        "\r",
        "[ 75 %] elapsed[sec]: 158.561 | ETA[sec]: 51.252 "
       ]
      },
      {
       "output_type": "stream",
       "stream": "stderr",
       "text": [
        "\r",
        "[ 76 %] elapsed[sec]: 159.950 | ETA[sec]: 49.585 "
       ]
      },
      {
       "output_type": "stream",
       "stream": "stderr",
       "text": [
        "\r",
        "[ 77 %] elapsed[sec]: 161.997 | ETA[sec]: 48.118 "
       ]
      },
      {
       "output_type": "stream",
       "stream": "stderr",
       "text": [
        "\r",
        "[ 77 %] elapsed[sec]: 163.336 | ETA[sec]: 46.439 "
       ]
      },
      {
       "output_type": "stream",
       "stream": "stderr",
       "text": [
        "\r",
        "[ 78 %] elapsed[sec]: 164.800 | ETA[sec]: 44.800 "
       ]
      },
      {
       "output_type": "stream",
       "stream": "stderr",
       "text": [
        "\r",
        "[ 79 %] elapsed[sec]: 166.270 | ETA[sec]: 43.166 "
       ]
      },
      {
       "output_type": "stream",
       "stream": "stderr",
       "text": [
        "\r",
        "[ 80 %] elapsed[sec]: 167.562 | ETA[sec]: 41.492 "
       ]
      },
      {
       "output_type": "stream",
       "stream": "stderr",
       "text": [
        "\r",
        "[ 80 %] elapsed[sec]: 168.909 | ETA[sec]: 39.837 "
       ]
      },
      {
       "output_type": "stream",
       "stream": "stderr",
       "text": [
        "\r",
        "[ 81 %] elapsed[sec]: 170.162 | ETA[sec]: 38.167 "
       ]
      },
      {
       "output_type": "stream",
       "stream": "stderr",
       "text": [
        "\r",
        "[ 82 %] elapsed[sec]: 172.472 | ETA[sec]: 36.730 "
       ]
      },
      {
       "output_type": "stream",
       "stream": "stderr",
       "text": [
        "\r",
        "[ 83 %] elapsed[sec]: 173.798 | ETA[sec]: 35.079 "
       ]
      },
      {
       "output_type": "stream",
       "stream": "stderr",
       "text": [
        "\r",
        "[ 83 %] elapsed[sec]: 175.650 | ETA[sec]: 33.533 "
       ]
      },
      {
       "output_type": "stream",
       "stream": "stderr",
       "text": [
        "\r",
        "[ 84 %] elapsed[sec]: 177.016 | ETA[sec]: 31.895 "
       ]
      },
      {
       "output_type": "stream",
       "stream": "stderr",
       "text": [
        "\r",
        "[ 85 %] elapsed[sec]: 178.729 | ETA[sec]: 30.320 "
       ]
      },
      {
       "output_type": "stream",
       "stream": "stderr",
       "text": [
        "\r",
        "[ 86 %] elapsed[sec]: 180.055 | ETA[sec]: 28.681 "
       ]
      },
      {
       "output_type": "stream",
       "stream": "stderr",
       "text": [
        "\r",
        "[ 87 %] elapsed[sec]: 181.697 | ETA[sec]: 27.095 "
       ]
      },
      {
       "output_type": "stream",
       "stream": "stderr",
       "text": [
        "\r",
        "[ 87 %] elapsed[sec]: 183.079 | ETA[sec]: 25.472 "
       ]
      },
      {
       "output_type": "stream",
       "stream": "stderr",
       "text": [
        "\r",
        "[ 88 %] elapsed[sec]: 184.593 | ETA[sec]: 23.870 "
       ]
      },
      {
       "output_type": "stream",
       "stream": "stderr",
       "text": [
        "\r",
        "[ 89 %] elapsed[sec]: 186.471 | ETA[sec]: 22.313 "
       ]
      },
      {
       "output_type": "stream",
       "stream": "stderr",
       "text": [
        "\r",
        "[ 90 %] elapsed[sec]: 188.115 | ETA[sec]: 20.725 "
       ]
      },
      {
       "output_type": "stream",
       "stream": "stderr",
       "text": [
        "\r",
        "[ 90 %] elapsed[sec]: 189.763 | ETA[sec]: 19.136 "
       ]
      },
      {
       "output_type": "stream",
       "stream": "stderr",
       "text": [
        "\r",
        "[ 91 %] elapsed[sec]: 191.329 | ETA[sec]: 17.538 "
       ]
      },
      {
       "output_type": "stream",
       "stream": "stderr",
       "text": [
        "\r",
        "[ 92 %] elapsed[sec]: 192.927 | ETA[sec]: 15.944 "
       ]
      },
      {
       "output_type": "stream",
       "stream": "stderr",
       "text": [
        "\r",
        "[ 93 %] elapsed[sec]: 194.378 | ETA[sec]: 14.339 "
       ]
      },
      {
       "output_type": "stream",
       "stream": "stderr",
       "text": [
        "\r",
        "[ 93 %] elapsed[sec]: 196.336 | ETA[sec]: 12.770 "
       ]
      },
      {
       "output_type": "stream",
       "stream": "stderr",
       "text": [
        "\r",
        "[ 94 %] elapsed[sec]: 197.593 | ETA[sec]: 11.154 "
       ]
      },
      {
       "output_type": "stream",
       "stream": "stderr",
       "text": [
        "\r",
        "[ 95 %] elapsed[sec]: 198.955 | ETA[sec]: 9.550 "
       ]
      },
      {
       "output_type": "stream",
       "stream": "stderr",
       "text": [
        "\r",
        "[ 96 %] elapsed[sec]: 200.633 | ETA[sec]: 7.962 "
       ]
      },
      {
       "output_type": "stream",
       "stream": "stderr",
       "text": [
        "\r",
        "[ 96 %] elapsed[sec]: 201.919 | ETA[sec]: 6.360 "
       ]
      },
      {
       "output_type": "stream",
       "stream": "stderr",
       "text": [
        "\r",
        "[ 97 %] elapsed[sec]: 203.304 | ETA[sec]: 4.765 "
       ]
      },
      {
       "output_type": "stream",
       "stream": "stderr",
       "text": [
        "\r",
        "[ 98 %] elapsed[sec]: 204.637 | ETA[sec]: 3.173 "
       ]
      },
      {
       "output_type": "stream",
       "stream": "stderr",
       "text": [
        "\r",
        "[ 99 %] elapsed[sec]: 207.002 | ETA[sec]: 1.592 "
       ]
      },
      {
       "output_type": "stream",
       "stream": "stderr",
       "text": [
        "\r",
        "[100 %] elapsed[sec]: 208.603 | ETA[sec]: 0.000 "
       ]
      },
      {
       "output_type": "stream",
       "stream": "stderr",
       "text": [
        "\r",
        "[100 %] elapsed[sec]: 208.604 | ETA[sec]: 0.000 "
       ]
      },
      {
       "output_type": "stream",
       "stream": "stderr",
       "text": [
        "\n",
        "Total time elapsed: 208.604 sec\n"
       ]
      }
     ],
     "prompt_number": 7
    },
    {
     "cell_type": "code",
     "collapsed": false,
     "input": [
      "talks = []\n",
      "\n",
      "for uri, soup in soups.items():\n",
      "    \n",
      "    talk = {}\n",
      "    \n",
      "    content = soup.find(attrs={\"class\":\"box-content\"})\n",
      "\n",
      "    elements = content.find_all(\"dd\")\n",
      "    talk['level'], talk['category'] = [ e.get_text(strip=True) for e in elements ]\n",
      "\n",
      "    elements = content.find_all(\"h4\")\n",
      "    talk['str_time'], talk['author'] = [ e.get_text(strip=True) for e in elements ]\n",
      "\n",
      "    talk['desc'] = soup.find(attrs={\"class\":\"description\"}).get_text(strip=True)\n",
      "    \n",
      "    # Abstracts contain some unparsed markdown\n",
      "    abstract = soup.find(attrs={\"class\":\"abstract\"}).get_text(strip=True)\n",
      "    html = markdown( abstract )\n",
      "    abstract = ''.join(BeautifulSoup(html).findAll(text=True))\n",
      "    \n",
      "    talk['abstract'] = abstract.replace(\"\\n\",\" \")\n",
      "\n",
      "    talk['title'] = content.find(\"h2\").get_text(strip=True)\n",
      "    \n",
      "    talks.append( talk )\n",
      "    \n",
      "talks = pd.DataFrame( talks )\n",
      "talks.head()"
     ],
     "language": "python",
     "metadata": {},
     "outputs": [
      {
       "html": [
        "<div style=\"max-height:1000px;max-width:1500px;overflow:auto;\">\n",
        "<table border=\"1\" class=\"dataframe\">\n",
        "  <thead>\n",
        "    <tr style=\"text-align: right;\">\n",
        "      <th></th>\n",
        "      <th>abstract</th>\n",
        "      <th>author</th>\n",
        "      <th>category</th>\n",
        "      <th>desc</th>\n",
        "      <th>level</th>\n",
        "      <th>str_time</th>\n",
        "      <th>title</th>\n",
        "    </tr>\n",
        "  </thead>\n",
        "  <tbody>\n",
        "    <tr>\n",
        "      <th>0</th>\n",
        "      <td> Generators: The Final Frontier This tutorial e...</td>\n",
        "      <td>    David Beazley</td>\n",
        "      <td> Python Core (language, stdlib, etc.)</td>\n",
        "      <td> Python generators have long been useful for so...</td>\n",
        "      <td>  Experienced</td>\n",
        "      <td>  Thursday\\n            9 a.m.\u201312:20 p.m.</td>\n",
        "      <td>                   Generators:  The Final Frontier</td>\n",
        "    </tr>\n",
        "    <tr>\n",
        "      <th>1</th>\n",
        "      <td> To be useful and trustworthy, specifications a...</td>\n",
        "      <td> Catherine Devlin</td>\n",
        "      <td>                            Education</td>\n",
        "      <td> Code executes.  Docs just sit there looking pr...</td>\n",
        "      <td> Intermediate</td>\n",
        "      <td>  Sunday\\n            1:50 p.m.\u20132:20 p.m.</td>\n",
        "      <td>                    See Docs Run.  Run, Docs, Run!</td>\n",
        "    </tr>\n",
        "    <tr>\n",
        "      <th>2</th>\n",
        "      <td> This tutorial is a systematic introduction to ...</td>\n",
        "      <td>      Mike M\u00fcller</td>\n",
        "      <td> Python Core (language, stdlib, etc.)</td>\n",
        "      <td> Descriptors and metaclasses are advanced Pytho...</td>\n",
        "      <td> Intermediate</td>\n",
        "      <td> Wednesday\\n            9 a.m.\u201312:20 p.m.</td>\n",
        "      <td> Descriptors and Metaclasses - Understanding an...</td>\n",
        "    </tr>\n",
        "    <tr>\n",
        "      <th>3</th>\n",
        "      <td> Since I started doing free-lance python web-ap...</td>\n",
        "      <td>  Kate Heddleston</td>\n",
        "      <td>            Best Practices &amp; Patterns</td>\n",
        "      <td> This is a talk about building full-stack pytho...</td>\n",
        "      <td> Intermediate</td>\n",
        "      <td>      Friday\\n            11:30 a.m.\u2013noon</td>\n",
        "      <td> So you want to be a full-stack developer? How ...</td>\n",
        "    </tr>\n",
        "    <tr>\n",
        "      <th>4</th>\n",
        "      <td> There are a lot of things to think about when ...</td>\n",
        "      <td>       Carl Meyer</td>\n",
        "      <td>            Best Practices &amp; Patterns</td>\n",
        "      <td> Got some code that you've written that would b...</td>\n",
        "      <td>       Novice</td>\n",
        "      <td>     Sunday\\n            2:30 p.m.\u20133 p.m.</td>\n",
        "      <td> Set your code free: releasing and maintaining ...</td>\n",
        "    </tr>\n",
        "  </tbody>\n",
        "</table>\n",
        "</div>"
       ],
       "metadata": {},
       "output_type": "pyout",
       "prompt_number": 8,
       "text": [
        "                                            abstract            author  \\\n",
        "0  Generators: The Final Frontier This tutorial e...     David Beazley   \n",
        "1  To be useful and trustworthy, specifications a...  Catherine Devlin   \n",
        "2  This tutorial is a systematic introduction to ...       Mike M\u00fcller   \n",
        "3  Since I started doing free-lance python web-ap...   Kate Heddleston   \n",
        "4  There are a lot of things to think about when ...        Carl Meyer   \n",
        "\n",
        "                               category  \\\n",
        "0  Python Core (language, stdlib, etc.)   \n",
        "1                             Education   \n",
        "2  Python Core (language, stdlib, etc.)   \n",
        "3             Best Practices & Patterns   \n",
        "4             Best Practices & Patterns   \n",
        "\n",
        "                                                desc         level  \\\n",
        "0  Python generators have long been useful for so...   Experienced   \n",
        "1  Code executes.  Docs just sit there looking pr...  Intermediate   \n",
        "2  Descriptors and metaclasses are advanced Pytho...  Intermediate   \n",
        "3  This is a talk about building full-stack pytho...  Intermediate   \n",
        "4  Got some code that you've written that would b...        Novice   \n",
        "\n",
        "                                   str_time  \\\n",
        "0   Thursday\\n            9 a.m.\u201312:20 p.m.   \n",
        "1   Sunday\\n            1:50 p.m.\u20132:20 p.m.   \n",
        "2  Wednesday\\n            9 a.m.\u201312:20 p.m.   \n",
        "3       Friday\\n            11:30 a.m.\u2013noon   \n",
        "4      Sunday\\n            2:30 p.m.\u20133 p.m.   \n",
        "\n",
        "                                               title  \n",
        "0                    Generators:  The Final Frontier  \n",
        "1                     See Docs Run.  Run, Docs, Run!  \n",
        "2  Descriptors and Metaclasses - Understanding an...  \n",
        "3  So you want to be a full-stack developer? How ...  \n",
        "4  Set your code free: releasing and maintaining ...  "
       ]
      }
     ],
     "prompt_number": 8
    },
    {
     "cell_type": "code",
     "collapsed": false,
     "input": [
      "day_to_date = {'Wednesday': 'Apr 9 2014 ',\n",
      "               'Thursday': 'Apr 10 2014 ',\n",
      "               'Friday': 'Apr 11 2014 ',\n",
      "               'Saturday': 'Apr 12 2014 ',\n",
      "               'Sunday': 'Apr 13 2014 ',\n",
      "               }\n",
      "\n",
      "def parse_dt( dt ):\n",
      "    \"\"\" Convert string to datetime \"\"\"\n",
      "    \n",
      "    day, t = [ x.strip() for x in dt.split('\\n') ]\n",
      "    \n",
      "    start, end = [ x.replace('.', '').replace(' ','').upper() for x in t.split(\"\u2013\") ]\n",
      "    \n",
      "    if end == \"NOON\":\n",
      "        end = \"12:00PM\"\n",
      "    elif end.find(':') < 0:\n",
      "        end = end[0] + \":00\" + end[-2:]\n",
      "    if start.find(':') < 0:\n",
      "        start = start[0] + \":00\" + start[-2:]\n",
      "    \n",
      "    try:\n",
      "        start = datetime.strptime( day_to_date[day] + start + ' EDT', '%b %d %Y %I:%M%p %Z' )\n",
      "    except ValueError:\n",
      "        print (\"error converting start time: \", start)\n",
      "    try:    \n",
      "        end = datetime.strptime( day_to_date[day] + end + ' EDT', '%b %d %Y %I:%M%p %Z' )\n",
      "    except ValueError:\n",
      "        print (\"error converting end time: \", end)\n",
      "    \n",
      "    return day, start, end"
     ],
     "language": "python",
     "metadata": {},
     "outputs": [],
     "prompt_number": 11
    },
    {
     "cell_type": "code",
     "collapsed": false,
     "input": [
      "talks[\"weekday\"], talks[\"start_dt\"], talks[\"end_dt\"] = zip(*talks[\"str_time\"].map(parse_dt))\n",
      "\n",
      "del talks[\"str_time\"]"
     ],
     "language": "python",
     "metadata": {},
     "outputs": [],
     "prompt_number": 12
    },
    {
     "cell_type": "code",
     "collapsed": false,
     "input": [
      "talks.head()"
     ],
     "language": "python",
     "metadata": {},
     "outputs": [
      {
       "html": [
        "<div style=\"max-height:1000px;max-width:1500px;overflow:auto;\">\n",
        "<table border=\"1\" class=\"dataframe\">\n",
        "  <thead>\n",
        "    <tr style=\"text-align: right;\">\n",
        "      <th></th>\n",
        "      <th>abstract</th>\n",
        "      <th>author</th>\n",
        "      <th>category</th>\n",
        "      <th>desc</th>\n",
        "      <th>level</th>\n",
        "      <th>title</th>\n",
        "      <th>weekday</th>\n",
        "      <th>start_dt</th>\n",
        "      <th>end_dt</th>\n",
        "    </tr>\n",
        "  </thead>\n",
        "  <tbody>\n",
        "    <tr>\n",
        "      <th>0</th>\n",
        "      <td> Generators: The Final Frontier This tutorial e...</td>\n",
        "      <td>    David Beazley</td>\n",
        "      <td> Python Core (language, stdlib, etc.)</td>\n",
        "      <td> Python generators have long been useful for so...</td>\n",
        "      <td>  Experienced</td>\n",
        "      <td>                   Generators:  The Final Frontier</td>\n",
        "      <td>  Thursday</td>\n",
        "      <td>2014-04-10 09:00:00</td>\n",
        "      <td>2014-04-10 12:20:00</td>\n",
        "    </tr>\n",
        "    <tr>\n",
        "      <th>1</th>\n",
        "      <td> To be useful and trustworthy, specifications a...</td>\n",
        "      <td> Catherine Devlin</td>\n",
        "      <td>                            Education</td>\n",
        "      <td> Code executes.  Docs just sit there looking pr...</td>\n",
        "      <td> Intermediate</td>\n",
        "      <td>                    See Docs Run.  Run, Docs, Run!</td>\n",
        "      <td>    Sunday</td>\n",
        "      <td>2014-04-13 13:50:00</td>\n",
        "      <td>2014-04-13 14:20:00</td>\n",
        "    </tr>\n",
        "    <tr>\n",
        "      <th>2</th>\n",
        "      <td> This tutorial is a systematic introduction to ...</td>\n",
        "      <td>      Mike M\u00fcller</td>\n",
        "      <td> Python Core (language, stdlib, etc.)</td>\n",
        "      <td> Descriptors and metaclasses are advanced Pytho...</td>\n",
        "      <td> Intermediate</td>\n",
        "      <td> Descriptors and Metaclasses - Understanding an...</td>\n",
        "      <td> Wednesday</td>\n",
        "      <td>2014-04-09 09:00:00</td>\n",
        "      <td>2014-04-09 12:20:00</td>\n",
        "    </tr>\n",
        "    <tr>\n",
        "      <th>3</th>\n",
        "      <td> Since I started doing free-lance python web-ap...</td>\n",
        "      <td>  Kate Heddleston</td>\n",
        "      <td>            Best Practices &amp; Patterns</td>\n",
        "      <td> This is a talk about building full-stack pytho...</td>\n",
        "      <td> Intermediate</td>\n",
        "      <td> So you want to be a full-stack developer? How ...</td>\n",
        "      <td>    Friday</td>\n",
        "      <td>2014-04-11 11:30:00</td>\n",
        "      <td>2014-04-11 12:00:00</td>\n",
        "    </tr>\n",
        "    <tr>\n",
        "      <th>4</th>\n",
        "      <td> There are a lot of things to think about when ...</td>\n",
        "      <td>       Carl Meyer</td>\n",
        "      <td>            Best Practices &amp; Patterns</td>\n",
        "      <td> Got some code that you've written that would b...</td>\n",
        "      <td>       Novice</td>\n",
        "      <td> Set your code free: releasing and maintaining ...</td>\n",
        "      <td>    Sunday</td>\n",
        "      <td>2014-04-13 14:30:00</td>\n",
        "      <td>2014-04-13 15:00:00</td>\n",
        "    </tr>\n",
        "  </tbody>\n",
        "</table>\n",
        "</div>"
       ],
       "metadata": {},
       "output_type": "pyout",
       "prompt_number": 13,
       "text": [
        "                                            abstract            author  \\\n",
        "0  Generators: The Final Frontier This tutorial e...     David Beazley   \n",
        "1  To be useful and trustworthy, specifications a...  Catherine Devlin   \n",
        "2  This tutorial is a systematic introduction to ...       Mike M\u00fcller   \n",
        "3  Since I started doing free-lance python web-ap...   Kate Heddleston   \n",
        "4  There are a lot of things to think about when ...        Carl Meyer   \n",
        "\n",
        "                               category  \\\n",
        "0  Python Core (language, stdlib, etc.)   \n",
        "1                             Education   \n",
        "2  Python Core (language, stdlib, etc.)   \n",
        "3             Best Practices & Patterns   \n",
        "4             Best Practices & Patterns   \n",
        "\n",
        "                                                desc         level  \\\n",
        "0  Python generators have long been useful for so...   Experienced   \n",
        "1  Code executes.  Docs just sit there looking pr...  Intermediate   \n",
        "2  Descriptors and metaclasses are advanced Pytho...  Intermediate   \n",
        "3  This is a talk about building full-stack pytho...  Intermediate   \n",
        "4  Got some code that you've written that would b...        Novice   \n",
        "\n",
        "                                               title    weekday  \\\n",
        "0                    Generators:  The Final Frontier   Thursday   \n",
        "1                     See Docs Run.  Run, Docs, Run!     Sunday   \n",
        "2  Descriptors and Metaclasses - Understanding an...  Wednesday   \n",
        "3  So you want to be a full-stack developer? How ...     Friday   \n",
        "4  Set your code free: releasing and maintaining ...     Sunday   \n",
        "\n",
        "             start_dt              end_dt  \n",
        "0 2014-04-10 09:00:00 2014-04-10 12:20:00  \n",
        "1 2014-04-13 13:50:00 2014-04-13 14:20:00  \n",
        "2 2014-04-09 09:00:00 2014-04-09 12:20:00  \n",
        "3 2014-04-11 11:30:00 2014-04-11 12:00:00  \n",
        "4 2014-04-13 14:30:00 2014-04-13 15:00:00  "
       ]
      }
     ],
     "prompt_number": 13
    },
    {
     "cell_type": "markdown",
     "metadata": {},
     "source": [
      "### Ignore old keynotes for now and just save talk and tutorial data"
     ]
    },
    {
     "cell_type": "code",
     "collapsed": false,
     "input": [
      "talks.to_csv( 'data/pycon_talks_2014.csv', sep=\"\\t\", index=False )"
     ],
     "language": "python",
     "metadata": {},
     "outputs": [],
     "prompt_number": 33
    },
    {
     "cell_type": "markdown",
     "metadata": {},
     "source": [
      "<a id=\"sys_info\"></a>\n",
      "## System Info"
     ]
    },
    {
     "cell_type": "code",
     "collapsed": false,
     "input": [
      "try:\n",
      "    %load_ext watermark\n",
      "except ImportError as e:\n",
      "    %install_ext https://raw.githubusercontent.com/rasbt/python_reference/master/ipython_magic/watermark.py\n",
      "    %load_ext watermark\n",
      "\n",
      "%watermark"
     ],
     "language": "python",
     "metadata": {},
     "outputs": [
      {
       "output_type": "stream",
       "stream": "stdout",
       "text": [
        "15/03/2015 15:25:15\n",
        "\n",
        "CPython 3.4.2\n",
        "IPython 2.3.0\n",
        "\n",
        "compiler   : GCC 4.2.1 Compatible Apple LLVM 5.1 (clang-503.0.40)\n",
        "system     : Darwin\n",
        "release    : 12.5.0\n",
        "machine    : x86_64\n",
        "processor  : i386\n",
        "CPU cores  : 4\n",
        "interpreter: 64bit\n"
       ]
      }
     ],
     "prompt_number": 33
    },
    {
     "cell_type": "code",
     "collapsed": false,
     "input": [
      "import pip\n",
      "sorted([\"%s==%s\" % (i.key, i.version) for i in pip.get_installed_distributions()])"
     ],
     "language": "python",
     "metadata": {},
     "outputs": [
      {
       "metadata": {},
       "output_type": "pyout",
       "prompt_number": 1,
       "text": [
        "['beautifulsoup4==4.3.2',\n",
        " 'bottle==0.12.8',\n",
        " 'certifi==14.05.14',\n",
        " 'd3py==0.2.3',\n",
        " 'db.py==0.3.1',\n",
        " 'decorator==3.4.0',\n",
        " 'gensim==0.10.3',\n",
        " 'gnureadline==6.3.3',\n",
        " 'ipython==2.3.0',\n",
        " 'jdcal==1.0',\n",
        " 'jinja2==2.7.3',\n",
        " 'markdown==2.6',\n",
        " 'markupsafe==0.23',\n",
        " 'matplotlib==1.4.2',\n",
        " 'mpld3==0.2',\n",
        " 'networkx==1.9.1',\n",
        " 'nltk==3.0.0',\n",
        " 'nose==1.3.4',\n",
        " 'numpy==1.9.0',\n",
        " 'oauthlib==0.7.2',\n",
        " 'openpyxl==2.1.5',\n",
        " 'pandas==0.15.0',\n",
        " 'patsy==0.3.0',\n",
        " 'prettytable==0.7.2',\n",
        " 'progressbar33==2.4',\n",
        " 'pygments==2.0.2',\n",
        " 'pymongo==2.7.2',\n",
        " 'pyparsing==2.0.3',\n",
        " 'pyprind==2.9.1',\n",
        " 'python-dateutil==2.2',\n",
        " 'pytz==2014.7',\n",
        " 'pyzmq==14.4.1',\n",
        " 'qgrid==0.1.1',\n",
        " 'requests-oauthlib==0.4.1',\n",
        " 'requests==2.3.0',\n",
        " 'scikit-learn==0.15.2',\n",
        " 'scipy==0.14.0',\n",
        " 'six==1.7.3',\n",
        " 'statsmodels==0.6.1',\n",
        " 'tornado==4.0.2',\n",
        " 'tweepy==2.3',\n",
        " 'vincent==0.4.4']"
       ]
      }
     ],
     "prompt_number": 1
    },
    {
     "cell_type": "code",
     "collapsed": false,
     "input": [],
     "language": "python",
     "metadata": {},
     "outputs": []
    }
   ],
   "metadata": {}
  }
 ]
}