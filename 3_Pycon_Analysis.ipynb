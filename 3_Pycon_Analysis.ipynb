{
 "metadata": {
  "name": "",
  "signature": "sha256:97be424626d4aac7829f0105e71149e66145a0f63ffa8994e279a438fc997938"
 },
 "nbformat": 3,
 "nbformat_minor": 0,
 "worksheets": [
  {
   "cells": [
    {
     "cell_type": "heading",
     "level": 1,
     "metadata": {},
     "source": [
      "Analysis"
     ]
    },
    {
     "cell_type": "markdown",
     "metadata": {},
     "source": [
      "This notebook Analyzes Pycon talk data using a few natural langauage processing techniques to determine latent topics and build a list of similar talks for each pycon talk.  "
     ]
    },
    {
     "cell_type": "heading",
     "level": 2,
     "metadata": {},
     "source": [
      "Table of Contents"
     ]
    },
    {
     "cell_type": "markdown",
     "metadata": {},
     "source": [
      "* [Load Data](#Load-Talk-Data) \n",
      "* [Build a Labelled Test-Set and Define a Scoring Function](#Build-a-Labelled-Test-Set-and-Define-a-Scoring-Function)\n",
      "  * [Baseline Score](#Baseline)  \n",
      "* [Non-Negative Matrix Factorization](#Non-Negative-Matrix-Factorization)\n",
      "  - [Examine words in each topic](#Examine-words-in-each-topic)\n",
      "  - [Examine top talks in each topic](#Examine-top-talks-in-each-topic)\n",
      "  - [Export Lookup Table for Web-Service to Use](#Export-Lookup-Table-for-Web-Service-to-Use)\n",
      "* Gensim LSI & LDA\n",
      "  - [Process Documents](#Process-Documents-for-Gensim)\n",
      "  - [Latent Semantic Index](#Latent-Semantic-Indexing)\n",
      "  - [Latent Dirichlet Allocation](#Latent-Dirichlet-Allocation)\n",
      "* [Visualize the Talks Grouped by Topic with tSNE and mpld3](#Visualize-the-Talks-Grouped-by-Topic-Using-t-SNE)"
     ]
    },
    {
     "cell_type": "heading",
     "level": 2,
     "metadata": {},
     "source": [
      "Load Talk Data"
     ]
    },
    {
     "cell_type": "markdown",
     "metadata": {},
     "source": [
      "[TOC](#Table-of-Contents)  \n",
      "Load two years worth of talks and concatenate a few fields together for BOW."
     ]
    },
    {
     "cell_type": "code",
     "collapsed": false,
     "input": [
      "import pandas as pd\n",
      "from collections import defaultdict\n",
      "from datetime import datetime"
     ],
     "language": "python",
     "metadata": {},
     "outputs": [],
     "prompt_number": 1
    },
    {
     "cell_type": "code",
     "collapsed": false,
     "input": [
      "talks1 = pd.read_csv( 'data/pycon_talks_2015.csv', sep=\"\\t\" )\n",
      "talks1['start_dt'] = pd.to_datetime( talks1.start_dt )\n",
      "talks2 = pd.read_csv( 'data/pycon_talks_2014.csv', sep='\\t' )\n",
      "talks2['start_dt'] = pd.to_datetime( talks2.start_dt )\n",
      "\n",
      "talks = talks1.append(talks2, ignore_index=True)\n",
      "talks.info()"
     ],
     "language": "python",
     "metadata": {},
     "outputs": [
      {
       "output_type": "stream",
       "stream": "stdout",
       "text": [
        "<class 'pandas.core.frame.DataFrame'>\n",
        "Int64Index: 269 entries, 0 to 268\n",
        "Data columns (total 9 columns):\n",
        "abstract    262 non-null object\n",
        "author      269 non-null object\n",
        "category    269 non-null object\n",
        "desc        269 non-null object\n",
        "level       262 non-null object\n",
        "title       269 non-null object\n",
        "weekday     269 non-null object\n",
        "start_dt    269 non-null datetime64[ns]\n",
        "end_dt      269 non-null object\n",
        "dtypes: datetime64[ns](1), object(8)\n",
        "memory usage: 21.0 KB\n"
       ]
      }
     ],
     "prompt_number": 2
    },
    {
     "cell_type": "code",
     "collapsed": false,
     "input": [
      "talks.tail()"
     ],
     "language": "python",
     "metadata": {},
     "outputs": [
      {
       "html": [
        "<div style=\"max-height:1000px;max-width:1500px;overflow:auto;\">\n",
        "<table border=\"1\" class=\"dataframe\">\n",
        "  <thead>\n",
        "    <tr style=\"text-align: right;\">\n",
        "      <th></th>\n",
        "      <th>abstract</th>\n",
        "      <th>author</th>\n",
        "      <th>category</th>\n",
        "      <th>desc</th>\n",
        "      <th>level</th>\n",
        "      <th>title</th>\n",
        "      <th>weekday</th>\n",
        "      <th>start_dt</th>\n",
        "      <th>end_dt</th>\n",
        "    </tr>\n",
        "  </thead>\n",
        "  <tbody>\n",
        "    <tr>\n",
        "      <th>264</th>\n",
        "      <td> A recommendation engine is a software system t...</td>\n",
        "      <td> Diego Maniloff,Christian Fricke,Zach Howard</td>\n",
        "      <td>                              Science</td>\n",
        "      <td> In this tutorial we'll set ourselves the goal ...</td>\n",
        "      <td> Intermediate</td>\n",
        "      <td> Hands-on with Pydata: how to build a minimal r...</td>\n",
        "      <td>  Thursday</td>\n",
        "      <td>2014-04-10 09:00:00</td>\n",
        "      <td> 2014-04-10 12:20:00</td>\n",
        "    </tr>\n",
        "    <tr>\n",
        "      <th>265</th>\n",
        "      <td> Working with developers on schema migrations i...</td>\n",
        "      <td>                           Selena Deckelmann</td>\n",
        "      <td>                            Databases</td>\n",
        "      <td> Working with developers on schema migrations i...</td>\n",
        "      <td> Intermediate</td>\n",
        "      <td> Sane schema migrations with Alembic and SQLAlc...</td>\n",
        "      <td>  Saturday</td>\n",
        "      <td>2014-04-12 14:35:00</td>\n",
        "      <td> 2014-04-12 15:05:00</td>\n",
        "    </tr>\n",
        "    <tr>\n",
        "      <th>266</th>\n",
        "      <td> Designing APIs is one of the hardest tasks in ...</td>\n",
        "      <td>                                   Erik Rose</td>\n",
        "      <td>            Best Practices &amp; Patterns</td>\n",
        "      <td> The language you speak determines the thoughts...</td>\n",
        "      <td> Intermediate</td>\n",
        "      <td>                             Designing Poetic APIs</td>\n",
        "      <td>  Saturday</td>\n",
        "      <td>2014-04-12 12:10:00</td>\n",
        "      <td> 2014-04-12 12:55:00</td>\n",
        "    </tr>\n",
        "    <tr>\n",
        "      <th>267</th>\n",
        "      <td> Beginning programmers: welcome to PyCon! Jumps...</td>\n",
        "      <td>                            Jessica McKellar</td>\n",
        "      <td> Python Core (language, stdlib, etc.)</td>\n",
        "      <td> Beginning programmers: welcome to PyCon! Jumps...</td>\n",
        "      <td>       Novice</td>\n",
        "      <td> A hands-on introduction to Python for beginnin...</td>\n",
        "      <td> Wednesday</td>\n",
        "      <td>2014-04-09 09:00:00</td>\n",
        "      <td> 2014-04-09 12:20:00</td>\n",
        "    </tr>\n",
        "    <tr>\n",
        "      <th>268</th>\n",
        "      <td> I. Why Async? A. First, There Was Multithreadi...</td>\n",
        "      <td>                        A. Jesse Jiryu Davis</td>\n",
        "      <td>                       Web Frameworks</td>\n",
        "      <td> Python\u2019s asynchronous frameworks, like Tulip, ...</td>\n",
        "      <td> Intermediate</td>\n",
        "      <td> What Is Async, How Does It Work, And When Shou...</td>\n",
        "      <td>    Friday</td>\n",
        "      <td>2014-04-11 15:15:00</td>\n",
        "      <td> 2014-04-11 16:00:00</td>\n",
        "    </tr>\n",
        "  </tbody>\n",
        "</table>\n",
        "</div>"
       ],
       "metadata": {},
       "output_type": "pyout",
       "prompt_number": 3,
       "text": [
        "                                              abstract  \\\n",
        "264  A recommendation engine is a software system t...   \n",
        "265  Working with developers on schema migrations i...   \n",
        "266  Designing APIs is one of the hardest tasks in ...   \n",
        "267  Beginning programmers: welcome to PyCon! Jumps...   \n",
        "268  I. Why Async? A. First, There Was Multithreadi...   \n",
        "\n",
        "                                          author  \\\n",
        "264  Diego Maniloff,Christian Fricke,Zach Howard   \n",
        "265                            Selena Deckelmann   \n",
        "266                                    Erik Rose   \n",
        "267                             Jessica McKellar   \n",
        "268                         A. Jesse Jiryu Davis   \n",
        "\n",
        "                                 category  \\\n",
        "264                               Science   \n",
        "265                             Databases   \n",
        "266             Best Practices & Patterns   \n",
        "267  Python Core (language, stdlib, etc.)   \n",
        "268                        Web Frameworks   \n",
        "\n",
        "                                                  desc         level  \\\n",
        "264  In this tutorial we'll set ourselves the goal ...  Intermediate   \n",
        "265  Working with developers on schema migrations i...  Intermediate   \n",
        "266  The language you speak determines the thoughts...  Intermediate   \n",
        "267  Beginning programmers: welcome to PyCon! Jumps...        Novice   \n",
        "268  Python\u2019s asynchronous frameworks, like Tulip, ...  Intermediate   \n",
        "\n",
        "                                                 title    weekday  \\\n",
        "264  Hands-on with Pydata: how to build a minimal r...   Thursday   \n",
        "265  Sane schema migrations with Alembic and SQLAlc...   Saturday   \n",
        "266                              Designing Poetic APIs   Saturday   \n",
        "267  A hands-on introduction to Python for beginnin...  Wednesday   \n",
        "268  What Is Async, How Does It Work, And When Shou...     Friday   \n",
        "\n",
        "               start_dt               end_dt  \n",
        "264 2014-04-10 09:00:00  2014-04-10 12:20:00  \n",
        "265 2014-04-12 14:35:00  2014-04-12 15:05:00  \n",
        "266 2014-04-12 12:10:00  2014-04-12 12:55:00  \n",
        "267 2014-04-09 09:00:00  2014-04-09 12:20:00  \n",
        "268 2014-04-11 15:15:00  2014-04-11 16:00:00  "
       ]
      }
     ],
     "prompt_number": 3
    },
    {
     "cell_type": "code",
     "collapsed": false,
     "input": [
      "# Code below depends on talks being sorted with current year talks first\n",
      "cur_year_max_ID = talks[ talks.start_dt >= datetime(2015,1,1) ].index[-1] + 1\n",
      "cur_year_max_ID"
     ],
     "language": "python",
     "metadata": {},
     "outputs": [
      {
       "metadata": {},
       "output_type": "pyout",
       "prompt_number": 4,
       "text": [
        "138"
       ]
      }
     ],
     "prompt_number": 4
    },
    {
     "cell_type": "markdown",
     "metadata": {},
     "source": [
      "Build a bag of words for each document"
     ]
    },
    {
     "cell_type": "code",
     "collapsed": false,
     "input": [
      "documents = []\n",
      "\n",
      "for ind, talk in talks.fillna('').iterrows():\n",
      "    documents.append( ' '.join([talk['title'],\n",
      "                                talk['desc'],\n",
      "                                talk['abstract'] \n",
      "                                ]) )\n",
      "    \n",
      "print (\"Read %d corpus of documents\" % len(documents))"
     ],
     "language": "python",
     "metadata": {},
     "outputs": [
      {
       "output_type": "stream",
       "stream": "stdout",
       "text": [
        "Read 269 corpus of documents\n"
       ]
      }
     ],
     "prompt_number": 5
    },
    {
     "cell_type": "heading",
     "level": 2,
     "metadata": {},
     "source": [
      "Build a Labelled Test-Set and Define a Scoring Function"
     ]
    },
    {
     "cell_type": "markdown",
     "metadata": {},
     "source": [
      "[TOC](#Table-of-Contents)  \n",
      "Instead of examining the top documents and words in each topic by eye every time a model parameter is adjusted define a quick, repeatable measure. The metric should be meaningful in terms of how we'll be using the topic model output, i.e. can we make good recommendations?  \n",
      "  \n",
      "Note\\* these groups depend on talks being in the same order (same index in dataframe) as when I created them."
     ]
    },
    {
     "cell_type": "code",
     "collapsed": false,
     "input": [
      "# Hand-make some clusters of talks with similar topics\n",
      "hand_made_groups = [\n",
      "('Databases', set([50,60,80,83,84,24])),\n",
      "('Django', set([5,40,43,59,101])),\n",
      "('Docker', set([74,91])),\n",
      "('Deployment', set([13,31,33,53,56,71,82,110,112,])),\n",
      "('Systems', set([9,10,53,71,118,120,])),\n",
      "('Web Apps', set([51,56,89,129,])),\n",
      "('modules, packages', set([27,20,33,109])),\n",
      "('API', set([43,56,124,130])),\n",
      "('Machine Learning, modeling', set([50,52,72,78,97,104,116,125,])),\n",
      "('Testing', set([21,39,59,64,65])),\n",
      "('Open Source', set([70,99,122])),\n",
      "('Python Language, Learning', set([2,7,11,16,19,29,47,67,69,79,90,98,100,126,134,135,137])),\n",
      "('Data Science', set([8,22,24,25,26,30,52,57,68,72,76,78,81,88,97,102,104,116,125,132,136])),\n",
      "('Math', set([37,26,57,132,])),\n",
      "('Graphs', set([8,48,76])),\n",
      "('Games', set([23,38,])),\n",
      "]\n",
      "\n",
      "# put it in context of each doc\n",
      "labeled_docs = defaultdict(set)\n",
      "    \n",
      "for topic, group in hand_made_groups:\n",
      "    for doc in group:\n",
      "        [ labeled_docs[doc].add(d) for d in group if d != doc ]"
     ],
     "language": "python",
     "metadata": {},
     "outputs": [],
     "prompt_number": 6
    },
    {
     "cell_type": "code",
     "collapsed": false,
     "input": [
      "def score( make_preds ):\n",
      "    num_docs = len( labeled_docs )\n",
      "    true_pos = 0\n",
      "    false_pos = 0\n",
      "    true_neg = 0\n",
      "    false_neg = 0\n",
      "\n",
      "    for doc in labeled_docs.keys():\n",
      "\n",
      "        # get predictions for eval_doc\n",
      "        preds = make_preds(doc)\n",
      "\n",
      "        tp = len(set(preds).intersection( labeled_docs[doc] ))\n",
      "        true_pos += tp\n",
      "\n",
      "        fp = len(set(preds).difference( labeled_docs[doc] ))\n",
      "        false_pos += fp\n",
      "\n",
      "        fn = len(labeled_docs[doc].difference( set(preds) ))\n",
      "        false_neg += fn\n",
      "\n",
      "        true_neg += (num_docs - (tp + fp + fn))\n",
      "        \n",
      "    accuracy = (true_pos + true_neg) / (true_pos + true_neg + false_pos + false_neg)\n",
      "    precision = true_pos / (true_pos + false_pos)\n",
      "    recall = true_pos / (true_pos + false_neg)\n",
      "    f_one = 2 * ((precision * recall) / (precision + recall))\n",
      "\n",
      "    print (\"accuracy:  %0.2f \\nprecision: %0.2f \\nrecall:    %0.2f \\nF1:        %0.2f\" % (accuracy, precision, recall, f_one))\n",
      "    \n",
      "    return accuracy, precision, recall, f_one"
     ],
     "language": "python",
     "metadata": {},
     "outputs": [],
     "prompt_number": 7
    },
    {
     "cell_type": "heading",
     "level": 3,
     "metadata": {},
     "source": [
      "Baseline"
     ]
    },
    {
     "cell_type": "markdown",
     "metadata": {},
     "source": [
      "[TOC](#Table-of-Contents)  \n",
      "Test the scoring function and create a baseline score by guessing the next doc in the index is related"
     ]
    },
    {
     "cell_type": "code",
     "collapsed": false,
     "input": [
      "acc, prec, rec, f_one = score( lambda x: [x+1])"
     ],
     "language": "python",
     "metadata": {},
     "outputs": [
      {
       "output_type": "stream",
       "stream": "stdout",
       "text": [
        "accuracy:  0.85 \n",
        "precision: 0.07 \n",
        "recall:    0.01 \n",
        "F1:        0.01\n"
       ]
      }
     ],
     "prompt_number": 8
    },
    {
     "cell_type": "heading",
     "level": 2,
     "metadata": {},
     "source": [
      "Non-Negative Matrix Factorization"
     ]
    },
    {
     "cell_type": "markdown",
     "metadata": {},
     "source": [
      "[TOC](#Table-of-Contents)  \n",
      "Most of the NMF code below is taken directly from Derek Green's (@derekgreene) excellent [article](http://derekgreene.com/nmf-topic/) and [notebook](http://nbviewer.ipython.org/url/derekgreene.com/notebooks/nmf_topic.ipynb) on the topic"
     ]
    },
    {
     "cell_type": "code",
     "collapsed": false,
     "input": [
      "from sklearn.feature_extraction.text import TfidfVectorizer\n",
      "from sklearn.metrics.pairwise import cosine_similarity\n",
      "from sklearn import decomposition\n",
      "from sklearn.feature_extraction.stop_words import ENGLISH_STOP_WORDS"
     ],
     "language": "python",
     "metadata": {},
     "outputs": [],
     "prompt_number": 9
    },
    {
     "cell_type": "code",
     "collapsed": false,
     "input": [
      "combined_stops =  list(ENGLISH_STOP_WORDS) + ['tutorial', 'also', 'get', \"we'll\", 'll', 'code', '&' ]\n",
      "ENGLISH_STOP_WORDS = frozenset( combined_stops )"
     ],
     "language": "python",
     "metadata": {},
     "outputs": [],
     "prompt_number": 10
    },
    {
     "cell_type": "code",
     "collapsed": false,
     "input": [
      "tfidf = TfidfVectorizer(stop_words=ENGLISH_STOP_WORDS, \n",
      "                        lowercase=True, \n",
      "                        strip_accents=\"unicode\", \n",
      "                        use_idf=True, \n",
      "                        norm=\"l2\", \n",
      "                        min_df = 6,  # appears in >= X docs\n",
      "                        max_df = 0.5,  # appears in <= Y% of docs\n",
      "                        ngram_range=(1,2), # use bigrams\n",
      "                        ) \n",
      "\n",
      "A = tfidf.fit_transform(documents)\n",
      "\n",
      "print (\"Created document-term matrix of size %d x %d\" % (A.shape[0],A.shape[1]) )"
     ],
     "language": "python",
     "metadata": {},
     "outputs": [
      {
       "output_type": "stream",
       "stream": "stdout",
       "text": [
        "Created document-term matrix of size 269 x 1023\n"
       ]
      }
     ],
     "prompt_number": 11
    },
    {
     "cell_type": "markdown",
     "metadata": {},
     "source": [
      "Save mapping of indicies to the words they represent"
     ]
    },
    {
     "cell_type": "code",
     "collapsed": false,
     "input": [
      "num_terms = len(tfidf.vocabulary_)\n",
      "terms = [\"\"] * num_terms\n",
      "for term in tfidf.vocabulary_.keys():\n",
      "    terms[ tfidf.vocabulary_[term] ] = term"
     ],
     "language": "python",
     "metadata": {},
     "outputs": [],
     "prompt_number": 12
    },
    {
     "cell_type": "markdown",
     "metadata": {},
     "source": [
      "Do the factorization and produce the factors"
     ]
    },
    {
     "cell_type": "code",
     "collapsed": false,
     "input": [
      "num_tops = 22\n",
      "model = decomposition.NMF(init=\"nndsvd\", \n",
      "                          n_components=num_tops, \n",
      "                          max_iter=400, \n",
      "                          tol=0.0001,\n",
      "                          )\n",
      "W = model.fit_transform(A)\n",
      "H = model.components_\n",
      "print (\"Generated factor W of size %s and factor H of size %s\" % ( str(W.shape), str(H.shape) ) )"
     ],
     "language": "python",
     "metadata": {},
     "outputs": [
      {
       "output_type": "stream",
       "stream": "stdout",
       "text": [
        "Generated factor W of size (269, 22) and factor H of size (22, 1023)\n"
       ]
      }
     ],
     "prompt_number": 13
    },
    {
     "cell_type": "markdown",
     "metadata": {},
     "source": [
      "For each talk in 2015 (the first 138 docs), calculate the similarity between it and all the other 2015 documents based on the topics each is associated with."
     ]
    },
    {
     "cell_type": "code",
     "collapsed": false,
     "input": [
      "doc_sims = cosine_similarity( W[:cur_year_max_ID,:], W[:cur_year_max_ID,:] )\n",
      "doc_sims.shape"
     ],
     "language": "python",
     "metadata": {},
     "outputs": [
      {
       "metadata": {},
       "output_type": "pyout",
       "prompt_number": 14,
       "text": [
        "(138, 138)"
       ]
      }
     ],
     "prompt_number": 14
    },
    {
     "cell_type": "markdown",
     "metadata": {},
     "source": [
      "Build an index of recommended talks for each talk. Incorporate a threshold of similarity and a max number of related talks.  \n",
      "Experimenting with different combinations of similarity threshold and top-n related docs gives pretty good control over precision vs. recall and can be tailored to the recommender application."
     ]
    },
    {
     "cell_type": "code",
     "collapsed": false,
     "input": [
      "NMF_lookup = {}\n",
      "sim_thresh = 0.74  # min similarity docs need to be to recommend (0.0-1.0)\n",
      "n_docs = 15  # how many docs above threshold to keep\n",
      "\n",
      "for doc_key in range(doc_sims.shape[0]):\n",
      "    \n",
      "    # slice column out of similarity matrix for this doc\n",
      "    similarities = doc_sims[doc_key,:]\n",
      "    \n",
      "    # sort related docs by score, descending\n",
      "    related = sorted(enumerate(similarities), key=lambda tup: tup[1], reverse=True)\n",
      "    \n",
      "    # remove related score that compares to itself and any docs under the threshold of relevance\n",
      "    related = [ doc_id for doc_id, sim in related if doc_id != doc_key and sim >= sim_thresh ]\n",
      "    \n",
      "    # only use top-N recommendations\n",
      "    related = related[:n_docs]\n",
      "    \n",
      "    NMF_lookup[doc_key] = related\n",
      "\n",
      "# Score it\n",
      "def make_NMF_pred( doc_id ):\n",
      "    return [ doc_num for doc_num in NMF_lookup[doc_id] ]\n",
      "\n",
      "a, p, r, f = score( make_NMF_pred )"
     ],
     "language": "python",
     "metadata": {},
     "outputs": [
      {
       "output_type": "stream",
       "stream": "stdout",
       "text": [
        "accuracy:  0.86 \n",
        "precision: 0.49 \n",
        "recall:    0.20 \n",
        "F1:        0.28\n"
       ]
      }
     ],
     "prompt_number": 15
    },
    {
     "cell_type": "heading",
     "level": 3,
     "metadata": {},
     "source": [
      "Examine words in each topic"
     ]
    },
    {
     "cell_type": "markdown",
     "metadata": {},
     "source": [
      "[TOC](#Table-of-Contents)  "
     ]
    },
    {
     "cell_type": "code",
     "collapsed": false,
     "input": [
      "import numpy as np"
     ],
     "language": "python",
     "metadata": {},
     "outputs": [],
     "prompt_number": 16
    },
    {
     "cell_type": "code",
     "collapsed": false,
     "input": [
      "for topic_index in range( H.shape[0] ):\n",
      "    top_indices = np.argsort( H[topic_index,:] )[::-1][0:10]\n",
      "    term_ranking = [terms[i] for i in top_indices]\n",
      "    print (\"Topic %d: %s\" % ( topic_index, \", \".join( term_ranking ) ) )"
     ],
     "language": "python",
     "metadata": {},
     "outputs": [
      {
       "output_type": "stream",
       "stream": "stdout",
       "text": [
        "Topic 0: source, open source, open, project, contribute, community, projects, source python, want, help\n",
        "Topic 1: machine learning, machine, learning, scikit, scikit learn, learn, data, model, algorithms, science\n",
        "Topic 2: data, analysis, scraping, using, data analysis, time, graph, pandas, matplotlib, libraries\n",
        "Topic 3: django, templates, request, views, response, web, interface, apps, components, new\n",
        "Topic 4: game, games, video, simple, developed, walk, platforms, development, attendees, using\n",
        "Topic 5: tests, testing, test, unit, py, requests, unit tests, automated, functional, write\n",
        "Topic 6: programming, programs, pycon, python programs, interactive, write, programmers, beginning, practice, python programming\n",
        "Topic 7: hands, material, new python, intermediate, bring laptop, laptop python, decorators, laptop, bring, fast paced\n",
        "Topic 8: ansible, configuration, management, configuration management, deployment, modules, systems, remote, execution, written python\n",
        "Topic 9: twisted, event, asynchronous, loop, event loop, network, connection, protocol, server, frameworks\n",
        "Topic 10: performance, slow, techniques, library, optimization, standard library, standard, used, cycle, applications\n",
        "Topic 11: security, app, web app, secure, attacks, experience, site, web, issues, cross\n",
        "Topic 12: function, class, definition, ways, languages, features, understand, like, functions, don\n",
        "Topic 13: problems, people, help, students, real, example, simple, engineers, world, started\n",
        "Topic 14: flask, services, web, framework, build, session, extensions, way, web framework, authentication\n",
        "Topic 15: software, free, years, module, design, modules, developers, happen, behavior, learned\n",
        "Topic 16: javascript, pypy, interpreter, browser, js, cpython, python interpreter, client, minutes, python javascript\n",
        "Topic 17: memory, distributed, process, low, reference, module, high, cpython, systems, objects\n",
        "Topic 18: ipython, engine, notebook, interactive, minimal, computing, process, numpy, shell, building\n",
        "Topic 19: web, application, web application, python web, scraping, tools, development, web development, stack, end\n",
        "Topic 20: database, sqlalchemy, orm, sql, special, query, schema, developer, core, complex\n",
        "Topic 21: api, apis, rest, models, ve, graphics, build, design, patterns, practices\n"
       ]
      }
     ],
     "prompt_number": 17
    },
    {
     "cell_type": "heading",
     "level": 3,
     "metadata": {},
     "source": [
      "Examine top talks in each topic"
     ]
    },
    {
     "cell_type": "markdown",
     "metadata": {},
     "source": [
      "[TOC](#Table-of-Contents)  "
     ]
    },
    {
     "cell_type": "code",
     "collapsed": false,
     "input": [
      "topics_to_show = 2\n",
      "for topic_index in range( min(W.shape[1], topics_to_show) ):\n",
      "    top_indices = np.argsort( W[:cur_year_max_ID,topic_index] )[::-1][0:15]\n",
      "    term_ranking = [(talks.ix[i].title, W[i,topic_index]) for i in top_indices]\n",
      "    print (\"Topic %d:\" % ( topic_index  ))\n",
      "    for t in term_ranking:\n",
      "        print (t)\n",
      "    print ()"
     ],
     "language": "python",
     "metadata": {},
     "outputs": [
      {
       "output_type": "stream",
       "stream": "stdout",
       "text": [
        "Topic 0:\n",
        "('Open Source for Newcomers and the People Who Want to Welcome Them', 0.2826173899896588)\n",
        "('Opening Statements', 0.14402782707582332)\n",
        "('Robots Robots Ra Ra Ra!!!', 0.13648104563829647)\n",
        "('PSF Chair', 0.1075813864177774)\n",
        "(\"Django's Co-creator\", 0.099293899702828689)\n",
        "('Demystifying Docker', 0.09500002237769585)\n",
        "('Docker 101: Introduction to Docker', 0.091417558154530981)\n",
        "('Python Performance Profiling: The Guts And The Glory', 0.075179964413609593)\n",
        "('Avoiding Burnout, and other essentials of Open Source Self-Care', 0.073562713452527059)\n",
        "('How to make your code Python 2/3 compatible', 0.071725509051593653)\n",
        "('I18N: World Domination the Easy Way', 0.069337481808145099)\n",
        "('Hadoop with Python', 0.067601006595841312)\n",
        "('streamparse: real-time streams with Python and Apache Storm', 0.062445942287859081)\n",
        "('The Ethical Consequences Of Our Collective Activities', 0.057936841287175432)\n",
        "('3D Print Anything with the Blender API', 0.051230040111769286)\n",
        "\n",
        "Topic 1:\n",
        "('Machine Learning with Scikit-Learn (I)', 0.69768370316642114)\n",
        "('Machine Learning 101', 0.59800464405341514)\n",
        "('Winning Machine Learning Competitions With Scikit-Learn', 0.58126458884981669)\n",
        "('Machine Learning with Scikit-Learn (II)', 0.48176504643539941)\n",
        "('Grids, Streets and Pipelines: Building a linguistic street map with scikit-learn', 0.2228875396081787)\n",
        "('Hands-on Data Analysis with Python', 0.20734296846544256)\n",
        "('Data Science in Advertising: Or a future when we love ads', 0.20509401221311555)\n",
        "('Bytes in the Machine: Inside the CPython interpreter', 0.098007775974864125)\n",
        "('Exploring Minecraft and Python: Learning to Code Through Play', 0.070529006473038697)\n",
        "(\"Learning from other's mistakes: Data-driven analysis of Python code\", 0.051900286675114676)\n",
        "('What to do when you need crypto', 0.037300891553877238)\n",
        "('Losing your Loops: Fast Numerical Computing with NumPy', 0.036183244158200324)\n",
        "('\"Words, words, words\": Reading Shakespeare with Python', 0.035711659509561594)\n",
        "('Build and test wheel packages on Linux, OSX & Windows', 0.033361721570761824)\n",
        "('Slithering Into Elasticsearch', 0.031589324903414442)\n",
        "\n"
       ]
      }
     ],
     "prompt_number": 18
    },
    {
     "cell_type": "heading",
     "level": 3,
     "metadata": {},
     "source": [
      "Export Lookup Table for Web-Service to Use"
     ]
    },
    {
     "cell_type": "markdown",
     "metadata": {},
     "source": [
      "[TOC](#Table-of-Contents)  \n",
      "Save index to a file that a webservice can load   \n",
      "e.g. the 2nd line is a comma-separated list of the docs related to the 2nd talk"
     ]
    },
    {
     "cell_type": "code",
     "collapsed": false,
     "input": [
      "lines = []\n",
      "for k in range( len(NMF_lookup.keys())):\n",
      "    line = []\n",
      "    for doc_num in NMF_lookup[k]:\n",
      "        line.append( str(doc_num) )\n",
      "        \n",
      "    lines.append(','.join(line) )\n",
      "\n",
      "with open('app/rel_talks.txt', mode='wt', encoding='utf-8') as myfile:\n",
      "    myfile.write( '\\n'.join(lines) )"
     ],
     "language": "python",
     "metadata": {},
     "outputs": [],
     "prompt_number": 19
    },
    {
     "cell_type": "code",
     "collapsed": false,
     "input": [
      "!head app/rel_talks.txt"
     ],
     "language": "python",
     "metadata": {},
     "outputs": [
      {
       "output_type": "stream",
       "stream": "stdout",
       "text": [
        "24\r\n",
        "11,105,84,132,35,7,92,70,23,17,104\r\n",
        "120,79,134,28,100\r\n",
        "25,84\r\n",
        "\r\n",
        "40,73,101\r\n",
        "20,61,63,122\r\n",
        "132,105,11,57,35,1,23,70,75,104,41,92\r\n",
        "25,26,76,128,14,48,34,81,24\r\n",
        "107,98\r\n"
       ]
      }
     ],
     "prompt_number": 20
    },
    {
     "cell_type": "heading",
     "level": 2,
     "metadata": {},
     "source": [
      "Process Documents for Gensim"
     ]
    },
    {
     "cell_type": "markdown",
     "metadata": {},
     "source": [
      "[TOC](#Table-of-Contents)  \n",
      "Tokenize, make bigrams, remove stop words"
     ]
    },
    {
     "cell_type": "code",
     "collapsed": false,
     "input": [
      "import re\n",
      "import itertools\n",
      "from gensim import corpora, models, similarities\n",
      "from nltk import bigrams\n",
      "from nltk.corpus import stopwords \n",
      "from nltk import PorterStemmer\n",
      "\n",
      "stemmer = PorterStemmer()\n",
      "\n",
      "# Replace dashes with spaces\n",
      "def remove_dashes(text):\n",
      "    rx = re.compile(u'([\\u2014\\-\\,\\u2019,\\n]|\\.|\\(|\\)|\\:|;|/|\\[|\\])', flags=re.UNICODE)\n",
      "    new_text = rx.sub(\" \", text )\n",
      "    return new_text"
     ],
     "language": "python",
     "metadata": {},
     "outputs": [],
     "prompt_number": 21
    },
    {
     "cell_type": "markdown",
     "metadata": {},
     "source": [
      "Make it as painless as possible to try different ways of preprocessing the talks"
     ]
    },
    {
     "cell_type": "code",
     "collapsed": false,
     "input": [
      "def prep_docs(documents, stem_words=True, cur_yr_only=True, use_bigrams=False, min_word_freq=5, tfidf=False ):\n",
      "    \"\"\"Clean documents, remove stop words etc. Returns a list \n",
      "    of docs where each doc is a list of n-grams\"\"\"\n",
      "    \n",
      "    stops = stopwords.words('english') + ['python', 'use', 'learn', 'talk', \n",
      "                                          'discuss', 'program', 'tutorial',\n",
      "                                          'also', 'get', \"we'll\", 'll', \n",
      "                                          'http', 'code', '&' ]\n",
      "    if cur_yr_only:\n",
      "        end_doc = cur_year_max_ID\n",
      "    else:\n",
      "        end_doc = len(documents)\n",
      "    \n",
      "    # Split and clean concatentated text\n",
      "    if stem_words:\n",
      "        print(\"Splitting %d docs into words and stemming\" % len(documents[:end_doc]))\n",
      "        stops = [ stemmer.stem(word) for word in stops ]\n",
      "        \n",
      "        texts_ = [ [stemmer.stem(word) for word in remove_dashes(document.lower()).split()] \n",
      "                  for document in documents[:end_doc] ]\n",
      "    else:\n",
      "        print(\"Splitting %d docs into words\" % len(documents[:end_doc]))\n",
      "        texts_ = [ [word for word in remove_dashes(document.lower()).split()] \n",
      "                  for document in documents[:end_doc] ]\n",
      "\n",
      "    # Filter out stop words\n",
      "    print(\"Filtering out stop words\")\n",
      "    texts_ = [ [word for word in document if word not in stops]\n",
      "               for document in texts_ ]\n",
      "    \n",
      "    # Bigrams\n",
      "    if use_bigrams:\n",
      "        print(\"Adding bigrams\")\n",
      "        bigram_texts = []\n",
      "        for doc in texts_:\n",
      "            bigram_texts.append( doc + [' '.join(x) for x in bigrams(doc)] )\n",
      "        texts_ = bigram_texts\n",
      "\n",
      "    # Remove rare words\n",
      "    if min_word_freq:\n",
      "        print(\"Removing rare words\")\n",
      "        all_tokens = list(itertools.chain(*texts_))\n",
      "        rare_tokens = set(word for word in set(all_tokens) if all_tokens.count(word) < min_word_freq)\n",
      "        texts_ = [[ngram for ngram in btext if ngram not in rare_tokens]\n",
      "                  for btext in texts_]\n",
      "\n",
      "    dictionary = corpora.Dictionary(texts_)\n",
      "    corpus = [dictionary.doc2bow(text) for text in texts_]\n",
      "\n",
      "    # average length of words per doc (useful for tuning model params)\n",
      "    tot = 0\n",
      "    for t in texts_:\n",
      "        tot += len(t)\n",
      "    print ( \"%3.0f average n-gramas per doc\" % (tot / float(len(texts_))) )\n",
      "\n",
      "    # TF-IDF weighting\n",
      "    if tfidf:\n",
      "        print(\"Converting to TF-IDF vector space\")\n",
      "        tfidf = models.TfidfModel(corpus) \n",
      "        corpus = tfidf[corpus]\n",
      "        \n",
      "    return corpus, dictionary"
     ],
     "language": "python",
     "metadata": {},
     "outputs": [],
     "prompt_number": 22
    },
    {
     "cell_type": "code",
     "collapsed": false,
     "input": [
      "def save_BOW(corpus, dictionary, c_path=\"data/pycon_corpus.mm\", d_path=\"data/pycon.dict\"):\n",
      "    corpora.MmCorpus.serialize(c_path, corpus)\n",
      "    dictionary.save(d_path)\n",
      "    return"
     ],
     "language": "python",
     "metadata": {},
     "outputs": [],
     "prompt_number": 23
    },
    {
     "cell_type": "code",
     "collapsed": false,
     "input": [
      "def load_BOW(c_path=\"data/pycon_corpus.mm\", d_path=\"data/pycon.dict\"):\n",
      "    corpus = corpora.MmCorpus(c_path)\n",
      "    dictionary = corpora.Dictionary.load(d_path)\n",
      "    return corpus, dictionary"
     ],
     "language": "python",
     "metadata": {},
     "outputs": [],
     "prompt_number": 24
    },
    {
     "cell_type": "heading",
     "level": 2,
     "metadata": {},
     "source": [
      "Latent-Semantic-Indexing"
     ]
    },
    {
     "cell_type": "markdown",
     "metadata": {},
     "source": [
      "[TOC](#Table-of-Contents)  "
     ]
    },
    {
     "cell_type": "code",
     "collapsed": false,
     "input": [
      "corpus, dictionary = prep_docs(documents, \n",
      "                               stem_words=False, \n",
      "                               cur_yr_only=True, \n",
      "                               use_bigrams=True, \n",
      "                               min_word_freq=False, \n",
      "                               tfidf=False )"
     ],
     "language": "python",
     "metadata": {},
     "outputs": [
      {
       "output_type": "stream",
       "stream": "stdout",
       "text": [
        "Splitting 138 docs into words\n",
        "Filtering out stop words\n",
        "Adding bigrams"
       ]
      },
      {
       "output_type": "stream",
       "stream": "stdout",
       "text": [
        "\n",
        "267 average n-gramas per doc"
       ]
      },
      {
       "output_type": "stream",
       "stream": "stdout",
       "text": [
        "\n"
       ]
      }
     ],
     "prompt_number": 25
    },
    {
     "cell_type": "markdown",
     "metadata": {},
     "source": [
      "define Latent Semantic Index of Documents"
     ]
    },
    {
     "cell_type": "code",
     "collapsed": false,
     "input": [
      "nf = 22 # number of topics / features\n",
      "lsi = models.LsiModel(corpus, id2word=dictionary, num_topics=nf, extra_samples=150,)\n",
      "index = similarities.MatrixSimilarity(lsi[corpus], num_features=nf) \n",
      "\n",
      "#index.save('data/pycon_2yr_01.index')\n",
      "#index = similarities.MatrixSimilarity.load('data/pycon_2yr_01.index')"
     ],
     "language": "python",
     "metadata": {},
     "outputs": [],
     "prompt_number": 26
    },
    {
     "cell_type": "markdown",
     "metadata": {},
     "source": [
      "Make a lookup table of related docs and score it"
     ]
    },
    {
     "cell_type": "code",
     "collapsed": false,
     "input": [
      "# make a lookup table\n",
      "lsi_lookup = {}\n",
      "\n",
      "for doc_key, scores in enumerate( index ):\n",
      "    \n",
      "    # sort related docs by score, descending\n",
      "    related = sorted(list(enumerate(scores)), key=lambda tup: tup[1], reverse=True)\n",
      "    \n",
      "    # remove related score that compares to itself and any docs under a threshold of relevance\n",
      "    related = [ doc for doc in related if doc[0] != doc_key and doc[1] >= 0.74 ]\n",
      "    \n",
      "    # a max of x related, so lists aren't too long\n",
      "    related = related[:15]\n",
      "    \n",
      "    lsi_lookup[doc_key] = related\n",
      "    \n",
      "def make_LSI_pred( doc_id ):\n",
      "    \n",
      "    return [ doc_num for doc_num, score in lsi_lookup[doc_id] ]\n",
      "\n",
      "a, p, r, f = score( make_LSI_pred )"
     ],
     "language": "python",
     "metadata": {},
     "outputs": [
      {
       "output_type": "stream",
       "stream": "stdout",
       "text": [
        "accuracy:  0.83 \n",
        "precision: 0.29 \n",
        "recall:    0.17 \n",
        "F1:        0.21\n"
       ]
      }
     ],
     "prompt_number": 27
    },
    {
     "cell_type": "code",
     "collapsed": false,
     "input": [],
     "language": "python",
     "metadata": {},
     "outputs": [],
     "prompt_number": 27
    },
    {
     "cell_type": "heading",
     "level": 2,
     "metadata": {},
     "source": [
      "Latent Dirichlet Allocation"
     ]
    },
    {
     "cell_type": "markdown",
     "metadata": {},
     "source": [
      "[TOC](#Table-of-Contents)  "
     ]
    },
    {
     "cell_type": "code",
     "collapsed": false,
     "input": [
      "corpus, dictionary = prep_docs(documents, \n",
      "                               stem_words=True, \n",
      "                               cur_yr_only=True, \n",
      "                               use_bigrams=True, \n",
      "                               min_word_freq=5, \n",
      "                               tfidf=False )"
     ],
     "language": "python",
     "metadata": {},
     "outputs": [
      {
       "output_type": "stream",
       "stream": "stdout",
       "text": [
        "Splitting 138 docs into words and stemming\n",
        "Filtering out stop words"
       ]
      },
      {
       "output_type": "stream",
       "stream": "stdout",
       "text": [
        "\n",
        "Adding bigrams"
       ]
      },
      {
       "output_type": "stream",
       "stream": "stdout",
       "text": [
        "\n",
        "Removing rare words\n",
        "104 average n-gramas per doc"
       ]
      },
      {
       "output_type": "stream",
       "stream": "stdout",
       "text": [
        "\n"
       ]
      }
     ],
     "prompt_number": 28
    },
    {
     "cell_type": "code",
     "collapsed": false,
     "input": [
      "nf = 22\n",
      "lda = models.ldamodel.LdaModel(corpus, \n",
      "                               id2word=dictionary, \n",
      "                               num_topics=nf, \n",
      "                               passes= 10,                 # > 1 = batch mode; multiple passes over small corpus\n",
      "                               iterations=105,             # set to approx. number of words per doc\n",
      "                               eta=1.5,                    # symmetric prior over all words\n",
      "                               alpha='auto',               # optimize alpha to asymmetric vals, using eta as start point\n",
      "                               eval_every=0,               # set to zero when corp. is small enough \n",
      "                               chunksize=10,               # approx. 10% of corpus size \n",
      "                               gamma_threshold=0.00001,    # lower than default 0.001 means more training per doc\n",
      "                               )   \n",
      "\n",
      "index2 = similarities.MatrixSimilarity(lda[corpus], num_features=nf)\n",
      "#index2.save(\"pycon_2yr-LDA_bigram_sims_v4.index\")"
     ],
     "language": "python",
     "metadata": {},
     "outputs": [],
     "prompt_number": 29
    },
    {
     "cell_type": "code",
     "collapsed": false,
     "input": [
      "# make a lookup table\n",
      "lda_bigram_lookup = {}\n",
      "\n",
      "for doc_key, scores in enumerate( index2 ):\n",
      "    \n",
      "    # sort related docs by score, descending\n",
      "    related = sorted(list(enumerate(scores)), key=lambda tup: tup[1], reverse=True)\n",
      "    \n",
      "    # remove related score that compares to itself and any docs under a threshold of relevance\n",
      "    related = [ doc for doc in related if doc[0] != doc_key and doc[1] >= 0.75 ]\n",
      "    \n",
      "    # a max of 10 related, so lists aren't too long\n",
      "    related = related[:15]\n",
      "    \n",
      "    lda_bigram_lookup[doc_key] = related\n",
      "    \n",
      "# Score\n",
      "def make_LDA_bigram_pred( doc_id ):\n",
      "    \n",
      "    return [ doc_num for doc_num, score in lda_bigram_lookup[doc_id] ]\n",
      "\n",
      "a, p, r, f = score( make_LDA_bigram_pred )"
     ],
     "language": "python",
     "metadata": {},
     "outputs": [
      {
       "output_type": "stream",
       "stream": "stdout",
       "text": [
        "accuracy:  0.81 \n",
        "precision: 0.34 \n",
        "recall:    0.40 \n",
        "F1:        0.37\n"
       ]
      }
     ],
     "prompt_number": 30
    },
    {
     "cell_type": "code",
     "collapsed": false,
     "input": [],
     "language": "python",
     "metadata": {},
     "outputs": [],
     "prompt_number": 30
    },
    {
     "cell_type": "heading",
     "level": 2,
     "metadata": {},
     "source": [
      "Visualize the Talks Grouped by Topic Using t-SNE"
     ]
    },
    {
     "cell_type": "markdown",
     "metadata": {},
     "source": [
      "[TOC](#Table-of-Contents)  \n",
      "Using the python implementation (adapted to python3) of t-Distributed Stochastic Neighbor Embedding by Laurens van der Maaten found [here](http://lvdmaaten.github.io/tsne/) \n",
      "\n",
      "and [mpld3](http://mpld3.github.io) to make an interactive d3 scatterplot in which you can zoom in on clusters of talks and hover for a tooltip with the talks's title."
     ]
    },
    {
     "cell_type": "code",
     "collapsed": false,
     "input": [
      "%matplotlib inline\n",
      "import matplotlib.pyplot as plt\n",
      "from mpld3 import plugins, enable_notebook\n",
      "import numpy as np\n",
      "from tsne3 import tsne"
     ],
     "language": "python",
     "metadata": {},
     "outputs": [],
     "prompt_number": 31
    },
    {
     "cell_type": "code",
     "collapsed": false,
     "input": [
      "enable_notebook()"
     ],
     "language": "python",
     "metadata": {},
     "outputs": [],
     "prompt_number": 32
    },
    {
     "cell_type": "markdown",
     "metadata": {},
     "source": [
      "Get most likely topic labels from NMF factors for each doc (have to pick a single topic to color the talk with in the plot)"
     ]
    },
    {
     "cell_type": "code",
     "collapsed": false,
     "input": [
      "nmf_labels = []\n",
      "num_topics = W.shape[1]\n",
      "\n",
      "for talk_index in range(W.shape[0]):\n",
      "    nmf_labels.append( np.argsort( W[talk_index,:] )[::-1][0] )"
     ],
     "language": "python",
     "metadata": {},
     "outputs": [],
     "prompt_number": 33
    },
    {
     "cell_type": "markdown",
     "metadata": {},
     "source": [
      "Get labels for each talk according to \"category\" listed on pycon website for comparison"
     ]
    },
    {
     "cell_type": "code",
     "collapsed": false,
     "input": [
      "mapping = {}\n",
      "i = 0\n",
      "cats = talks.category.unique()\n",
      "for category in cats:\n",
      "    mapping[category] = float(i)\n",
      "    i += 1\n",
      "print(\"%d unique categories\" % len(cats))\n",
      "cat_labels = [ mapping[c] for c in talks.category.values ]"
     ],
     "language": "python",
     "metadata": {},
     "outputs": [
      {
       "output_type": "stream",
       "stream": "stdout",
       "text": [
        "17 unique categories\n"
       ]
      }
     ],
     "prompt_number": 34
    },
    {
     "cell_type": "markdown",
     "metadata": {},
     "source": [
      "Run tSNE Algo on 2015 Documents"
     ]
    },
    {
     "cell_type": "code",
     "collapsed": false,
     "input": [
      "Y = tsne(W[:cur_year_max_ID,:], \n",
      "         2,   # Final Output Dimensions desired\n",
      "         20,  # Dimensions for PCA to pre-process raw data to, same = no PCA\n",
      "         5)   # Perplexity, clumped ball = too high\n",
      "\n"
     ],
     "language": "python",
     "metadata": {},
     "outputs": [
      {
       "output_type": "stream",
       "stream": "stdout",
       "text": [
        "Preprocessing the data using PCA...\n",
        "Computing pairwise distances...\n",
        "Computing P-values for point  0  of  138 ...\n",
        "Mean value of sigma: "
       ]
      },
      {
       "output_type": "stream",
       "stream": "stdout",
       "text": [
        " 0.0859821117558\n",
        "Iteration "
       ]
      },
      {
       "output_type": "stream",
       "stream": "stdout",
       "text": [
        " 100 : error is  15.4334850425\n",
        "Iteration "
       ]
      },
      {
       "output_type": "stream",
       "stream": "stdout",
       "text": [
        " 200 : error is  0.643691013238\n",
        "Iteration "
       ]
      },
      {
       "output_type": "stream",
       "stream": "stdout",
       "text": [
        " 300 : error is  0.514638524071\n",
        "Iteration "
       ]
      },
      {
       "output_type": "stream",
       "stream": "stdout",
       "text": [
        " 400 : error is  0.506172800415\n",
        "Iteration "
       ]
      },
      {
       "output_type": "stream",
       "stream": "stdout",
       "text": [
        " 500 : error is  0.502392153897\n",
        "Iteration "
       ]
      },
      {
       "output_type": "stream",
       "stream": "stdout",
       "text": [
        " 600 : error is  0.499322270326\n",
        "Iteration "
       ]
      },
      {
       "output_type": "stream",
       "stream": "stdout",
       "text": [
        " 700 : error is  0.49632358316\n",
        "Iteration "
       ]
      },
      {
       "output_type": "stream",
       "stream": "stdout",
       "text": [
        " 800 : error is  0.493053094674\n",
        "Iteration "
       ]
      },
      {
       "output_type": "stream",
       "stream": "stdout",
       "text": [
        " 900 : error is  0.491477705305\n",
        "Iteration "
       ]
      },
      {
       "output_type": "stream",
       "stream": "stdout",
       "text": [
        " 1000 : error is  0.490333328072\n"
       ]
      }
     ],
     "prompt_number": 39
    },
    {
     "cell_type": "markdown",
     "metadata": {},
     "source": [
      "Now plot it"
     ]
    },
    {
     "cell_type": "code",
     "collapsed": false,
     "input": [
      "topic_colors = nmf_labels\n",
      "#topic_colors = cat_labels\n",
      "fig, ax = plt.subplots()\n",
      "fig.set_size_inches(12.5,7.5)\n",
      "points = ax.scatter(Y[:cur_year_max_ID,0], Y[:cur_year_max_ID,1],\n",
      "                     c=topic_colors[:cur_year_max_ID],\n",
      "                     s = 190,\n",
      "                     alpha=0.4,\n",
      "                     cmap=plt.cm.jet)\n",
      "\n",
      "ax.set_title(\"Pycon Talks by NMF Topic\", size=20)\n",
      "\n",
      "# tooltip = talk title\n",
      "labels = list(talks.ix[:cur_year_max_ID].title.values)\n",
      "tooltip = plugins.PointLabelTooltip(points, labels)\n",
      "\n",
      "plugins.connect(fig, tooltip)"
     ],
     "language": "python",
     "metadata": {},
     "outputs": [
      {
       "html": [
        "\n",
        "\n",
        "<style>\n",
        "\n",
        "</style>\n",
        "\n",
        "<div id=\"fig_el347346043245528169985594\"></div>\n",
        "<script>\n",
        "function mpld3_load_lib(url, callback){\n",
        "  var s = document.createElement('script');\n",
        "  s.src = url;\n",
        "  s.async = true;\n",
        "  s.onreadystatechange = s.onload = callback;\n",
        "  s.onerror = function(){console.warn(\"failed to load library \" + url);};\n",
        "  document.getElementsByTagName(\"head\")[0].appendChild(s);\n",
        "}\n",
        "\n",
        "if(typeof(mpld3) !== \"undefined\" && mpld3._mpld3IsLoaded){\n",
        "   // already loaded: just create the figure\n",
        "   !function(mpld3){\n",
        "       \n",
        "       mpld3.draw_figure(\"fig_el347346043245528169985594\", {\"plugins\": [{\"type\": \"reset\"}, {\"button\": true, \"enabled\": false, \"type\": \"zoom\"}, {\"button\": true, \"enabled\": false, \"type\": \"boxzoom\"}, {\"type\": \"tooltip\", \"hoffset\": 0, \"labels\": [\"Opening Statements\", \"Director, Code for America\", \"Python's Creator\", \"Author & Professor\", \"PSF Chair\", \"Django's Co-creator\", \"Closing Keynote\", \"Don't Make Us Say We Told You So: virtualenv for New Pythonistas\", \"Making Beautiful Graphs in Python and Sharing Them\", \"Distributed Systems 101\", \"Ansible 101\", \"Your Brain's API: Giving and Getting Technical Help\", \"Zen of Quality - How PBS measures QoS for digital viewers\", \"Fire your supervisord: running Python apps on CoreOS\", \"How to interpret your own genome using (mostly) Python.\", \"Usability Testing on the Cheap\", \"How to Be More Effective with Functions\", \"Advanced Git\", \"Flask Workshop\", \"Facts and Myths about Python names and values\", \"Stop Sucking Me Into Your Drama: A Personal Appeal For Loose Coupling\", \"Eventually Correct: Testing Async Apps\", \"Data Science in Advertising: Or a future when we love ads\", \"Exploring Minecraft and Python: Learning to Code Through Play\", \"Hadoop with Python\", \"Pandas From The Ground Up\", \"Losing your Loops: Fast Numerical Computing with NumPy\", \"Modules and Packages: Live and Let Die!\", \"Terminal whispering\", \"Hands-on Intermediate Python\", \"Hands-on with Pydata: how to build a minimal recommendation engine.\", \"Ship it: Deployments with Pip\", \"IPython & Jupyter in depth: high productivity interactive and parallel python\", \"Rethinking packaging, development and deployment\", \"Finding Spammers & Scammers through Rate Tracking with Python & Redis\", \"Technical Debt - The code monster in everyone's closet\", \"Hash Functions and You: Partners in Freedom\", \"Experimental pure mathematics using Sage\", \"Introduction to game programming with Kivy\", \"Good Test, Bad Test\", \"Delving into the Django Admin\", \"Pythons are Deaf, So are Some Pythonistas\", \"How to build a brain with Python\", \"Building a REST API Using Django & Django REST Framework\", \"My Python's a little Rust-y\", \"So you think you can PDB?\", \"Introduction to HTTPS: A Comedy of Errors\", \"How to Write Reusable Code\", \"Twitter Network Analysis with NetworkX\", \"Inside the Hat: Python @ Walt Disney Animation Studios\", \"Graph Database Patterns in Python\", \"Performance by the Numbers: analyzing the performance of web applications\", \"Machine Learning with Scikit-Learn (II)\", \"Ansible beyond YAML\", \"Bytes in the Machine: Inside the CPython interpreter\", \"Python in the browser: a weird and wonderful compiler journey from RPython to C to JavaScript\", \"Smart services & smart clients:  How micro-services change the way you build and deploy code.\", \"Statistical inference with computational methods\", \"What to do when you need crypto\", \"TDD with Django, from scratch: a beginner's intro to testing and web development\", \"PostgreSQL Proficiency for Python People\", \"The Ethical Consequences Of Our Collective Activities\", \"Robots Robots Ra Ra Ra!!!\", \"What can programmers learn from pilots?\", \"Cutting Off the Internet: Testing Applications that Use Requests\", \"Make web development awesome with visual diffing tools\", \"Porting Python to run without an OS\", \"Investigating Python Wats\", \"Interactive data for the web - Bokeh for web developers\", \"Super considered super!\", \"Avoiding Burnout, and other essentials of Open Source Self-Care\", \"Fabric, SaltStack, and Ansible: DevOps'ing with Python\", \"Winning Machine Learning Competitions With Scikit-Learn\", \"I18N: World Domination the Easy Way\", \"Demystifying Docker\", \"WebSockets from the Wire Up\", \"Practical Graph/Network Analysis Made Simple\", \"A Dive into TLS\", \"Machine Learning 101\", \"A hands-on introduction to Python for beginning programmers\", \"To ORM or not to ORM\", \"Other people's messy data (and how not to hate it!)\", \"Choose Your Own WSGI Deployment Adventure\", \"Slithering Into Elasticsearch\", \"Schemas for the Real World\", \"Building secure systems\", \"Beyond grep: Practical Logging and Metrics\", \"Getting comfortable with web security: A hands-on session\", \"Introduction to Spark with python\", \"Seasoning Python Web Applications with React.js\", \"Type python, press enter. What happens?\", \"Docker 101: Introduction to Docker\", \"Techniques for Debugging Hard Problems\", \"Lessons learned with asyncio (\\\"Look ma, I wrote a distributed hash table!\\\")\", \"Hyperactive: HTTP/2 and Python\", \"How to make your code Python 2/3 compatible\", \"Finding Your Groove: Contributing to CPython and Beyond\", \"\\\"Words, words, words\\\": Reading Shakespeare with Python\", \"A Winning Strategy with The Weakest Link: how to use weak references to make your code more robust\", \"Open Source for Newcomers and the People Who Want to Welcome Them\", \"Python by Immersion\", \"Django in Depth\", \"Hands-on Data Analysis with Python\", \"Serialization formats are not toys\", \"Neural Nets for Newbies\", \"How our engineering environments are killing diversity (and how we can fix it).\", \"Python Concurrency From the Ground Up: LIVE!\", \"Where in your RAM is \\\"python san_diego.py\\\"?\", \"What Python can learn from Erlang?\", \"Build and test wheel packages on Linux, OSX & Windows\", \"Achieving Continuous Delivery: An Automation Story\", \"Intro to 3D Graphics with Blender and the Blender API\", \"Using Supervisor For Fun And Profit\", \"streamparse: real-time streams with Python and Apache Storm\", \"A Beginner's Guide to Test-driven Development\", \"PyPy.js: What? How? Why?\", \"Grids, Streets and Pipelines: Building a linguistic street map with scikit-learn\", \"Oh, Come On. Who Needs Bytearrays?\", \"Managing Your Infrastructure with SaltStack\", \"Make your own Smart Air Conditioner\", \"Systems programming as a swiss army knife\", \"How to start web scraping\", \"Free Software, Free People\", \"Exploring is never boring: understanding CPython without reading the code\", \"Is Your REST API RESTful?\", \"Machine Learning with Scikit-Learn (I)\", \"Describing Descriptors\", \"Getting to Jython 2.7 and beyond\", \"Satellite mapping for everyone\", \"Shiny, Let's Be Bad Guys: Exploiting and Mitigating the Top 10 Web App Vulnerabilities\", \"The REST Ascendancy\", \"3D Print Anything with the Blender API\", \"Bayesian statistics made simple\", \"Python Performance Profiling: The Guts And The Glory\", \"Descriptors and Metaclasses - Understanding and Using Python's More Advanced Features\", \"Beyond PEP 8 -- Best practices for beautiful intelligible code\", \"Learning from other's mistakes: Data-driven analysis of Python code\", \"Python Epiphanies\", \"Generators:  The Final Frontier\"], \"voffset\": 10, \"location\": \"mouse\", \"id\": \"el34734604420336\"}], \"data\": {\"data01\": [[-18.106677055700523, -0.28585066520684194], [-6.574306110222138, 4.336363011597662], [-38.35142021403943, -27.460069885020168], [-0.6676739666199881, 1.267867596544954], [-18.483180414476216, 4.75429443514351], [-40.829530658699404, 55.65627162439771], [-8.139069775275852, 54.77132378587461], [-9.221684491896973, 4.0761794711164825], [10.676680740421476, -50.66655566343163], [55.99046418449634, -13.28584224821967], [42.29450937801024, -26.072485204960582], [-16.463457101205513, 20.155376439652578], [-6.2588754754979306, -40.71326530630259], [-0.1428007005121976, -1.3475571944380824], [-3.3656495754522684, -41.863916921924165], [22.0320672758139, 18.40064021120045], [-25.580782466122667, -18.103976631069827], [-5.118411149428113, 4.8448289189207445], [-27.421691484065118, 10.39050652752338], [-25.160889233507326, -18.7602003420871], [-6.47797902776361, 55.13349185559184], [29.73277161462044, 20.622927557920626], [29.832079402203284, -46.045950620205396], [-13.275023335446102, 16.135237590023014], [-4.092900283630408, -44.67764927586314], [11.388033911908702, -50.40887872213229], [2.50491538267795, -50.171041751778716], [-1.4847794292399668, 4.837341084063494], [-38.23718006907154, -26.49732205755841], [-9.352138057454512, -22.82788951851681], [-78.54656389584243, -41.211496746340195], [-32.89818681195054, 5.679076312679686], [-79.10259830432156, -41.39566630273167], [-34.781779887916485, 6.3056897445011515], [-4.444007880756927, -41.034853029625246], [-13.944635577076852, 15.407182352097685], [50.291854446625024, 40.74183112530338], [-3.2686423614742943, 3.415049648460395], [-5.877209851842308, 16.77534877783417], [29.350724186980408, 21.73381306908686], [-42.50245470938115, 57.4693575103619], [-14.082175520622291, 11.864976829706942], [-7.456092836398294, -2.9845500286142816], [-43.76052329189159, 56.33108391170539], [4.685994744491095, -19.362429380466676], [2.8102745692507067, -16.619156886822303], [52.73108329596701, 40.82662497670586], [-37.68289326539878, -24.761143024011893], [-2.918113738342108, -38.52856983714682], [-6.007280472332171, 2.8643749971565255], [-14.413927824751791, -24.05089072701465], [13.857503937890234, -21.807095252932818], [24.64602091824091, 57.3497939012482], [41.0159651520365, -26.031039195761654], [13.240796553869274, 24.92044922665018], [29.46596970173526, 2.633643072720841], [-27.927987343803515, 9.158733766340863], [-11.273510076698875, 4.889325122850632], [-2.616299095918589, -30.133550020187478], [-39.37216794795736, 59.01820277746219], [-18.426298869271733, -29.23983095340449], [-7.24418955474098, 53.308598613036445], [-18.68722555798757, 2.142653556170189], [-7.636465577473043, 56.46776770777798], [28.257336769099656, 19.811630137384824], [29.16443458153365, 18.46158143404618], [15.677386933843165, 20.09194972513304], [-23.03013691205027, -18.909826815989778], [9.04571679399854, -39.709357719739934], [-8.598859310457849, -1.664215883930968], [-16.72544039235264, 2.420016042407786], [41.64063358477564, -24.85648344841881], [25.11375516157168, 59.05059910110756], [-43.24150769723687, 59.00043180623349], [-20.989948709367926, 3.2788764652514915], [8.987905853706547, -8.125897437273492], [1.7825610945209487, -53.963027353307645], [2.1912056734251584, -12.707544712086156], [23.681024484120275, 59.33848036395325], [-46.2779429266574, -28.37142506192181], [-18.334762090142902, -28.335991684422073], [1.2233556935243506, -54.87222326247506], [8.03417775973036, 14.070254655802652], [-5.015032833015904, -29.298449802651508], [-6.498405803885919, 7.366631283424535], [56.98699011445667, 40.94911548893503], [7.10902217702638, 11.419491252013316], [55.17136972149602, 38.85148846064624], [3.352407548588425, -18.853202124872794], [9.45860343149771, 15.944513076943917], [13.358744303547995, 23.415527959461876], [-29.296647733878764, 6.689135137231321], [9.47540916636275, -9.807275190413078], [4.99755555448182, -1.7336561078040653], [3.105846095949033, 10.001131035661958], [-10.060303054084454, -2.891004220070069], [13.883435986975783, 20.9952160989928], [-4.154304708169245, -29.56832186663519], [56.84237691666183, -13.541852728777755], [-20.469596946421827, 0.3372220912316773], [-40.694117626730744, -26.44180404992418], [-41.139969293957854, 57.15182528239784], [3.4914734989693517, -55.67199139697752], [51.53686379340746, 40.91276407583865], [9.814508379747094, -10.693289593044133], [-16.949706963844932, 21.065477711028393], [3.5712566262068046, -1.0597185781843947], [58.44213760744333, -14.02384624478001], [2.9934600066629655, -14.484094465569449], [2.357295776993368, 3.1168822256116986], [-34.2402868175219, 3.0887991839937023], [48.49802370282685, 5.827324497662805], [7.458892691272833, 10.480305793523218], [-5.096049257621162, -45.78587849098573], [24.22466720626583, 18.83191492100686], [28.85709188417701, 3.091642876935733], [30.504406035661255, -46.17652334164238], [1.723567868271279, -20.80381125565823], [-32.54409014542622, 4.6805593461366435], [-6.579360402921406, 15.614238637049056], [-43.28132209283206, -27.95830361863005], [8.375449467288641, -40.52678292439957], [-7.446385964930875, 51.773550072464964], [13.256656659151416, 20.369818270400778], [50.34134250763242, 6.844413804051021], [24.37081703560444, 60.570181135171126], [-13.209876114593039, -22.44432886836526], [0.5517536040740278, 0.4756512603167067], [2.254364104492456, -52.076000410179724], [56.53599530947256, 39.544127163755114], [10.753913750063141, 17.4032119373839], [49.065502817630424, 5.252767993444587], [-17.736009988644515, 22.5618181783069], [14.648383494316906, -22.118507714444316], [-44.33021450506287, -27.92135220462274], [-11.54997814373282, -22.458252777187454], [-2.083261622374862, -42.27210108310537], [48.5340597616313, 41.63827274049524]]}, \"id\": \"el34734604324552\", \"width\": 1000.0, \"height\": 600.0, \"axes\": [{\"lines\": [], \"axesbgalpha\": null, \"sharey\": [], \"texts\": [{\"coordinates\": \"axes\", \"rotation\": -0.0, \"position\": [0.5, 1.01194743130227], \"zorder\": 3, \"id\": \"el34734604379992\", \"fontsize\": 20.0, \"alpha\": 1, \"text\": \"Pycon Talks by NMF Topic\", \"v_baseline\": \"auto\", \"h_anchor\": \"middle\", \"color\": \"#000000\"}], \"xdomain\": [-100.0, 80.0], \"ydomain\": [-80.0, 80.0], \"xscale\": \"linear\", \"images\": [], \"sharex\": [], \"collections\": [{\"edgecolors\": [\"#000000\"], \"zorder\": 1, \"offsets\": \"data01\", \"pathcoordinates\": \"display\", \"id\": \"el34734604420336\", \"alphas\": [0.4], \"offsetcoordinates\": \"data\", \"paths\": [[[[0.0, -0.5], [0.13260155, -0.5], [0.25978993539242673, -0.44731684579412084], [0.3535533905932738, -0.3535533905932738], [0.44731684579412084, -0.25978993539242673], [0.5, -0.13260155], [0.5, 0.0], [0.5, 0.13260155], [0.44731684579412084, 0.25978993539242673], [0.3535533905932738, 0.3535533905932738], [0.25978993539242673, 0.44731684579412084], [0.13260155, 0.5], [0.0, 0.5], [-0.13260155, 0.5], [-0.25978993539242673, 0.44731684579412084], [-0.3535533905932738, 0.3535533905932738], [-0.44731684579412084, 0.25978993539242673], [-0.5, 0.13260155], [-0.5, 0.0], [-0.5, -0.13260155], [-0.44731684579412084, -0.25978993539242673], [-0.3535533905932738, -0.3535533905932738], [-0.25978993539242673, -0.44731684579412084], [-0.13260155, -0.5], [0.0, -0.5]], [\"M\", \"C\", \"C\", \"C\", \"C\", \"C\", \"C\", \"C\", \"C\", \"Z\"]]], \"yindex\": 1, \"pathtransforms\": [[15.315609724544693, 0.0, 0.0, 15.315609724544693, 0.0, 0.0]], \"facecolors\": [\"#00007F\", \"#DDFF18\", \"#00A4FF\", \"#0000EC\", \"#FFB900\", \"#0010FF\", \"#FFB900\", \"#DDFF18\", \"#0000EC\", \"#FF5C00\", \"#18FFDD\", \"#DDFF18\", \"#0000EC\", \"#FF3000\", \"#0000EC\", \"#0070FF\", \"#B7FF3F\", \"#FFB900\", \"#FFE500\", \"#B7FF3F\", \"#FFB900\", \"#0070FF\", \"#0000B6\", \"#DDFF18\", \"#0000EC\", \"#0000EC\", \"#0000EC\", \"#FFB900\", \"#00A4FF\", \"#00D4FF\", \"#FF3000\", \"#18FFDD\", \"#FF3000\", \"#DDFF18\", \"#0000EC\", \"#DDFF18\", \"#B7FF3F\", \"#FFB900\", \"#0040FF\", \"#0070FF\", \"#0010FF\", \"#DDFF18\", \"#DDFF18\", \"#0010FF\", \"#66FF90\", \"#00A4FF\", \"#90FF66\", \"#00A4FF\", \"#0000EC\", \"#7F0000\", \"#B60000\", \"#66FF90\", \"#0000B6\", \"#18FFDD\", \"#FF8900\", \"#FF8900\", \"#FFE500\", \"#DDFF18\", \"#0000EC\", \"#0010FF\", \"#B60000\", \"#FFB900\", \"#00007F\", \"#FFB900\", \"#0070FF\", \"#0070FF\", \"#FF8900\", \"#B7FF3F\", \"#EC0300\", \"#B7FF3F\", \"#DDFF18\", \"#18FFDD\", \"#0000B6\", \"#0010FF\", \"#00007F\", \"#DDFF18\", \"#0000EC\", \"#66FF90\", \"#0000B6\", \"#00A4FF\", \"#B60000\", \"#0000EC\", \"#EC0300\", \"#0000EC\", \"#DDFF18\", \"#90FF66\", \"#EC0300\", \"#90FF66\", \"#66FF90\", \"#EC0300\", \"#FF8900\", \"#18FFDD\", \"#DDFF18\", \"#3FFFB7\", \"#EC0300\", \"#7F0000\", \"#FF8900\", \"#0000EC\", \"#FF5C00\", \"#00007F\", \"#00A4FF\", \"#0010FF\", \"#0000EC\", \"#90FF66\", \"#DDFF18\", \"#DDFF18\", \"#3FFFB7\", \"#FF5C00\", \"#66FF90\", \"#0070FF\", \"#18FFDD\", \"#7F0000\", \"#7F0000\", \"#0000EC\", \"#0070FF\", \"#FF8900\", \"#0000B6\", \"#66FF90\", \"#18FFDD\", \"#DDFF18\", \"#00A4FF\", \"#0000EC\", \"#FFB900\", \"#FF8900\", \"#7F0000\", \"#0000B6\", \"#B7FF3F\", \"#FF5C00\", \"#0000EC\", \"#90FF66\", \"#7F0000\", \"#7F0000\", \"#DDFF18\", \"#66FF90\", \"#00A4FF\", \"#B60000\", \"#0000EC\", \"#B7FF3F\"], \"edgewidths\": [1.0], \"xindex\": 0}], \"bbox\": [0.125, 0.125, 0.775, 0.775], \"id\": \"el34734604148312\", \"axes\": [{\"nticks\": 10, \"scale\": \"linear\", \"position\": \"bottom\", \"fontsize\": 10.0, \"tickformat\": null, \"tickvalues\": null, \"grid\": {\"gridOn\": false}}, {\"nticks\": 9, \"scale\": \"linear\", \"position\": \"left\", \"fontsize\": 10.0, \"tickformat\": null, \"tickvalues\": null, \"grid\": {\"gridOn\": false}}], \"markers\": [], \"paths\": [], \"xlim\": [-100.0, 80.0], \"yscale\": \"linear\", \"zoomable\": true, \"axesbg\": \"#FFFFFF\", \"ylim\": [-80.0, 80.0]}]});\n",
        "   }(mpld3);\n",
        "}else if(typeof define === \"function\" && define.amd){\n",
        "   // require.js is available: use it to load d3/mpld3\n",
        "   require.config({paths: {d3: \"https://mpld3.github.io/js/d3.v3.min\"}});\n",
        "   require([\"d3\"], function(d3){\n",
        "      window.d3 = d3;\n",
        "      mpld3_load_lib(\"https://mpld3.github.io/js/mpld3.v0.2.js\", function(){\n",
        "         \n",
        "         mpld3.draw_figure(\"fig_el347346043245528169985594\", {\"plugins\": [{\"type\": \"reset\"}, {\"button\": true, \"enabled\": false, \"type\": \"zoom\"}, {\"button\": true, \"enabled\": false, \"type\": \"boxzoom\"}, {\"type\": \"tooltip\", \"hoffset\": 0, \"labels\": [\"Opening Statements\", \"Director, Code for America\", \"Python's Creator\", \"Author & Professor\", \"PSF Chair\", \"Django's Co-creator\", \"Closing Keynote\", \"Don't Make Us Say We Told You So: virtualenv for New Pythonistas\", \"Making Beautiful Graphs in Python and Sharing Them\", \"Distributed Systems 101\", \"Ansible 101\", \"Your Brain's API: Giving and Getting Technical Help\", \"Zen of Quality - How PBS measures QoS for digital viewers\", \"Fire your supervisord: running Python apps on CoreOS\", \"How to interpret your own genome using (mostly) Python.\", \"Usability Testing on the Cheap\", \"How to Be More Effective with Functions\", \"Advanced Git\", \"Flask Workshop\", \"Facts and Myths about Python names and values\", \"Stop Sucking Me Into Your Drama: A Personal Appeal For Loose Coupling\", \"Eventually Correct: Testing Async Apps\", \"Data Science in Advertising: Or a future when we love ads\", \"Exploring Minecraft and Python: Learning to Code Through Play\", \"Hadoop with Python\", \"Pandas From The Ground Up\", \"Losing your Loops: Fast Numerical Computing with NumPy\", \"Modules and Packages: Live and Let Die!\", \"Terminal whispering\", \"Hands-on Intermediate Python\", \"Hands-on with Pydata: how to build a minimal recommendation engine.\", \"Ship it: Deployments with Pip\", \"IPython & Jupyter in depth: high productivity interactive and parallel python\", \"Rethinking packaging, development and deployment\", \"Finding Spammers & Scammers through Rate Tracking with Python & Redis\", \"Technical Debt - The code monster in everyone's closet\", \"Hash Functions and You: Partners in Freedom\", \"Experimental pure mathematics using Sage\", \"Introduction to game programming with Kivy\", \"Good Test, Bad Test\", \"Delving into the Django Admin\", \"Pythons are Deaf, So are Some Pythonistas\", \"How to build a brain with Python\", \"Building a REST API Using Django & Django REST Framework\", \"My Python's a little Rust-y\", \"So you think you can PDB?\", \"Introduction to HTTPS: A Comedy of Errors\", \"How to Write Reusable Code\", \"Twitter Network Analysis with NetworkX\", \"Inside the Hat: Python @ Walt Disney Animation Studios\", \"Graph Database Patterns in Python\", \"Performance by the Numbers: analyzing the performance of web applications\", \"Machine Learning with Scikit-Learn (II)\", \"Ansible beyond YAML\", \"Bytes in the Machine: Inside the CPython interpreter\", \"Python in the browser: a weird and wonderful compiler journey from RPython to C to JavaScript\", \"Smart services & smart clients:  How micro-services change the way you build and deploy code.\", \"Statistical inference with computational methods\", \"What to do when you need crypto\", \"TDD with Django, from scratch: a beginner's intro to testing and web development\", \"PostgreSQL Proficiency for Python People\", \"The Ethical Consequences Of Our Collective Activities\", \"Robots Robots Ra Ra Ra!!!\", \"What can programmers learn from pilots?\", \"Cutting Off the Internet: Testing Applications that Use Requests\", \"Make web development awesome with visual diffing tools\", \"Porting Python to run without an OS\", \"Investigating Python Wats\", \"Interactive data for the web - Bokeh for web developers\", \"Super considered super!\", \"Avoiding Burnout, and other essentials of Open Source Self-Care\", \"Fabric, SaltStack, and Ansible: DevOps'ing with Python\", \"Winning Machine Learning Competitions With Scikit-Learn\", \"I18N: World Domination the Easy Way\", \"Demystifying Docker\", \"WebSockets from the Wire Up\", \"Practical Graph/Network Analysis Made Simple\", \"A Dive into TLS\", \"Machine Learning 101\", \"A hands-on introduction to Python for beginning programmers\", \"To ORM or not to ORM\", \"Other people's messy data (and how not to hate it!)\", \"Choose Your Own WSGI Deployment Adventure\", \"Slithering Into Elasticsearch\", \"Schemas for the Real World\", \"Building secure systems\", \"Beyond grep: Practical Logging and Metrics\", \"Getting comfortable with web security: A hands-on session\", \"Introduction to Spark with python\", \"Seasoning Python Web Applications with React.js\", \"Type python, press enter. What happens?\", \"Docker 101: Introduction to Docker\", \"Techniques for Debugging Hard Problems\", \"Lessons learned with asyncio (\\\"Look ma, I wrote a distributed hash table!\\\")\", \"Hyperactive: HTTP/2 and Python\", \"How to make your code Python 2/3 compatible\", \"Finding Your Groove: Contributing to CPython and Beyond\", \"\\\"Words, words, words\\\": Reading Shakespeare with Python\", \"A Winning Strategy with The Weakest Link: how to use weak references to make your code more robust\", \"Open Source for Newcomers and the People Who Want to Welcome Them\", \"Python by Immersion\", \"Django in Depth\", \"Hands-on Data Analysis with Python\", \"Serialization formats are not toys\", \"Neural Nets for Newbies\", \"How our engineering environments are killing diversity (and how we can fix it).\", \"Python Concurrency From the Ground Up: LIVE!\", \"Where in your RAM is \\\"python san_diego.py\\\"?\", \"What Python can learn from Erlang?\", \"Build and test wheel packages on Linux, OSX & Windows\", \"Achieving Continuous Delivery: An Automation Story\", \"Intro to 3D Graphics with Blender and the Blender API\", \"Using Supervisor For Fun And Profit\", \"streamparse: real-time streams with Python and Apache Storm\", \"A Beginner's Guide to Test-driven Development\", \"PyPy.js: What? How? Why?\", \"Grids, Streets and Pipelines: Building a linguistic street map with scikit-learn\", \"Oh, Come On. Who Needs Bytearrays?\", \"Managing Your Infrastructure with SaltStack\", \"Make your own Smart Air Conditioner\", \"Systems programming as a swiss army knife\", \"How to start web scraping\", \"Free Software, Free People\", \"Exploring is never boring: understanding CPython without reading the code\", \"Is Your REST API RESTful?\", \"Machine Learning with Scikit-Learn (I)\", \"Describing Descriptors\", \"Getting to Jython 2.7 and beyond\", \"Satellite mapping for everyone\", \"Shiny, Let's Be Bad Guys: Exploiting and Mitigating the Top 10 Web App Vulnerabilities\", \"The REST Ascendancy\", \"3D Print Anything with the Blender API\", \"Bayesian statistics made simple\", \"Python Performance Profiling: The Guts And The Glory\", \"Descriptors and Metaclasses - Understanding and Using Python's More Advanced Features\", \"Beyond PEP 8 -- Best practices for beautiful intelligible code\", \"Learning from other's mistakes: Data-driven analysis of Python code\", \"Python Epiphanies\", \"Generators:  The Final Frontier\"], \"voffset\": 10, \"location\": \"mouse\", \"id\": \"el34734604420336\"}], \"data\": {\"data01\": [[-18.106677055700523, -0.28585066520684194], [-6.574306110222138, 4.336363011597662], [-38.35142021403943, -27.460069885020168], [-0.6676739666199881, 1.267867596544954], [-18.483180414476216, 4.75429443514351], [-40.829530658699404, 55.65627162439771], [-8.139069775275852, 54.77132378587461], [-9.221684491896973, 4.0761794711164825], [10.676680740421476, -50.66655566343163], [55.99046418449634, -13.28584224821967], [42.29450937801024, -26.072485204960582], [-16.463457101205513, 20.155376439652578], [-6.2588754754979306, -40.71326530630259], [-0.1428007005121976, -1.3475571944380824], [-3.3656495754522684, -41.863916921924165], [22.0320672758139, 18.40064021120045], [-25.580782466122667, -18.103976631069827], [-5.118411149428113, 4.8448289189207445], [-27.421691484065118, 10.39050652752338], [-25.160889233507326, -18.7602003420871], [-6.47797902776361, 55.13349185559184], [29.73277161462044, 20.622927557920626], [29.832079402203284, -46.045950620205396], [-13.275023335446102, 16.135237590023014], [-4.092900283630408, -44.67764927586314], [11.388033911908702, -50.40887872213229], [2.50491538267795, -50.171041751778716], [-1.4847794292399668, 4.837341084063494], [-38.23718006907154, -26.49732205755841], [-9.352138057454512, -22.82788951851681], [-78.54656389584243, -41.211496746340195], [-32.89818681195054, 5.679076312679686], [-79.10259830432156, -41.39566630273167], [-34.781779887916485, 6.3056897445011515], [-4.444007880756927, -41.034853029625246], [-13.944635577076852, 15.407182352097685], [50.291854446625024, 40.74183112530338], [-3.2686423614742943, 3.415049648460395], [-5.877209851842308, 16.77534877783417], [29.350724186980408, 21.73381306908686], [-42.50245470938115, 57.4693575103619], [-14.082175520622291, 11.864976829706942], [-7.456092836398294, -2.9845500286142816], [-43.76052329189159, 56.33108391170539], [4.685994744491095, -19.362429380466676], [2.8102745692507067, -16.619156886822303], [52.73108329596701, 40.82662497670586], [-37.68289326539878, -24.761143024011893], [-2.918113738342108, -38.52856983714682], [-6.007280472332171, 2.8643749971565255], [-14.413927824751791, -24.05089072701465], [13.857503937890234, -21.807095252932818], [24.64602091824091, 57.3497939012482], [41.0159651520365, -26.031039195761654], [13.240796553869274, 24.92044922665018], [29.46596970173526, 2.633643072720841], [-27.927987343803515, 9.158733766340863], [-11.273510076698875, 4.889325122850632], [-2.616299095918589, -30.133550020187478], [-39.37216794795736, 59.01820277746219], [-18.426298869271733, -29.23983095340449], [-7.24418955474098, 53.308598613036445], [-18.68722555798757, 2.142653556170189], [-7.636465577473043, 56.46776770777798], [28.257336769099656, 19.811630137384824], [29.16443458153365, 18.46158143404618], [15.677386933843165, 20.09194972513304], [-23.03013691205027, -18.909826815989778], [9.04571679399854, -39.709357719739934], [-8.598859310457849, -1.664215883930968], [-16.72544039235264, 2.420016042407786], [41.64063358477564, -24.85648344841881], [25.11375516157168, 59.05059910110756], [-43.24150769723687, 59.00043180623349], [-20.989948709367926, 3.2788764652514915], [8.987905853706547, -8.125897437273492], [1.7825610945209487, -53.963027353307645], [2.1912056734251584, -12.707544712086156], [23.681024484120275, 59.33848036395325], [-46.2779429266574, -28.37142506192181], [-18.334762090142902, -28.335991684422073], [1.2233556935243506, -54.87222326247506], [8.03417775973036, 14.070254655802652], [-5.015032833015904, -29.298449802651508], [-6.498405803885919, 7.366631283424535], [56.98699011445667, 40.94911548893503], [7.10902217702638, 11.419491252013316], [55.17136972149602, 38.85148846064624], [3.352407548588425, -18.853202124872794], [9.45860343149771, 15.944513076943917], [13.358744303547995, 23.415527959461876], [-29.296647733878764, 6.689135137231321], [9.47540916636275, -9.807275190413078], [4.99755555448182, -1.7336561078040653], [3.105846095949033, 10.001131035661958], [-10.060303054084454, -2.891004220070069], [13.883435986975783, 20.9952160989928], [-4.154304708169245, -29.56832186663519], [56.84237691666183, -13.541852728777755], [-20.469596946421827, 0.3372220912316773], [-40.694117626730744, -26.44180404992418], [-41.139969293957854, 57.15182528239784], [3.4914734989693517, -55.67199139697752], [51.53686379340746, 40.91276407583865], [9.814508379747094, -10.693289593044133], [-16.949706963844932, 21.065477711028393], [3.5712566262068046, -1.0597185781843947], [58.44213760744333, -14.02384624478001], [2.9934600066629655, -14.484094465569449], [2.357295776993368, 3.1168822256116986], [-34.2402868175219, 3.0887991839937023], [48.49802370282685, 5.827324497662805], [7.458892691272833, 10.480305793523218], [-5.096049257621162, -45.78587849098573], [24.22466720626583, 18.83191492100686], [28.85709188417701, 3.091642876935733], [30.504406035661255, -46.17652334164238], [1.723567868271279, -20.80381125565823], [-32.54409014542622, 4.6805593461366435], [-6.579360402921406, 15.614238637049056], [-43.28132209283206, -27.95830361863005], [8.375449467288641, -40.52678292439957], [-7.446385964930875, 51.773550072464964], [13.256656659151416, 20.369818270400778], [50.34134250763242, 6.844413804051021], [24.37081703560444, 60.570181135171126], [-13.209876114593039, -22.44432886836526], [0.5517536040740278, 0.4756512603167067], [2.254364104492456, -52.076000410179724], [56.53599530947256, 39.544127163755114], [10.753913750063141, 17.4032119373839], [49.065502817630424, 5.252767993444587], [-17.736009988644515, 22.5618181783069], [14.648383494316906, -22.118507714444316], [-44.33021450506287, -27.92135220462274], [-11.54997814373282, -22.458252777187454], [-2.083261622374862, -42.27210108310537], [48.5340597616313, 41.63827274049524]]}, \"id\": \"el34734604324552\", \"width\": 1000.0, \"height\": 600.0, \"axes\": [{\"lines\": [], \"axesbgalpha\": null, \"sharey\": [], \"texts\": [{\"coordinates\": \"axes\", \"rotation\": -0.0, \"position\": [0.5, 1.01194743130227], \"zorder\": 3, \"id\": \"el34734604379992\", \"fontsize\": 20.0, \"alpha\": 1, \"text\": \"Pycon Talks by NMF Topic\", \"v_baseline\": \"auto\", \"h_anchor\": \"middle\", \"color\": \"#000000\"}], \"xdomain\": [-100.0, 80.0], \"ydomain\": [-80.0, 80.0], \"xscale\": \"linear\", \"images\": [], \"sharex\": [], \"collections\": [{\"edgecolors\": [\"#000000\"], \"zorder\": 1, \"offsets\": \"data01\", \"pathcoordinates\": \"display\", \"id\": \"el34734604420336\", \"alphas\": [0.4], \"offsetcoordinates\": \"data\", \"paths\": [[[[0.0, -0.5], [0.13260155, -0.5], [0.25978993539242673, -0.44731684579412084], [0.3535533905932738, -0.3535533905932738], [0.44731684579412084, -0.25978993539242673], [0.5, -0.13260155], [0.5, 0.0], [0.5, 0.13260155], [0.44731684579412084, 0.25978993539242673], [0.3535533905932738, 0.3535533905932738], [0.25978993539242673, 0.44731684579412084], [0.13260155, 0.5], [0.0, 0.5], [-0.13260155, 0.5], [-0.25978993539242673, 0.44731684579412084], [-0.3535533905932738, 0.3535533905932738], [-0.44731684579412084, 0.25978993539242673], [-0.5, 0.13260155], [-0.5, 0.0], [-0.5, -0.13260155], [-0.44731684579412084, -0.25978993539242673], [-0.3535533905932738, -0.3535533905932738], [-0.25978993539242673, -0.44731684579412084], [-0.13260155, -0.5], [0.0, -0.5]], [\"M\", \"C\", \"C\", \"C\", \"C\", \"C\", \"C\", \"C\", \"C\", \"Z\"]]], \"yindex\": 1, \"pathtransforms\": [[15.315609724544693, 0.0, 0.0, 15.315609724544693, 0.0, 0.0]], \"facecolors\": [\"#00007F\", \"#DDFF18\", \"#00A4FF\", \"#0000EC\", \"#FFB900\", \"#0010FF\", \"#FFB900\", \"#DDFF18\", \"#0000EC\", \"#FF5C00\", \"#18FFDD\", \"#DDFF18\", \"#0000EC\", \"#FF3000\", \"#0000EC\", \"#0070FF\", \"#B7FF3F\", \"#FFB900\", \"#FFE500\", \"#B7FF3F\", \"#FFB900\", \"#0070FF\", \"#0000B6\", \"#DDFF18\", \"#0000EC\", \"#0000EC\", \"#0000EC\", \"#FFB900\", \"#00A4FF\", \"#00D4FF\", \"#FF3000\", \"#18FFDD\", \"#FF3000\", \"#DDFF18\", \"#0000EC\", \"#DDFF18\", \"#B7FF3F\", \"#FFB900\", \"#0040FF\", \"#0070FF\", \"#0010FF\", \"#DDFF18\", \"#DDFF18\", \"#0010FF\", \"#66FF90\", \"#00A4FF\", \"#90FF66\", \"#00A4FF\", \"#0000EC\", \"#7F0000\", \"#B60000\", \"#66FF90\", \"#0000B6\", \"#18FFDD\", \"#FF8900\", \"#FF8900\", \"#FFE500\", \"#DDFF18\", \"#0000EC\", \"#0010FF\", \"#B60000\", \"#FFB900\", \"#00007F\", \"#FFB900\", \"#0070FF\", \"#0070FF\", \"#FF8900\", \"#B7FF3F\", \"#EC0300\", \"#B7FF3F\", \"#DDFF18\", \"#18FFDD\", \"#0000B6\", \"#0010FF\", \"#00007F\", \"#DDFF18\", \"#0000EC\", \"#66FF90\", \"#0000B6\", \"#00A4FF\", \"#B60000\", \"#0000EC\", \"#EC0300\", \"#0000EC\", \"#DDFF18\", \"#90FF66\", \"#EC0300\", \"#90FF66\", \"#66FF90\", \"#EC0300\", \"#FF8900\", \"#18FFDD\", \"#DDFF18\", \"#3FFFB7\", \"#EC0300\", \"#7F0000\", \"#FF8900\", \"#0000EC\", \"#FF5C00\", \"#00007F\", \"#00A4FF\", \"#0010FF\", \"#0000EC\", \"#90FF66\", \"#DDFF18\", \"#DDFF18\", \"#3FFFB7\", \"#FF5C00\", \"#66FF90\", \"#0070FF\", \"#18FFDD\", \"#7F0000\", \"#7F0000\", \"#0000EC\", \"#0070FF\", \"#FF8900\", \"#0000B6\", \"#66FF90\", \"#18FFDD\", \"#DDFF18\", \"#00A4FF\", \"#0000EC\", \"#FFB900\", \"#FF8900\", \"#7F0000\", \"#0000B6\", \"#B7FF3F\", \"#FF5C00\", \"#0000EC\", \"#90FF66\", \"#7F0000\", \"#7F0000\", \"#DDFF18\", \"#66FF90\", \"#00A4FF\", \"#B60000\", \"#0000EC\", \"#B7FF3F\"], \"edgewidths\": [1.0], \"xindex\": 0}], \"bbox\": [0.125, 0.125, 0.775, 0.775], \"id\": \"el34734604148312\", \"axes\": [{\"nticks\": 10, \"scale\": \"linear\", \"position\": \"bottom\", \"fontsize\": 10.0, \"tickformat\": null, \"tickvalues\": null, \"grid\": {\"gridOn\": false}}, {\"nticks\": 9, \"scale\": \"linear\", \"position\": \"left\", \"fontsize\": 10.0, \"tickformat\": null, \"tickvalues\": null, \"grid\": {\"gridOn\": false}}], \"markers\": [], \"paths\": [], \"xlim\": [-100.0, 80.0], \"yscale\": \"linear\", \"zoomable\": true, \"axesbg\": \"#FFFFFF\", \"ylim\": [-80.0, 80.0]}]});\n",
        "      });\n",
        "    });\n",
        "}else{\n",
        "    // require.js not available: dynamically load d3 & mpld3\n",
        "    mpld3_load_lib(\"https://mpld3.github.io/js/d3.v3.min.js\", function(){\n",
        "         mpld3_load_lib(\"https://mpld3.github.io/js/mpld3.v0.2.js\", function(){\n",
        "                 \n",
        "                 mpld3.draw_figure(\"fig_el347346043245528169985594\", {\"plugins\": [{\"type\": \"reset\"}, {\"button\": true, \"enabled\": false, \"type\": \"zoom\"}, {\"button\": true, \"enabled\": false, \"type\": \"boxzoom\"}, {\"type\": \"tooltip\", \"hoffset\": 0, \"labels\": [\"Opening Statements\", \"Director, Code for America\", \"Python's Creator\", \"Author & Professor\", \"PSF Chair\", \"Django's Co-creator\", \"Closing Keynote\", \"Don't Make Us Say We Told You So: virtualenv for New Pythonistas\", \"Making Beautiful Graphs in Python and Sharing Them\", \"Distributed Systems 101\", \"Ansible 101\", \"Your Brain's API: Giving and Getting Technical Help\", \"Zen of Quality - How PBS measures QoS for digital viewers\", \"Fire your supervisord: running Python apps on CoreOS\", \"How to interpret your own genome using (mostly) Python.\", \"Usability Testing on the Cheap\", \"How to Be More Effective with Functions\", \"Advanced Git\", \"Flask Workshop\", \"Facts and Myths about Python names and values\", \"Stop Sucking Me Into Your Drama: A Personal Appeal For Loose Coupling\", \"Eventually Correct: Testing Async Apps\", \"Data Science in Advertising: Or a future when we love ads\", \"Exploring Minecraft and Python: Learning to Code Through Play\", \"Hadoop with Python\", \"Pandas From The Ground Up\", \"Losing your Loops: Fast Numerical Computing with NumPy\", \"Modules and Packages: Live and Let Die!\", \"Terminal whispering\", \"Hands-on Intermediate Python\", \"Hands-on with Pydata: how to build a minimal recommendation engine.\", \"Ship it: Deployments with Pip\", \"IPython & Jupyter in depth: high productivity interactive and parallel python\", \"Rethinking packaging, development and deployment\", \"Finding Spammers & Scammers through Rate Tracking with Python & Redis\", \"Technical Debt - The code monster in everyone's closet\", \"Hash Functions and You: Partners in Freedom\", \"Experimental pure mathematics using Sage\", \"Introduction to game programming with Kivy\", \"Good Test, Bad Test\", \"Delving into the Django Admin\", \"Pythons are Deaf, So are Some Pythonistas\", \"How to build a brain with Python\", \"Building a REST API Using Django & Django REST Framework\", \"My Python's a little Rust-y\", \"So you think you can PDB?\", \"Introduction to HTTPS: A Comedy of Errors\", \"How to Write Reusable Code\", \"Twitter Network Analysis with NetworkX\", \"Inside the Hat: Python @ Walt Disney Animation Studios\", \"Graph Database Patterns in Python\", \"Performance by the Numbers: analyzing the performance of web applications\", \"Machine Learning with Scikit-Learn (II)\", \"Ansible beyond YAML\", \"Bytes in the Machine: Inside the CPython interpreter\", \"Python in the browser: a weird and wonderful compiler journey from RPython to C to JavaScript\", \"Smart services & smart clients:  How micro-services change the way you build and deploy code.\", \"Statistical inference with computational methods\", \"What to do when you need crypto\", \"TDD with Django, from scratch: a beginner's intro to testing and web development\", \"PostgreSQL Proficiency for Python People\", \"The Ethical Consequences Of Our Collective Activities\", \"Robots Robots Ra Ra Ra!!!\", \"What can programmers learn from pilots?\", \"Cutting Off the Internet: Testing Applications that Use Requests\", \"Make web development awesome with visual diffing tools\", \"Porting Python to run without an OS\", \"Investigating Python Wats\", \"Interactive data for the web - Bokeh for web developers\", \"Super considered super!\", \"Avoiding Burnout, and other essentials of Open Source Self-Care\", \"Fabric, SaltStack, and Ansible: DevOps'ing with Python\", \"Winning Machine Learning Competitions With Scikit-Learn\", \"I18N: World Domination the Easy Way\", \"Demystifying Docker\", \"WebSockets from the Wire Up\", \"Practical Graph/Network Analysis Made Simple\", \"A Dive into TLS\", \"Machine Learning 101\", \"A hands-on introduction to Python for beginning programmers\", \"To ORM or not to ORM\", \"Other people's messy data (and how not to hate it!)\", \"Choose Your Own WSGI Deployment Adventure\", \"Slithering Into Elasticsearch\", \"Schemas for the Real World\", \"Building secure systems\", \"Beyond grep: Practical Logging and Metrics\", \"Getting comfortable with web security: A hands-on session\", \"Introduction to Spark with python\", \"Seasoning Python Web Applications with React.js\", \"Type python, press enter. What happens?\", \"Docker 101: Introduction to Docker\", \"Techniques for Debugging Hard Problems\", \"Lessons learned with asyncio (\\\"Look ma, I wrote a distributed hash table!\\\")\", \"Hyperactive: HTTP/2 and Python\", \"How to make your code Python 2/3 compatible\", \"Finding Your Groove: Contributing to CPython and Beyond\", \"\\\"Words, words, words\\\": Reading Shakespeare with Python\", \"A Winning Strategy with The Weakest Link: how to use weak references to make your code more robust\", \"Open Source for Newcomers and the People Who Want to Welcome Them\", \"Python by Immersion\", \"Django in Depth\", \"Hands-on Data Analysis with Python\", \"Serialization formats are not toys\", \"Neural Nets for Newbies\", \"How our engineering environments are killing diversity (and how we can fix it).\", \"Python Concurrency From the Ground Up: LIVE!\", \"Where in your RAM is \\\"python san_diego.py\\\"?\", \"What Python can learn from Erlang?\", \"Build and test wheel packages on Linux, OSX & Windows\", \"Achieving Continuous Delivery: An Automation Story\", \"Intro to 3D Graphics with Blender and the Blender API\", \"Using Supervisor For Fun And Profit\", \"streamparse: real-time streams with Python and Apache Storm\", \"A Beginner's Guide to Test-driven Development\", \"PyPy.js: What? How? Why?\", \"Grids, Streets and Pipelines: Building a linguistic street map with scikit-learn\", \"Oh, Come On. Who Needs Bytearrays?\", \"Managing Your Infrastructure with SaltStack\", \"Make your own Smart Air Conditioner\", \"Systems programming as a swiss army knife\", \"How to start web scraping\", \"Free Software, Free People\", \"Exploring is never boring: understanding CPython without reading the code\", \"Is Your REST API RESTful?\", \"Machine Learning with Scikit-Learn (I)\", \"Describing Descriptors\", \"Getting to Jython 2.7 and beyond\", \"Satellite mapping for everyone\", \"Shiny, Let's Be Bad Guys: Exploiting and Mitigating the Top 10 Web App Vulnerabilities\", \"The REST Ascendancy\", \"3D Print Anything with the Blender API\", \"Bayesian statistics made simple\", \"Python Performance Profiling: The Guts And The Glory\", \"Descriptors and Metaclasses - Understanding and Using Python's More Advanced Features\", \"Beyond PEP 8 -- Best practices for beautiful intelligible code\", \"Learning from other's mistakes: Data-driven analysis of Python code\", \"Python Epiphanies\", \"Generators:  The Final Frontier\"], \"voffset\": 10, \"location\": \"mouse\", \"id\": \"el34734604420336\"}], \"data\": {\"data01\": [[-18.106677055700523, -0.28585066520684194], [-6.574306110222138, 4.336363011597662], [-38.35142021403943, -27.460069885020168], [-0.6676739666199881, 1.267867596544954], [-18.483180414476216, 4.75429443514351], [-40.829530658699404, 55.65627162439771], [-8.139069775275852, 54.77132378587461], [-9.221684491896973, 4.0761794711164825], [10.676680740421476, -50.66655566343163], [55.99046418449634, -13.28584224821967], [42.29450937801024, -26.072485204960582], [-16.463457101205513, 20.155376439652578], [-6.2588754754979306, -40.71326530630259], [-0.1428007005121976, -1.3475571944380824], [-3.3656495754522684, -41.863916921924165], [22.0320672758139, 18.40064021120045], [-25.580782466122667, -18.103976631069827], [-5.118411149428113, 4.8448289189207445], [-27.421691484065118, 10.39050652752338], [-25.160889233507326, -18.7602003420871], [-6.47797902776361, 55.13349185559184], [29.73277161462044, 20.622927557920626], [29.832079402203284, -46.045950620205396], [-13.275023335446102, 16.135237590023014], [-4.092900283630408, -44.67764927586314], [11.388033911908702, -50.40887872213229], [2.50491538267795, -50.171041751778716], [-1.4847794292399668, 4.837341084063494], [-38.23718006907154, -26.49732205755841], [-9.352138057454512, -22.82788951851681], [-78.54656389584243, -41.211496746340195], [-32.89818681195054, 5.679076312679686], [-79.10259830432156, -41.39566630273167], [-34.781779887916485, 6.3056897445011515], [-4.444007880756927, -41.034853029625246], [-13.944635577076852, 15.407182352097685], [50.291854446625024, 40.74183112530338], [-3.2686423614742943, 3.415049648460395], [-5.877209851842308, 16.77534877783417], [29.350724186980408, 21.73381306908686], [-42.50245470938115, 57.4693575103619], [-14.082175520622291, 11.864976829706942], [-7.456092836398294, -2.9845500286142816], [-43.76052329189159, 56.33108391170539], [4.685994744491095, -19.362429380466676], [2.8102745692507067, -16.619156886822303], [52.73108329596701, 40.82662497670586], [-37.68289326539878, -24.761143024011893], [-2.918113738342108, -38.52856983714682], [-6.007280472332171, 2.8643749971565255], [-14.413927824751791, -24.05089072701465], [13.857503937890234, -21.807095252932818], [24.64602091824091, 57.3497939012482], [41.0159651520365, -26.031039195761654], [13.240796553869274, 24.92044922665018], [29.46596970173526, 2.633643072720841], [-27.927987343803515, 9.158733766340863], [-11.273510076698875, 4.889325122850632], [-2.616299095918589, -30.133550020187478], [-39.37216794795736, 59.01820277746219], [-18.426298869271733, -29.23983095340449], [-7.24418955474098, 53.308598613036445], [-18.68722555798757, 2.142653556170189], [-7.636465577473043, 56.46776770777798], [28.257336769099656, 19.811630137384824], [29.16443458153365, 18.46158143404618], [15.677386933843165, 20.09194972513304], [-23.03013691205027, -18.909826815989778], [9.04571679399854, -39.709357719739934], [-8.598859310457849, -1.664215883930968], [-16.72544039235264, 2.420016042407786], [41.64063358477564, -24.85648344841881], [25.11375516157168, 59.05059910110756], [-43.24150769723687, 59.00043180623349], [-20.989948709367926, 3.2788764652514915], [8.987905853706547, -8.125897437273492], [1.7825610945209487, -53.963027353307645], [2.1912056734251584, -12.707544712086156], [23.681024484120275, 59.33848036395325], [-46.2779429266574, -28.37142506192181], [-18.334762090142902, -28.335991684422073], [1.2233556935243506, -54.87222326247506], [8.03417775973036, 14.070254655802652], [-5.015032833015904, -29.298449802651508], [-6.498405803885919, 7.366631283424535], [56.98699011445667, 40.94911548893503], [7.10902217702638, 11.419491252013316], [55.17136972149602, 38.85148846064624], [3.352407548588425, -18.853202124872794], [9.45860343149771, 15.944513076943917], [13.358744303547995, 23.415527959461876], [-29.296647733878764, 6.689135137231321], [9.47540916636275, -9.807275190413078], [4.99755555448182, -1.7336561078040653], [3.105846095949033, 10.001131035661958], [-10.060303054084454, -2.891004220070069], [13.883435986975783, 20.9952160989928], [-4.154304708169245, -29.56832186663519], [56.84237691666183, -13.541852728777755], [-20.469596946421827, 0.3372220912316773], [-40.694117626730744, -26.44180404992418], [-41.139969293957854, 57.15182528239784], [3.4914734989693517, -55.67199139697752], [51.53686379340746, 40.91276407583865], [9.814508379747094, -10.693289593044133], [-16.949706963844932, 21.065477711028393], [3.5712566262068046, -1.0597185781843947], [58.44213760744333, -14.02384624478001], [2.9934600066629655, -14.484094465569449], [2.357295776993368, 3.1168822256116986], [-34.2402868175219, 3.0887991839937023], [48.49802370282685, 5.827324497662805], [7.458892691272833, 10.480305793523218], [-5.096049257621162, -45.78587849098573], [24.22466720626583, 18.83191492100686], [28.85709188417701, 3.091642876935733], [30.504406035661255, -46.17652334164238], [1.723567868271279, -20.80381125565823], [-32.54409014542622, 4.6805593461366435], [-6.579360402921406, 15.614238637049056], [-43.28132209283206, -27.95830361863005], [8.375449467288641, -40.52678292439957], [-7.446385964930875, 51.773550072464964], [13.256656659151416, 20.369818270400778], [50.34134250763242, 6.844413804051021], [24.37081703560444, 60.570181135171126], [-13.209876114593039, -22.44432886836526], [0.5517536040740278, 0.4756512603167067], [2.254364104492456, -52.076000410179724], [56.53599530947256, 39.544127163755114], [10.753913750063141, 17.4032119373839], [49.065502817630424, 5.252767993444587], [-17.736009988644515, 22.5618181783069], [14.648383494316906, -22.118507714444316], [-44.33021450506287, -27.92135220462274], [-11.54997814373282, -22.458252777187454], [-2.083261622374862, -42.27210108310537], [48.5340597616313, 41.63827274049524]]}, \"id\": \"el34734604324552\", \"width\": 1000.0, \"height\": 600.0, \"axes\": [{\"lines\": [], \"axesbgalpha\": null, \"sharey\": [], \"texts\": [{\"coordinates\": \"axes\", \"rotation\": -0.0, \"position\": [0.5, 1.01194743130227], \"zorder\": 3, \"id\": \"el34734604379992\", \"fontsize\": 20.0, \"alpha\": 1, \"text\": \"Pycon Talks by NMF Topic\", \"v_baseline\": \"auto\", \"h_anchor\": \"middle\", \"color\": \"#000000\"}], \"xdomain\": [-100.0, 80.0], \"ydomain\": [-80.0, 80.0], \"xscale\": \"linear\", \"images\": [], \"sharex\": [], \"collections\": [{\"edgecolors\": [\"#000000\"], \"zorder\": 1, \"offsets\": \"data01\", \"pathcoordinates\": \"display\", \"id\": \"el34734604420336\", \"alphas\": [0.4], \"offsetcoordinates\": \"data\", \"paths\": [[[[0.0, -0.5], [0.13260155, -0.5], [0.25978993539242673, -0.44731684579412084], [0.3535533905932738, -0.3535533905932738], [0.44731684579412084, -0.25978993539242673], [0.5, -0.13260155], [0.5, 0.0], [0.5, 0.13260155], [0.44731684579412084, 0.25978993539242673], [0.3535533905932738, 0.3535533905932738], [0.25978993539242673, 0.44731684579412084], [0.13260155, 0.5], [0.0, 0.5], [-0.13260155, 0.5], [-0.25978993539242673, 0.44731684579412084], [-0.3535533905932738, 0.3535533905932738], [-0.44731684579412084, 0.25978993539242673], [-0.5, 0.13260155], [-0.5, 0.0], [-0.5, -0.13260155], [-0.44731684579412084, -0.25978993539242673], [-0.3535533905932738, -0.3535533905932738], [-0.25978993539242673, -0.44731684579412084], [-0.13260155, -0.5], [0.0, -0.5]], [\"M\", \"C\", \"C\", \"C\", \"C\", \"C\", \"C\", \"C\", \"C\", \"Z\"]]], \"yindex\": 1, \"pathtransforms\": [[15.315609724544693, 0.0, 0.0, 15.315609724544693, 0.0, 0.0]], \"facecolors\": [\"#00007F\", \"#DDFF18\", \"#00A4FF\", \"#0000EC\", \"#FFB900\", \"#0010FF\", \"#FFB900\", \"#DDFF18\", \"#0000EC\", \"#FF5C00\", \"#18FFDD\", \"#DDFF18\", \"#0000EC\", \"#FF3000\", \"#0000EC\", \"#0070FF\", \"#B7FF3F\", \"#FFB900\", \"#FFE500\", \"#B7FF3F\", \"#FFB900\", \"#0070FF\", \"#0000B6\", \"#DDFF18\", \"#0000EC\", \"#0000EC\", \"#0000EC\", \"#FFB900\", \"#00A4FF\", \"#00D4FF\", \"#FF3000\", \"#18FFDD\", \"#FF3000\", \"#DDFF18\", \"#0000EC\", \"#DDFF18\", \"#B7FF3F\", \"#FFB900\", \"#0040FF\", \"#0070FF\", \"#0010FF\", \"#DDFF18\", \"#DDFF18\", \"#0010FF\", \"#66FF90\", \"#00A4FF\", \"#90FF66\", \"#00A4FF\", \"#0000EC\", \"#7F0000\", \"#B60000\", \"#66FF90\", \"#0000B6\", \"#18FFDD\", \"#FF8900\", \"#FF8900\", \"#FFE500\", \"#DDFF18\", \"#0000EC\", \"#0010FF\", \"#B60000\", \"#FFB900\", \"#00007F\", \"#FFB900\", \"#0070FF\", \"#0070FF\", \"#FF8900\", \"#B7FF3F\", \"#EC0300\", \"#B7FF3F\", \"#DDFF18\", \"#18FFDD\", \"#0000B6\", \"#0010FF\", \"#00007F\", \"#DDFF18\", \"#0000EC\", \"#66FF90\", \"#0000B6\", \"#00A4FF\", \"#B60000\", \"#0000EC\", \"#EC0300\", \"#0000EC\", \"#DDFF18\", \"#90FF66\", \"#EC0300\", \"#90FF66\", \"#66FF90\", \"#EC0300\", \"#FF8900\", \"#18FFDD\", \"#DDFF18\", \"#3FFFB7\", \"#EC0300\", \"#7F0000\", \"#FF8900\", \"#0000EC\", \"#FF5C00\", \"#00007F\", \"#00A4FF\", \"#0010FF\", \"#0000EC\", \"#90FF66\", \"#DDFF18\", \"#DDFF18\", \"#3FFFB7\", \"#FF5C00\", \"#66FF90\", \"#0070FF\", \"#18FFDD\", \"#7F0000\", \"#7F0000\", \"#0000EC\", \"#0070FF\", \"#FF8900\", \"#0000B6\", \"#66FF90\", \"#18FFDD\", \"#DDFF18\", \"#00A4FF\", \"#0000EC\", \"#FFB900\", \"#FF8900\", \"#7F0000\", \"#0000B6\", \"#B7FF3F\", \"#FF5C00\", \"#0000EC\", \"#90FF66\", \"#7F0000\", \"#7F0000\", \"#DDFF18\", \"#66FF90\", \"#00A4FF\", \"#B60000\", \"#0000EC\", \"#B7FF3F\"], \"edgewidths\": [1.0], \"xindex\": 0}], \"bbox\": [0.125, 0.125, 0.775, 0.775], \"id\": \"el34734604148312\", \"axes\": [{\"nticks\": 10, \"scale\": \"linear\", \"position\": \"bottom\", \"fontsize\": 10.0, \"tickformat\": null, \"tickvalues\": null, \"grid\": {\"gridOn\": false}}, {\"nticks\": 9, \"scale\": \"linear\", \"position\": \"left\", \"fontsize\": 10.0, \"tickformat\": null, \"tickvalues\": null, \"grid\": {\"gridOn\": false}}], \"markers\": [], \"paths\": [], \"xlim\": [-100.0, 80.0], \"yscale\": \"linear\", \"zoomable\": true, \"axesbg\": \"#FFFFFF\", \"ylim\": [-80.0, 80.0]}]});\n",
        "            })\n",
        "         });\n",
        "}\n",
        "</script>"
       ],
       "metadata": {},
       "output_type": "display_data",
       "png": "[encoded data removed]",
       "text": [
        "<matplotlib.figure.Figure at 0x112706ac8>"
       ]
      }
     ],
     "prompt_number": 40
    },
    {
     "cell_type": "markdown",
     "metadata": {},
     "source": [
      "[TOC](#Table-of-Contents)  "
     ]
    },
    {
     "cell_type": "code",
     "collapsed": false,
     "input": [],
     "language": "python",
     "metadata": {},
     "outputs": []
    }
   ],
   "metadata": {}
  }
 ]
}