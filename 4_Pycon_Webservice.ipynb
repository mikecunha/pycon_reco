{
 "metadata": {
  "name": "",
  "signature": "sha256:406127869cca568a14068303d374f659c9ecab047d35b30e89e487719ed1242c"
 },
 "nbformat": 3,
 "nbformat_minor": 0,
 "worksheets": [
  {
   "cells": [
    {
     "cell_type": "heading",
     "level": 1,
     "metadata": {},
     "source": [
      "Simple web service using bottle.py"
     ]
    },
    {
     "cell_type": "markdown",
     "metadata": {},
     "source": [
      "A very light-weight webservice that handles ajax requests from a pycon talk recommender web app.  \n",
      "  \n",
      "The rest of the project can be found on github: [https://github.com/mikecunha/pycon_reco](https://github.com/mikecunha/pycon_reco)"
     ]
    },
    {
     "cell_type": "code",
     "collapsed": false,
     "input": [
      "%%writefile app/pycon_service.py\n",
      "#!/usr/bin/env python3\n",
      "\n",
      "from bottle import route, run, request, static_file, get, response, hook\n",
      "import pymongo\n",
      "\n",
      "from datetime import datetime\n",
      "from os import path, urandom\n",
      "from base64 import b64encode\n",
      "import sys\n",
      "import re\n",
      "\n",
      "try:\n",
      "    client = pymongo.MongoClient('127.0.0.1', 27017, tz_aware=True)\n",
      "    db = client.pycon\n",
      "except:\n",
      "    db = False\n",
      "\n",
      "# for session id's in cookies\n",
      "def generate_session():\n",
      "    return str(b64encode(os.urandom(16)))\n",
      "\n",
      "\n",
      "# read in related docs index\n",
      "related_docs = {}\n",
      "with open('rel_talks.txt', mode='rt', encoding='utf-8') as myfile:\n",
      "    for doc_num, line in enumerate( myfile ):\n",
      "        related_docs[str(doc_num)] = line.strip(\"\\n\").split(',')\n",
      "\n",
      "\n",
      "rx = re.compile(u'([\\u2014\\-\\u2019\\n]|\\.|\\(|\\)|\\:|;|/|\\[|\\])', flags=re.UNICODE)\n",
      "\n",
      "def sim_talks( dstring ):\n",
      "    \"\"\" splits string of comma-delim docs into a list\"\"\"\n",
      "    \n",
      "    dstring = dstring.lower().strip(',')\n",
      "    \n",
      "    # replace punctuation with spaces\n",
      "    dstring = rx.sub(\" \", dstring )\n",
      "    \n",
      "    return [ doc_num.strip() for doc_num in dstring.split(',') ]\n",
      "    \n",
      "    \n",
      "@route( '/rec', method='POST' )\n",
      "def rec():\n",
      "    \"\"\"Handle ajax requests for related talks given a list \n",
      "    of doc ID's, return a list of related doc ID's \"\"\"\n",
      "    \n",
      "    # FIXME do a proper connection class\n",
      "    global db\n",
      "    global client\n",
      "    \n",
      "    # Get list of requested talks to find rec's for\n",
      "    response_val = { \"talks\": [] }\n",
      "    inputval = request.forms.get('t')\n",
      "    if inputval == None:\n",
      "        return response_val\n",
      "    elif inputval.strip(',') == '':\n",
      "        return response_val\n",
      "    else: \n",
      "        favd_docs = sim_talks( inputval )\n",
      "        \n",
      "    for fdoc in favd_docs:\n",
      "        [ response_val['talks'].append(doc_id) for doc_id in related_docs[fdoc] ]\n",
      "        \n",
      "    if not db:\n",
      "        # no databse, skip sessions and logging\n",
      "        return response_val\n",
      "    \n",
      "    # handle user-session and logging\n",
      "    if request.get_cookie(\"uid\"):\n",
      "        uid = request.get_cookie(\"uid\")\n",
      "    else:\n",
      "        uid = generate_session()\n",
      "        # 2592000 (30 days of seconds)\n",
      "        response.set_cookie(\"uid\", uid, secret=None, max_age=2592000 )\n",
      "        \n",
      "    # Gather info for logging and building a training set\n",
      "    ip = request.get('REMOTE_ADDR')\n",
      "    ua = request.get('HTTP_USER_AGENT')\n",
      "    dt = datetime.now()\n",
      "        \n",
      "    # log favs to db for future training set\n",
      "    try:\n",
      "        db.sessions.update(\n",
      "        { \"_id\": uid },\n",
      "        { \"$push\": \n",
      "          { \"favs\": \n",
      "            { \"talks\": inputval.lower().strip(',').replace(\"$\",\"\"), \n",
      "              \"ip\": ip, \n",
      "              \"user_agent\": ua, \n",
      "              \"time\": dt } \n",
      "          }, \"$inc\": { \"num_of_queries\":1}\n",
      "        },    \n",
      "        upsert=True )\n",
      "    except:\n",
      "        # FIXME handle this better\n",
      "        client = pymongo.MongoClient('127.0.0.1', 27017, tz_aware=True)\n",
      "        db = client.pycon\n",
      "\n",
      "    return response_val\n",
      "\n",
      "\n",
      "@route('/milk_and', method='POST') \n",
      "def cookie():\n",
      "    \n",
      "    if request.get_cookie(\"uid\"):\n",
      "        return { }\n",
      "    else:\n",
      "        uid = generate_session()\n",
      "        # 2592000 (30 days in seconds)\n",
      "        response.set_cookie(\"uid\", uid, secret=None, max_age=2592000 )\n",
      "\n",
      "    return { }\n",
      "\n",
      "if __name__ == '__main__':\n",
      "    \n",
      "    # need this if you're not serving the html page on localhost \n",
      "    # e.g. you're using file:///* in the browser\n",
      "    @hook('after_request')\n",
      "    def enable_cors():\n",
      "        response.headers['Access-Control-Allow-Origin'] = '*'\n",
      "    \n",
      "    run(host='localhost', port=8181)"
     ],
     "language": "python",
     "metadata": {},
     "outputs": [
      {
       "output_type": "stream",
       "stream": "stdout",
       "text": [
        "Overwriting app/pycon_service.py\n"
       ]
      }
     ],
     "prompt_number": 2
    },
    {
     "cell_type": "heading",
     "level": 2,
     "metadata": {},
     "source": [
      "To deploy via wsgi"
     ]
    },
    {
     "cell_type": "code",
     "collapsed": false,
     "input": [
      "%%writefile app/pycon_adapter.wsgi\n",
      "import sys, os, bottle\n",
      "\n",
      "sys.path = ['/path/to/apache/www/'] + sys.path\n",
      "os.chdir(os.path.dirname(__file__))\n",
      "\n",
      "os.environ[ 'MPLCONFIGDIR' ] = '/tmp/'\n",
      "\n",
      "import pycon_service # This loads your application\n",
      "\n",
      "application = bottle.default_app()"
     ],
     "language": "python",
     "metadata": {},
     "outputs": [
      {
       "output_type": "stream",
       "stream": "stdout",
       "text": [
        "Overwriting app/pycon_adapter.wsgi\n"
       ]
      }
     ],
     "prompt_number": 3
    }
   ],
   "metadata": {}
  }
 ]
}