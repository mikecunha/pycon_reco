{
 "metadata": {
  "name": "",
  "signature": "sha256:ea4bbe3c77ec8dc660355454f390718c5e29f039ff9b02d08e091e016e674277"
 },
 "nbformat": 3,
 "nbformat_minor": 0,
 "worksheets": [
  {
   "cells": [
    {
     "cell_type": "heading",
     "level": 1,
     "metadata": {},
     "source": [
      "TOC"
     ]
    },
    {
     "cell_type": "markdown",
     "metadata": {},
     "source": [
      "- [Javascript](#Javascript)\n",
      "- [CSS](#CSS)\n",
      "- [HTML](#HTML)\n",
      "  - [Generate List Items](#Generate-List-Items)\n",
      "- [Preview the App](#Preview)"
     ]
    },
    {
     "cell_type": "heading",
     "level": 2,
     "metadata": {},
     "source": [
      "Javascript"
     ]
    },
    {
     "cell_type": "code",
     "collapsed": false,
     "input": [
      "%%writefile app/scripts/pytalk.js\n",
      "function update_related(r) {\n",
      "    \n",
      "    $(\"a.favButton\").removeClass(\"recd\");\n",
      "\n",
      "    for(var i=0; i<r.talks.length; i++) {\n",
      "        var obj = r.talks[i];\n",
      "        $(\"#\" + obj ).addClass(\"recd\");\n",
      "    } \n",
      "\n",
      "    //update nav buttons\n",
      "    var rec_count = r.talks.length;\n",
      "    $(\"#recs\").text(\"Recommended (\" + rec_count +\")\");\n",
      "\n",
      "    return false;\n",
      "}\n",
      "\n",
      "$('div').live('pageinit', function(){\n",
      "\n",
      "    $(\"a.favButton\").click(function(){\n",
      "\n",
      "        $(this).toggleClass('favd');\n",
      "        $(this).toggleClass('ui-alt-icon');\n",
      "\n",
      "        var sel_talks=\"\";\n",
      "        var fav_count=0;\n",
      "              $('.favd').each(function() {\n",
      "                    sel_talks += \",\" + this.id;\n",
      "        fav_count += 1;\n",
      "              });\n",
      "\n",
      "        //update nav buttons\n",
      "        $(\"#favs\").text(\"Favs (\" + fav_count +\")\");\n",
      "\n",
      "        $.ajax({type: \"POST\",\n",
      "                url: \"http://localhost:8181/rec\",\n",
      "                data: { t: sel_talks},\n",
      "                cache: false,\n",
      "                success: function(resp){\n",
      "                    update_related(resp);\n",
      "                }\n",
      "        });\n",
      "    });\n",
      "\n",
      "    $(\"li a\").click(function(){\n",
      "        $(this).find(\"p.talk-time\").toggle();\n",
      "        $(this).find(\"p.li-details\").toggleClass('expanded');\n",
      "    });\n",
      "\n",
      "    $(\"#recs\").click(function(){\n",
      "        $(\"a.favButton:not(.recd)\").parent().hide();\n",
      "        $(\".recd\").parent().show();\n",
      "    });\n",
      "\n",
      "    $(\"#favs\").click(function(){\n",
      "        $(\"a.favButton:not(.favd)\").parent().hide();\n",
      "        $(\".favd\").parent().show();\n",
      "    });\n",
      "\n",
      "    $(\"#allT\").click(function(){\n",
      "        $(\"li\").show();\n",
      "    });\n",
      "\n",
      "});"
     ],
     "language": "python",
     "metadata": {},
     "outputs": [
      {
       "output_type": "stream",
       "stream": "stdout",
       "text": [
        "Overwriting app/scripts/pytalk.js\n"
       ]
      }
     ],
     "prompt_number": 1
    },
    {
     "cell_type": "heading",
     "level": 2,
     "metadata": {},
     "source": [
      "CSS"
     ]
    },
    {
     "cell_type": "markdown",
     "metadata": {},
     "source": [
      "[TOC](#TOC)"
     ]
    },
    {
     "cell_type": "code",
     "collapsed": false,
     "input": [
      "%%writefile app/css/pytalk.css\n",
      "<style>\n",
      "    .ui-btn-no-text_wider {\n",
      "        width: 60px !important;\n",
      "    }\n",
      "\n",
      "    .favd:after {\n",
      "        background-color:yellow !important;\n",
      "    }\n",
      "            \n",
      "    /*\n",
      "    ul li .ui-btn:after {\n",
      "        background-color: #4da6ff;\n",
      "    }\n",
      "    */\n",
      "\n",
      "    ul li h2 {\n",
      "        padding-right: 4em !important;\n",
      "    }\n",
      "\n",
      "    ul li h2, .li-details.expanded {\n",
      "        white-space: pre !important;           /* CSS 2.0 */\n",
      "        white-space: pre-wrap !important;      /* CSS 2.1 */\n",
      "        white-space: pre-line !important;      /* CSS 3.0 */\n",
      "        white-space: -pre-wrap !important;     /* Opera 4-6 */\n",
      "        white-space: -o-pre-wrap !important;   /* Opera 7 */\n",
      "        white-space: -moz-pre-wrap !important; /* Mozilla */\n",
      "        white-space: -hp-pre-wrap !important;  /* HP Printers */\n",
      "        word-wrap: break-word;      /* IE 5+ */\n",
      "    }\n",
      "</style>"
     ],
     "language": "python",
     "metadata": {},
     "outputs": [
      {
       "output_type": "stream",
       "stream": "stdout",
       "text": [
        "Overwriting app/css/pytalk.css\n"
       ]
      }
     ],
     "prompt_number": 2
    },
    {
     "cell_type": "heading",
     "level": 2,
     "metadata": {},
     "source": [
      "HTML"
     ]
    },
    {
     "cell_type": "markdown",
     "metadata": {},
     "source": [
      "[TOC](#TOC)"
     ]
    },
    {
     "cell_type": "code",
     "collapsed": false,
     "input": [
      "%%writefile app/pytalk.html\n",
      "<!doctype html>\n",
      "<html>\n",
      "<head>\n",
      "    <title>Pycon Talk Reco</title>\n",
      "    <meta name=\"viewport\" content=\"width=device-width, initial-scale=1\">\n",
      "    <link rel=\"stylesheet\" href=\"https://code.jquery.com/mobile/1.4.5/jquery.mobile-1.4.5.min.css\">\n",
      "    <link rel=\"stylesheet\" type=\"text/css\" href=\"css/pytalk.css\">\n",
      "    <script src=\"https://code.jquery.com/jquery-1.8.2.min.js\"></script>\n",
      "    <script src=\"https://code.jquery.com/mobile/1.4.5/jquery.mobile-1.4.5.min.js\"></script>\n",
      "    <script src=\"scripts/pytalk.js\"></script>\n",
      "</head>\n",
      "<body>\n",
      "    <div data-role=\"page\" id=\"home\">\n",
      "\n",
      "    <!-- default panel  -->\n",
      "    <div data-role=\"panel\" id=\"defaultpanel\" data-position-fixed=\"true\">\n",
      "        <h3>Default panel options</h3>\n",
      "        <p>To close, click off the panel, swipe left or right, hit the Esc keyuse the button below:</p>\n",
      "    </div><!-- /default panel -->\n",
      "\n",
      "        <div data-role=\"header\" data-position=\"fixed\">\n",
      "            <h1>Pycon 2015 Talks</h1>\n",
      "\n",
      "            <div data-role=\"navbar\" data-iconpos=\"top\">\n",
      "            <ul>\n",
      "            <li><a id=\"allT\" data-icon=\"grid\" class=\"ui-btn-active\">All Talks</a></li>\n",
      "            <li><a id=\"favs\" data-icon=\"star\">Favs</a></li>\n",
      "            <li><a id=\"recs\" data-icon=\"gear\">Recommended</a></li>\n",
      "                </ul>\n",
      "            </div><!-- /navbar -->\n",
      "    \n",
      "        </div><!-- /header -->\n",
      "\n",
      "    <div data-role=\"content\">\n",
      "            <ul data-role=\"listview\" data-filter=\"true\" class=\"\">\n",
      "                $item_list\n",
      "            </ul>\n",
      "        </div><!-- /content -->\n",
      " \n",
      "        <div data-role=\"footer\">\n",
      "            <h4>My Footer</h4>\n",
      "        </div><!-- /footer -->\n",
      " \n",
      "    </div><!-- /page -->\n",
      "</body>\n",
      "</html>"
     ],
     "language": "python",
     "metadata": {},
     "outputs": [
      {
       "output_type": "stream",
       "stream": "stdout",
       "text": [
        "Writing app/pytalk.html\n"
       ]
      }
     ],
     "prompt_number": 3
    },
    {
     "cell_type": "heading",
     "level": 3,
     "metadata": {},
     "source": [
      "Generate List Items"
     ]
    },
    {
     "cell_type": "markdown",
     "metadata": {},
     "source": [
      "[TOC](#TOC)"
     ]
    },
    {
     "cell_type": "code",
     "collapsed": false,
     "input": [
      "import fileinput\n",
      "import pandas as pd\n",
      "import html\n",
      "\n",
      "cur_talks = pd.read_csv( 'data/pycon_talks_2015.csv', sep=\"\\t\" )\n",
      "\n",
      "def uni_to_HTML_ent(text):\n",
      "    \"\"\"Converts unicode to HTML entities.  For example '&' becomes '&amp;'.\"\"\"\n",
      "    return html.escape(text).encode('ascii', 'xmlcharrefreplace').decode()\n",
      "\n",
      "item_list = ''\n",
      "for ind, t in cur_talks.iterrows():\n",
      "    \n",
      "    item_list += \"\"\"<li><a href=\"\">\n",
      "                 <h2>\"\"\" + uni_to_HTML_ent( t.title ) + \"\"\"</h2>\n",
      "                 <p><strong>\"\"\" + uni_to_HTML_ent( t.author ) + \"\"\"</strong></p>\n",
      "                 <p class=\"li-details\">\"\"\" + uni_to_HTML_ent( t.desc ) + \"\"\"</p>\n",
      "                 <p class=\"ui-li-aside talk-time\" style=\"display: none\"><strong>\"\"\" + t.weekday + \"\"\"</strong></p>\n",
      "                 </a>\n",
      "                 <a id=\"\"\" +'\"'+ str(ind) +'\"'+ \"\"\" class=\"ui-btn ui-btn-no-text_wider favButton\" data-icon=\"star\"></a></li>\n",
      "                 \"\"\"    \n",
      "item_list = item_list.strip()\n",
      "\n",
      "for line in fileinput.input('app/pytalk.html', inplace=True):\n",
      "    print(line.replace('$item_list', item_list), end='')"
     ],
     "language": "python",
     "metadata": {},
     "outputs": [],
     "prompt_number": 4
    },
    {
     "cell_type": "heading",
     "level": 2,
     "metadata": {},
     "source": [
      "Preview"
     ]
    },
    {
     "cell_type": "markdown",
     "metadata": {},
     "source": [
      "[TOC](#TOC)  \n",
      "  \n",
      "**`cd`** into the **`app`** directory and start the webservice:  \n",
      "**`python3 python_service.py`**  \n",
      "  \n",
      "### Note if you're viewing this on nbviewer.ipython.org no recommendations will be made without the web-service running"
     ]
    },
    {
     "cell_type": "code",
     "collapsed": false,
     "input": [
      "%%HTML\n",
      "<iframe src=\"app/pytalk.html\" width=500 height=600></iframe>"
     ],
     "language": "python",
     "metadata": {},
     "outputs": [
      {
       "html": [
        "<iframe src=\"app/pytalk.html\" width=500 height=600></iframe>"
       ],
       "metadata": {},
       "output_type": "display_data",
       "text": [
        "<IPython.core.display.HTML at 0x10df2c6a0>"
       ]
      }
     ],
     "prompt_number": 6
    },
    {
     "cell_type": "code",
     "collapsed": false,
     "input": [],
     "language": "python",
     "metadata": {},
     "outputs": []
    }
   ],
   "metadata": {}
  }
 ]
}